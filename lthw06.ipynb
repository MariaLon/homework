{
  "nbformat": 4,
  "nbformat_minor": 0,
  "metadata": {
    "colab": {
      "provenance": [],
      "authorship_tag": "ABX9TyN6UKb1SBmIWvdBBeiLwNkT",
      "include_colab_link": true
    },
    "kernelspec": {
      "name": "python3",
      "display_name": "Python 3"
    },
    "language_info": {
      "name": "python"
    }
  },
  "cells": [
    {
      "cell_type": "markdown",
      "metadata": {
        "id": "view-in-github",
        "colab_type": "text"
      },
      "source": [
        "<a href=\"https://colab.research.google.com/github/MariaLon/homework/blob/lthw06/lthw06.ipynb\" target=\"_parent\"><img src=\"https://colab.research.google.com/assets/colab-badge.svg\" alt=\"Open In Colab\"/></a>"
      ]
    },
    {
      "cell_type": "markdown",
      "source": [
        "Задача 1.\n",
        "Напишите функцию, которая будет принимать числа от 1 до 10 и заменять их на слова: 1 = один, 2 = два и т.п."
      ],
      "metadata": {
        "id": "JMDx5aKLUZq2"
      }
    },
    {
      "cell_type": "code",
      "source": [
        "def myfunc(num):\n",
        "  D = {1: 'один', 2: 'два', 3: 'три', 4: 'четыре', 5: 'пять', 6: 'шесть', 7: 'семь', 8: 'восемь', 9: 'девять', 10: 'десять'}\n",
        "  if num in D:\n",
        "    return D[num]\n",
        "  else:\n",
        "    return num\n",
        "\n",
        "print (myfunc(int(input())))"
      ],
      "metadata": {
        "id": "gzxBeGHOUddg",
        "colab": {
          "base_uri": "https://localhost:8080/"
        },
        "outputId": "a0bd5f69-0b13-4fb5-ffd5-296cff8744f2"
      },
      "execution_count": 14,
      "outputs": [
        {
          "output_type": "stream",
          "name": "stdout",
          "text": [
            "7\n",
            "семь\n"
          ]
        }
      ]
    },
    {
      "cell_type": "markdown",
      "source": [
        "Задача 2.\n",
        "Скрэмбл. Пользователь вводит две строки (в каждой строке какое-то слово). Напишите функцию, которая будет проверять, что из букв строки 1 можно составить слово в строке 2, причем количество букв тоже нужно учитывать: нельзя составить слово \"мама\" из слова \"марокко\". Функция должна возвращать True или False. Вам помогут какие-то словари."
      ],
      "metadata": {
        "id": "jR3ZgSzxUd4w"
      }
    },
    {
      "cell_type": "code",
      "source": [
        "def scramble(Wfull, Wnew):\n",
        "  D = dict()\n",
        "  for c in Wfull:\n",
        "    if c in D:\n",
        "      D[c] += 1\n",
        "    else:\n",
        "      D[c] = 1\n",
        "  res = True\n",
        "  for c in Wnew:\n",
        "    if c in D and D[c] > 0:\n",
        "      D[c] -= 1\n",
        "    else:\n",
        "      res = False\n",
        "      break\n",
        "  return res\n",
        "\n",
        "\n",
        "word1 = input()\n",
        "word2 = input()\n",
        "print(scramble(word1,word2))"
      ],
      "metadata": {
        "id": "GIsoAsAuUhJw",
        "colab": {
          "base_uri": "https://localhost:8080/"
        },
        "outputId": "d72cd080-2992-4362-c619-f3e9cbd0356c"
      },
      "execution_count": 17,
      "outputs": [
        {
          "output_type": "stream",
          "name": "stdout",
          "text": [
            "Телеграф\n",
            "Телега\n",
            "True\n"
          ]
        }
      ]
    },
    {
      "cell_type": "code",
      "source": [
        "def scramble(Wfull, Wnew):\n",
        "  L = list(Wfull)\n",
        "  res = True\n",
        "  for c in Wnew:\n",
        "    if c in L:\n",
        "      L.remove(c)\n",
        "    else:\n",
        "      res = False\n",
        "      break\n",
        "  return res\n",
        "\n",
        "\n",
        "word1 = input()\n",
        "word2 = input()\n",
        "print(scramble(word1,word2))"
      ],
      "metadata": {
        "colab": {
          "base_uri": "https://localhost:8080/"
        },
        "outputId": "c46266e3-35c3-4a54-f769-1692355b607d",
        "id": "uWdPY3HuBSEC"
      },
      "execution_count": 20,
      "outputs": [
        {
          "output_type": "stream",
          "name": "stdout",
          "text": [
            "Беседка\n",
            "сад\n",
            "True\n"
          ]
        }
      ]
    },
    {
      "cell_type": "markdown",
      "source": [
        "Задача 3.\n",
        "Выборы в США (http://pythontutor.ru/lessons/dicts/problems/usa_elections/ - советую посмотреть там (на сайте нужно зарегистрироваться), там можно найти примеры работы программы).\n",
        "\n",
        "Как известно, в США президент выбирается не прямым голосованием, а путем двухуровневого голосования. Сначала проводятся выборы в каждом штате и определяется победитель выборов в данном штате. Затем проводятся государственные выборы: на этих выборах каждый штат имеет определенное число голосов — число выборщиков от этого штата. На практике, все выборщики от штата голосуют в соответствии с результами голосования внутри штата, то есть на заключительной стадии выборов в голосовании участвуют штаты, имеющие различное число голосов.\n",
        "\n",
        "В первой строке дано количество записей. Далее, каждая запись содержит фамилию кандидата и число голосов, отданных за него в одном из штатов. Подведите итоги выборов: для каждого из участника голосования определите число отданных за него голосов. Участников нужно выводить в алфавитном порядке."
      ],
      "metadata": {
        "id": "PYXzZSeKUhef"
      }
    },
    {
      "cell_type": "code",
      "source": [
        "\n",
        "D = dict()\n",
        "for i in range(int(input())):\n",
        "  L = input().split(' ')\n",
        "  if L[0] in D:\n",
        "    D[L[0]] += int(L[1])\n",
        "  else:\n",
        "    D[L[0]] = int(L[1])\n",
        "\n",
        "print(\"Results:\")\n",
        "for k in sorted(D):\n",
        "  print(k, D[k])\n"
      ],
      "metadata": {
        "id": "uXV3o6AuUlLR",
        "colab": {
          "base_uri": "https://localhost:8080/"
        },
        "outputId": "dea49505-0e4d-440f-e6cc-87e4f7210a64"
      },
      "execution_count": 31,
      "outputs": [
        {
          "output_type": "stream",
          "name": "stdout",
          "text": [
            "5\n",
            "McCain 10\n",
            "McCain 5\n",
            "Obama 9\n",
            "Obama 8\n",
            "McCain 1\n",
            "Results:\n",
            "McCain 16\n",
            "Obama 17\n"
          ]
        }
      ]
    },
    {
      "cell_type": "markdown",
      "source": [
        "Задача 4.\n",
        "Продажи (http://pythontutor.ru/lessons/dicts/problems/sales/)\n",
        "\n",
        "Дана база данных о продажах некоторого интернет-магазина. Каждая строка входного файла представляет собой запись вида Покупатель товар количество, где Покупатель — имя покупателя (строка без пробелов), товар — название товара (строка без пробелов), количество — количество приобретенных единиц товара.\n",
        "\n",
        "Создайте список всех покупателей, а для каждого покупателя подсчитайте количество приобретенных им единиц каждого вида товаров. Список покупателей, а также список товаров для каждого покупателя нужно выводить в лексикографическом порядке."
      ],
      "metadata": {
        "id": "VjNvTNXUUlwO"
      }
    },
    {
      "cell_type": "code",
      "source": [
        "DB = ['Ivanov paper 10',\n",
        "      'Petrov pens 5',\n",
        "      'Ivanov marker 3',\n",
        "      'Ivanov paper 7',\n",
        "      'Petrov envelope 20',\n",
        "      'Ivanov envelope 5']\n",
        "\n",
        "L = [(lambda i: (i[0], i[1], int(i[2])))(i.split(' ')) for i in DB]\n",
        "D = dict()\n",
        "for cr in L:\n",
        "  if cr[0] in D:\n",
        "    if cr[1] in D[cr[0]]:\n",
        "      D[cr[0]][cr[1]] += cr[2]\n",
        "    else:\n",
        "      D[cr[0]][cr[1]] = cr[2]\n",
        "  else:\n",
        "    D[cr[0]] = {cr[1]: cr[2]}\n",
        "\n",
        "for k0 in sorted(D):\n",
        "  print(f'{k0}:')\n",
        "  for k1 in sorted(D[k0]):\n",
        "    print(' ', k1, D[k0][k1])"
      ],
      "metadata": {
        "id": "BiAO7zvdUo2Q",
        "colab": {
          "base_uri": "https://localhost:8080/"
        },
        "outputId": "0c92e649-4099-4e68-b06b-0635d9e435c1"
      },
      "execution_count": 36,
      "outputs": [
        {
          "output_type": "stream",
          "name": "stdout",
          "text": [
            "Ivanov:\n",
            "  envelope 5\n",
            "  marker 3\n",
            "  paper 17\n",
            "Petrov:\n",
            "  envelope 20\n",
            "  pens 5\n"
          ]
        }
      ]
    },
    {
      "cell_type": "markdown",
      "source": [
        "Задача 5. В папке лежат разные файлы, некоторые из них с расширением .txt, другие нет. В текстовых файлах хранятся тексты, которые вам нужны. Напишите скрипт, который будет проходить по всем файлам в папке, открывать только текстовые файлы и считать количество слов в них. Вам необходимо будет также подумать про самую простую токенизацию (разделение на слова): split() будет недостаточно, ведь нужно еще избавиться от пунктуации. Можно ее, например, удалять с помощью каких-то методов строк."
      ],
      "metadata": {
        "id": "TM6VfITvBMLq"
      }
    },
    {
      "cell_type": "code",
      "source": [
        "import os\n",
        "\n",
        "def wordscountinfile(filepath):\n",
        "  tfile = open(filepath, 'r')\n",
        "  count = 0\n",
        "  while True:\n",
        "    line = tfile.readline()\n",
        "    for c in '''!()-[]{};?@#$%:'\"\\,./^&amp;*_''':\n",
        "      line = line.replace(c, ' ')\n",
        "    line = line.replace('  ',' ')\n",
        "    count += len(line.split(' '))\n",
        "    if not line:\n",
        "      break\n",
        "  return count\n",
        "\n",
        "path = input('Укажите путь к папке ')\n",
        "files = filter(lambda x: x.endswith('.txt'), os.listdir(path))\n",
        "for fname in files:\n",
        "  print(fname, wordscountinfile(path + '/' + fname))"
      ],
      "metadata": {
        "id": "OmOMqciNBNYH",
        "colab": {
          "base_uri": "https://localhost:8080/"
        },
        "outputId": "7c5c0bbe-ef1d-49fa-e860-38fffd6b00a3"
      },
      "execution_count": 47,
      "outputs": [
        {
          "output_type": "stream",
          "name": "stdout",
          "text": [
            "Укажите путь к папке mypath\n",
            "b.txt 246\n",
            "c.txt 748\n",
            "a.txt 735\n"
          ]
        }
      ]
    },
    {
      "cell_type": "markdown",
      "source": [
        "Задача 6. Расширим задачу про телефонный справочник.\n",
        "\n",
        "В программе должно быть:\n",
        "\n",
        "Функция для поиска номера по справочнику Функция для создания новой записи Функция для сохранения справочника в файл В начале программы нужно проверять, существует ли файл со справочником В цикле нужно предлагать человеку варианты действий. def search():\n",
        "\n",
        "# your code here\n",
        "def create():\n",
        "\n",
        "# your code here\n",
        "def save():\n",
        "\n",
        "# your code here\n",
        "your code here"
      ],
      "metadata": {
        "id": "oschKy7vBNv5"
      }
    },
    {
      "cell_type": "code",
      "source": [
        "import os\n",
        "\n",
        "D = dict()\n",
        "Next = [True]\n",
        "\n",
        "def search():\n",
        "  Name = input('Имя: ')\n",
        "  if Name in D:\n",
        "    for Phone in D[Name]:\n",
        "      print (f'\\t{Phone}')\n",
        "  else:\n",
        "    print('Не найдено!')\n",
        "\n",
        "def create():\n",
        "  Name = input('Имя: ')\n",
        "  Phone = input('Телефон: ')\n",
        "  if Name in D:\n",
        "    if not (Phone in D[Name]):\n",
        "      D[Name].append(Phone)\n",
        "  else:\n",
        "    D[Name] = [Phone]\n",
        "      \n",
        "\n",
        "def load():\n",
        "  dfile = open('phone.dict', 'r')\n",
        "  while True:\n",
        "    line = dfile.readline()\n",
        "    if not line:\n",
        "      break\n",
        "    k, *i = line.split('\\t')\n",
        "    D[k] = i\n",
        "\n",
        "def save():\n",
        "  dfile = open('phone.dict', 'w')\n",
        "  for k in D:\n",
        "    dfile.write(k + '\\t' + '\\t'.join(D[k]))\n",
        "\n",
        "def exit():\n",
        "  Next[0] = False\n",
        "\n",
        "choice = {'0': exit, '1': search, '2': create, '3':save}\n",
        "\n",
        "if os.path.exists('phone.dict'):\n",
        "  load()\n",
        "\n",
        "while Next[0]:\n",
        "  ch = input('Сделайте выбор:\\n\\t0 Выход\\n\\t1 Найти\\n\\t2 Добавить запись\\n\\t3 Сохранить\\n')\n",
        "  if ch in choice:\n",
        "    choice[ch]()\n",
        "  else:\n",
        "    print('Такой вариант не предусмотрен.\\n')\n"
      ],
      "metadata": {
        "id": "tSGh5xSQBRxV",
        "colab": {
          "base_uri": "https://localhost:8080/"
        },
        "outputId": "c538145d-013f-4aef-e259-39d261841ae3"
      },
      "execution_count": 71,
      "outputs": [
        {
          "name": "stdout",
          "output_type": "stream",
          "text": [
            "Сделайте выбор:\n",
            "\t0 Выход\n",
            "\t1 Найти\n",
            "\t2 Добавить запись\n",
            "\t3 Сохранить\n",
            "1\n",
            "Имя: Вася\n",
            "\t765-4321\n",
            "\n",
            "Сделайте выбор:\n",
            "\t0 Выход\n",
            "\t1 Найти\n",
            "\t2 Добавить запись\n",
            "\t3 Сохранить\n",
            "2\n",
            "Имя: Иван\n",
            "Телефон: 567-1234\n",
            "Сделайте выбор:\n",
            "\t0 Выход\n",
            "\t1 Найти\n",
            "\t2 Добавить запись\n",
            "\t3 Сохранить\n",
            "3\n",
            "Сделайте выбор:\n",
            "\t0 Выход\n",
            "\t1 Найти\n",
            "\t2 Добавить запись\n",
            "\t3 Сохранить\n",
            "0\n"
          ]
        }
      ]
    },
    {
      "cell_type": "markdown",
      "source": [
        "Задача 7. Пользователь вводит путь к файлу, а ваша программа должна 1) проверить, что путь введен правильно и такой файл существует 2) попытаться открыть этот файл 3) считать из него текст и вывести на экран первые 200 символов, если текст длиннее 200 символов, и весь текст, если не длиннее."
      ],
      "metadata": {
        "id": "FABX5jXgBSMz"
      }
    },
    {
      "cell_type": "code",
      "source": [
        "from genericpath import isfile\n",
        "import os\n",
        "\n",
        "path = input('Укажите путь к файлу\\n')\n",
        "if os.path.exists(path):\n",
        "  if os.path.isfile(path):\n",
        "    tfile = open(path,'r')\n",
        "    text = tfile.read()\n",
        "    tfile.close()\n",
        "    if len(text) > 200:\n",
        "      print(text[:200])\n",
        "    else:\n",
        "      print(text)\n",
        "  else:\n",
        "    print('Данный путь указывает не на файл!')\n",
        "else:\n",
        "  print('Путь к файлу не существует!')"
      ],
      "metadata": {
        "id": "gyxRtTqXBWlb",
        "colab": {
          "base_uri": "https://localhost:8080/"
        },
        "outputId": "6b1ec036-3950-49cc-e712-b929c2eadcd1"
      },
      "execution_count": 1,
      "outputs": [
        {
          "output_type": "stream",
          "name": "stdout",
          "text": [
            "Укажите путь к файлу\n",
            "a.txt\n",
            "\n",
            "Однажды вечером я сидел во дворе, возле песка, и ждал маму. Она, наверно, задерживалась в институте, или в магазине, или, может быть, долго стояла на автобусной остановке. Не знаю. Только все родител\n"
          ]
        }
      ]
    },
    {
      "cell_type": "markdown",
      "source": [
        "Задача 8. Сайт журнала \"Московский лингвистический журнал\" содержит странички с аннотациями и содержаниями всех своих номеров. Все эти странички лежат в папке issues и называются всегда одинаково:\n",
        "\n",
        "issue25.html - 25 номер issue25_en.html - английская версия страницы annot25.html - аннотации к 25 номеру annot25_en.html - английская версия аннотаций\n",
        "\n",
        "Страничек там очень много, легко запутаться. Помогите секретарю журнала и проверьте с помощью программы, что для каждого номера есть все четыре файла, и выведите те номера, для которых отсутствует какой-нибудь файл, например, если у нас в наборе не хватает annot26.html, выведите \"Номер 26 - не хватает русской аннотации\".\n",
        "\n",
        "Тут пригодятся, наверное, словари."
      ],
      "metadata": {
        "id": "aHx6KWVjBXM0"
      }
    },
    {
      "cell_type": "code",
      "source": [
        "import os\n",
        "D = dict()\n",
        "\n",
        "files = [i.replace('.html','') for i in os.listdir('issues') if i.endswith('.html')]\n",
        "\n",
        "for issue_ru in [i for i in [i.replace('issue','') for i in files if i.startswith('issue')] if not i.endswith('_en')]:\n",
        "  D[issue_ru] = {'хватает русской версии страницы'}\n",
        "\n",
        "for issue_en in [i.replace('_en', '') for i in [i.replace('issue','') for i in files if i.startswith('issue')] if i.endswith('_en')]:\n",
        "  if issue_en in D:\n",
        "    D[issue_en].add('хватает англиской версии страницы')\n",
        "  else:\n",
        "    D[issue_en] = {'хватает англиской версии страницы'}\n",
        "\n",
        "for annot_ru in [i for i in [i.replace('annot','') for i in files if i.startswith('annot')] if not i.endswith('_en')]:\n",
        "  if annot_ru in D:\n",
        "    D[annot_ru].add('хватает русской версии аннотации')\n",
        "  else:\n",
        "    D[annot_ru] = {'хватает русской версии аннотации'}\n",
        "\n",
        "for annot_en in [i.replace('_en', '') for i in [i.replace('annot','') for i in files if i.startswith('annot')] if i.endswith('_en')]:\n",
        "  if annot_en in D:\n",
        "    D[annot_en].add('хватает англиской версии аннотации')\n",
        "  else:\n",
        "    D[annot_en] = {'хватает англиской версии аннотации'}\n",
        "\n",
        "MandatorySet = {'хватает русской версии страницы', \n",
        "                'хватает англиской версии страницы',\n",
        "                'хватает русской версии аннотации',\n",
        "                'хватает англиской версии аннотации'}\n",
        "for k in sorted(D):\n",
        "  need = MandatorySet - D[k]\n",
        "  if len(need) > 0:\n",
        "    print(f'Журнал {k}:')\n",
        "    for n in need:\n",
        "      print(f'\\t-не {n}')\n",
        "\n",
        "\n",
        "\n"
      ],
      "metadata": {
        "colab": {
          "base_uri": "https://localhost:8080/"
        },
        "id": "zFwFUc1-7e1s",
        "outputId": "9825dd10-2f59-41be-f302-1fda9c5abb3f"
      },
      "execution_count": 97,
      "outputs": [
        {
          "output_type": "stream",
          "name": "stdout",
          "text": [
            "Журнал 26:\n",
            "\t-не хватает русской версии страницы\n",
            "\t-не хватает англиской версии страницы\n",
            "\t-не хватает англиской версии аннотации\n",
            "Журнал 27:\n",
            "\t-не хватает англиской версии страницы\n"
          ]
        }
      ]
    }
  ]
}