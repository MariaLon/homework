{
  "nbformat": 4,
  "nbformat_minor": 0,
  "metadata": {
    "colab": {
      "provenance": [],
      "authorship_tag": "ABX9TyO3hBlhT2+NiDWUVs21jglv",
      "include_colab_link": true
    },
    "kernelspec": {
      "name": "python3",
      "display_name": "Python 3"
    },
    "language_info": {
      "name": "python"
    }
  },
  "cells": [
    {
      "cell_type": "markdown",
      "metadata": {
        "id": "view-in-github",
        "colab_type": "text"
      },
      "source": [
        "<a href=\"https://colab.research.google.com/github/MariaLon/homework/blob/finaltestlt/finaltestlt.ipynb\" target=\"_parent\"><img src=\"https://colab.research.google.com/assets/colab-badge.svg\" alt=\"Open In Colab\"/></a>"
      ]
    },
    {
      "cell_type": "markdown",
      "source": [
        "Задача 1.\n",
        "Напишите программу, которая считает объем шара. Запрашивается радиус (не обязательно целое число), выводится объем. Формулу для расчета можно, естественно, нагуглить.\n",
        "\n",
        "import math\n",
        "\n",
        "def volume(r):\n",
        "    "
      ],
      "metadata": {
        "id": "vr54ySQ0lgAp"
      }
    },
    {
      "cell_type": "code",
      "source": [
        "import math\n",
        "def volume(r):\n",
        "  return float(math.pi * r ** 3 * 4 / 3)\n",
        "\n",
        "r = float(input(\"Введите радиус \"))\n",
        "print(volume(r))\n"
      ],
      "metadata": {
        "id": "ljGHkbnXloJB",
        "colab": {
          "base_uri": "https://localhost:8080/"
        },
        "outputId": "4b856318-5d3c-435e-aa9d-c34c143a542e"
      },
      "execution_count": null,
      "outputs": [
        {
          "output_type": "stream",
          "name": "stdout",
          "text": [
            "Введите радиус 0.620350490899401\n",
            "1.0000000000000047\n"
          ]
        }
      ]
    },
    {
      "cell_type": "markdown",
      "source": [
        "Задача 2.\n",
        "Вводится две строки. Посчитайте, сколько процентов от длины первой строки составляет длина второй строки.\n",
        "\n",
        "def percent(s1, s2):\n",
        "    # your code here"
      ],
      "metadata": {
        "id": "QFtpdfeMlsX9"
      }
    },
    {
      "cell_type": "code",
      "source": [
        "s1 = input(\"Введите строку 1\")\n",
        "s2 = input(\"Введите строку 2\")\n",
        "def percent(s1, s2):\n",
        "  if len(s1) != 0:\n",
        "    return float(len(s2) * 100 / len(s1)) \n",
        "  else:\n",
        "    print(\"Error!\")\n",
        "    return 0\n",
        "print(f\"{percent(s1,s2)}%\")"
      ],
      "metadata": {
        "id": "DOIUxbiQltXQ",
        "colab": {
          "base_uri": "https://localhost:8080/"
        },
        "outputId": "8885d725-268a-4d44-84c1-7202ceea4431"
      },
      "execution_count": null,
      "outputs": [
        {
          "output_type": "stream",
          "name": "stdout",
          "text": [
            "Введите строку 1Роза упала на лапу Азора\n",
            "Введите строку 2А Роза упала на лапу Азора\n",
            "108.33333333333333%\n"
          ]
        }
      ]
    },
    {
      "cell_type": "markdown",
      "source": [
        "Задача 3.\n",
        "Вводится список. Если список упорядочен по возрастанию, выведите \"по возрастанию\", если по убыванию - то \"по убыванию\", а если не упорядочен - то \"не упорядочен\".\n",
        "\n",
        "def checker(lst):\n",
        "    # your code here"
      ],
      "metadata": {
        "id": "vfgDFdwMlt4g"
      }
    },
    {
      "cell_type": "code",
      "source": [
        "def checker(lst):\n",
        "  if lst == sorted (lst):\n",
        "    return \"по возрастанию\"\n",
        "  elif lst == sorted (lst, reverse = True):\n",
        "    return \"по убыванию\"\n",
        "  else:\n",
        "    return \"не упорядочен\"\n",
        "print (checker([3, 2, 4]))\n",
        "   "
      ],
      "metadata": {
        "id": "ihFlU68alxcs",
        "colab": {
          "base_uri": "https://localhost:8080/"
        },
        "outputId": "1e28fe5f-c1df-4fb1-a874-2d515480e37b"
      },
      "execution_count": null,
      "outputs": [
        {
          "output_type": "stream",
          "name": "stdout",
          "text": [
            "не упорядочен\n"
          ]
        }
      ]
    },
    {
      "cell_type": "markdown",
      "source": [
        "Задача 4.\n",
        "Дано N слов: сначала вводится число N, затем вводится ровно N слов английского языка (без пробелов, но могут быть с большой буквы). Подсчитайте количество артиклей \"the\" среди введенных слов и выведите это количество.\n",
        "\n",
        "def the_counter(n):\n",
        "    # your code here"
      ],
      "metadata": {
        "id": "TBOn7zsjl4R9"
      }
    },
    {
      "cell_type": "code",
      "source": [
        "def the_counter(n):\n",
        "  out = 0\n",
        "  for N in range (n):\n",
        "    if input().lower() == \"the\":\n",
        "      out += 1\n",
        "  return out\n",
        "print(the_counter(int(input())))"
      ],
      "metadata": {
        "id": "c9wVDqhKl835",
        "colab": {
          "base_uri": "https://localhost:8080/"
        },
        "outputId": "9ebafb63-d9bb-4d6a-fb42-3e0a271aa3f7"
      },
      "execution_count": null,
      "outputs": [
        {
          "output_type": "stream",
          "name": "stdout",
          "text": [
            "5\n",
            "apple\n",
            "tree\n",
            "a\n",
            "the\n",
            "four\n",
            "1\n"
          ]
        }
      ]
    },
    {
      "cell_type": "markdown",
      "source": [
        "Задача 5.\n",
        "Сначала с экрана водится натуральное число X. Далее пользователь вводит последовательность чисел: числа вводятся последовательно по одному (списки с числами через пробел использовать нельзя!), последовательность завершается числом 0. Если в последовательности в какой-то момент встречается число X, программа должна прервать процесс и напечатать, каким по счёту в последовательности было это число. Если же число X не встретилось и последовательность закончилась, следует напечатать: \"Число X не встретилось\" (вместо 'X' должно быть его значение)."
      ],
      "metadata": {
        "id": "MhP5iA-ilyAc"
      }
    },
    {
      "cell_type": "code",
      "source": [
        "def order_in_sequence(X):\n",
        "  a = 1\n",
        "  while (True):\n",
        "    b = int(input())\n",
        "    if b == X or b == 0:\n",
        "      break\n",
        "    a += 1\n",
        "  return  f\"Число {X} не встретилось\" if b == 0 else f\"{a}\"\n",
        "\n",
        "print (order_in_sequence(int(input())))"
      ],
      "metadata": {
        "id": "acb6uDyymCPe",
        "colab": {
          "base_uri": "https://localhost:8080/"
        },
        "outputId": "80309e81-b82f-4025-dfca-02686605dcf1"
      },
      "execution_count": null,
      "outputs": [
        {
          "output_type": "stream",
          "name": "stdout",
          "text": [
            "473\n",
            "437\n",
            "123\n",
            "32\n",
            "545\n",
            "473\n",
            "5\n"
          ]
        }
      ]
    },
    {
      "cell_type": "markdown",
      "source": [
        "Задача 6.\n",
        "Последовательность вводится с экрана и состоит из слов русского языка и завершается пустой строкой. Выведите длины и индексы всех слов, состоящих из нечётного количества букв в формате:\n",
        "\n",
        "<слово1> (<длина1>) - <индекс1> \n",
        "<слово2> (<длина2>) - <индекс2> \n",
        "... \n",
        "\n",
        "Например, если на 7-ом месте встретилось слово 'я', надо вывести: 'я (7) - 1'. Если таких слов нет, выведите на экран \"Все слова чётной длины\". Также требуется вывести на экран, сколько встретилось слов чётной длины."
      ],
      "metadata": {
        "id": "XNzhBGv9mCu7"
      }
    },
    {
      "cell_type": "code",
      "source": [
        "L=[]\n",
        "while True:\n",
        "  A = input()\n",
        "  if A == '':\n",
        "    break\n",
        "  else:\n",
        "    L.append(A)\n",
        "\n",
        "Even = 0\n",
        "for i in range(len(L)):\n",
        "  if len(L[i]) % 2 == 1:\n",
        "    print(f'{L[i]} ({len(L[i])}) - i')\n",
        "  else:\n",
        "    Even += 1\n",
        "if Even == len(L):\n",
        "  print('Все слова четной длины')\n",
        "print(Even)\n"
      ],
      "metadata": {
        "id": "wb2m8wfgmGYF",
        "colab": {
          "base_uri": "https://localhost:8080/"
        },
        "outputId": "ac8b0a49-e32f-4348-e142-ee30230a9a8f"
      },
      "execution_count": null,
      "outputs": [
        {
          "output_type": "stream",
          "name": "stdout",
          "text": [
            "окно\n",
            "мама\n",
            "партия\n",
            "зелень\n",
            "явка\n",
            "тут\n",
            "я\n",
            "университет\n",
            "глупость\n",
            "\n",
            "тут (3) - i\n",
            "я (1) - i\n",
            "университет (11) - i\n",
            "6\n"
          ]
        }
      ]
    },
    {
      "cell_type": "markdown",
      "source": [
        "Задача 7.\n",
        "Напишите функцию, которая проверяет, что введенная строка - палиндром (пробелы учитываться не должны). Функция должна быть рекурсивной.\n",
        "\n",
        "def palindrome(s):\n",
        "    # your code here"
      ],
      "metadata": {
        "id": "QH7kamMXmGtg"
      }
    },
    {
      "cell_type": "code",
      "source": [
        "def palindrome (s):\n",
        "  if len(s.replace(' ', '')) < 2:\n",
        "    return True\n",
        "  else:\n",
        "    if s[0] == s[-1]:\n",
        "      return palindrome(s[1:-1])\n",
        "    else:\n",
        "      return False\n",
        "a = str (input('Введите строку:'))\n",
        "if palindrome(a):\n",
        "  print ('Это палиндром')\n",
        "else:\n",
        "  print ('Это не палиндром')"
      ],
      "metadata": {
        "id": "np5V4YgJmM93",
        "colab": {
          "base_uri": "https://localhost:8080/"
        },
        "outputId": "5f8707de-ec25-41b4-d322-71b49c43421c"
      },
      "execution_count": null,
      "outputs": [
        {
          "output_type": "stream",
          "name": "stdout",
          "text": [
            "Введите строку:mg\n",
            "Это не палиндром\n"
          ]
        }
      ]
    },
    {
      "cell_type": "markdown",
      "source": [
        "\n",
        "Задача 8.\n",
        "Каждый из некоторого множества школьников некоторой школы знает некоторое количество языков. Нужно определить сколько языков знают все школьники, и сколько языков знает хотя бы один из школьников.\n",
        "\n",
        "Сперва задается количество школьников. Для каждого из школьников сперва указывается количество языков, которое он знает, а затем - названия языков, по одному в строке.\n",
        "\n",
        "В первой строке выведите количество языков, которые знают все школьники. Начиная со второй строки - список таких языков. Затем - количество языков, которые знает хотя бы один школьник, на следующих строках - список таких языков. Языки нужно выводить в лексикографическом порядке, по одному на строке."
      ],
      "metadata": {
        "id": "f_g5NbmdmNaP"
      }
    },
    {
      "cell_type": "code",
      "source": [
        "a = [{input(f'lang {i+1}:').capitalize() for i in range(int(input('Langs:')))} for j in range(int(input('Pupils:')))]\n",
        "d = set()\n",
        "for i in a:\n",
        "  d = d.union(i)\n",
        "b = set(d)\n",
        "for i in a:\n",
        "  b = b.intersection(i)\n",
        "print(len(b))\n",
        "for i in sorted(b):\n",
        "  print(i)\n",
        "print(len(d))\n",
        "for i in sorted(d):\n",
        "  print(i)"
      ],
      "metadata": {
        "id": "v2rR389QPtvO",
        "colab": {
          "base_uri": "https://localhost:8080/"
        },
        "outputId": "2d81f8b1-426e-46ce-ff96-09f81e5a9eb9"
      },
      "execution_count": null,
      "outputs": [
        {
          "output_type": "stream",
          "name": "stdout",
          "text": [
            "Pupils:2\n",
            "Langs:3\n",
            "lang 1:rus\n",
            "lang 2:en\n",
            "lang 3:fr\n",
            "Langs:4\n",
            "lang 1:rus\n",
            "lang 2:en\n",
            "lang 3:fr\n",
            "lang 4:ch\n",
            "3\n",
            "En\n",
            "Fr\n",
            "Rus\n",
            "4\n",
            "Ch\n",
            "En\n",
            "Fr\n",
            "Rus\n"
          ]
        }
      ]
    },
    {
      "cell_type": "markdown",
      "source": [
        "Задача 9.\n",
        "Напишите свою собственную простейшую функцию токенизации, которая оставляет только список слов (без пунктуации и всего остального). Подумайте про слова с дефисами.\n",
        "\n",
        "def wordization(string) -> list:\n",
        "    # your code here"
      ],
      "metadata": {
        "id": "Ug3OOfRpmUdY"
      }
    },
    {
      "cell_type": "code",
      "source": [
        "\n",
        "def wordization(string) -> list:\n",
        "  A = list('..,:;\\\\\\'\"/|?!()<>[]{}«»')\n",
        "  T = string\n",
        "  for a in A:\n",
        "    T = T.replace(a, ' ')\n",
        "  return list(filter(lambda x: not x in '-–',T.split()))\n",
        "\n",
        "text='''Настя вздрогнула. Насмешливо, зная ее насквозь, смотрел на нее остроносый сутулый человек. Настя видела, как на его виске бьется тонкая склеротическая жилка.\n",
        "«А письмо-то в сумочке нераспечатанное, – казалось, говорили сверлящие гоголевские глаза. – Эх ты, сорока!»\n",
        "– Ну что? – опросил Тимофеев. – Серьезный дядя, да?\n",
        "– Замечательно! – с трудом ответила Настя. – Это действительно превосходно.\n",
        "Тимофеев горько засмеялся.'''\n",
        "\n",
        "print(wordization(text))"
      ],
      "metadata": {
        "id": "4OnO731UmYTv",
        "colab": {
          "base_uri": "https://localhost:8080/"
        },
        "outputId": "5a7f7902-4121-4102-da43-5ffc475270d9"
      },
      "execution_count": null,
      "outputs": [
        {
          "output_type": "stream",
          "name": "stdout",
          "text": [
            "['Настя', 'вздрогнула', 'Насмешливо', 'зная', 'ее', 'насквозь', 'смотрел', 'на', 'нее', 'остроносый', 'сутулый', 'человек', 'Настя', 'видела', 'как', 'на', 'его', 'виске', 'бьется', 'тонкая', 'склеротическая', 'жилка', 'А', 'письмо-то', 'в', 'сумочке', 'нераспечатанное', 'казалось', 'говорили', 'сверлящие', 'гоголевские', 'глаза', 'Эх', 'ты', 'сорока', 'Ну', 'что', 'опросил', 'Тимофеев', 'Серьезный', 'дядя', 'да', 'Замечательно', 'с', 'трудом', 'ответила', 'Настя', 'Это', 'действительно', 'превосходно', 'Тимофеев', 'горько', 'засмеялся']\n"
          ]
        }
      ]
    },
    {
      "cell_type": "markdown",
      "source": [
        "Задача 10.\n",
        "Зализняк-2. Дан любой русскоязычный текст: текст должен быть достаточно большим (можно взять какое-нибудь произведение) и лежать в текстовом файле. Составьте на его основе словарь Зализняка по следующим принципам:\n",
        "\n",
        "Все уникальные слова исходного текста должны быть отсортированы в обратном лексикографическом порядке с учетом буквы ё;\n",
        "Программа должна проверять, существует ли папка dictionary, и если не существует, то создавать таковую;\n",
        "В папке dictionary должны лежать (предположительно) 33 текстовых файла с названиями вида А.txt, Б.txt и так далее, в каждом файле - отсортированные слова, заканчивающиеся на данную букву;\n",
        "для получения списка слов можно использовать свою функцию из задачи 9.\n",
        "def yo(string):\n",
        "    # сортировка с учетом ё\n",
        "    \n",
        "def dict_creator(path):\n",
        "    # your code here"
      ],
      "metadata": {
        "id": "0dC2TA7DmYox"
      }
    },
    {
      "cell_type": "code",
      "source": [
        "import os\n",
        "\n",
        "A0 = 'АБВГДЕЁЖЗИЙКЛМНОПРСТУФХЦЧШЩЪЫЬЭЮЯабвгдеёжзийклмнопрстуфхцчшщъыьэюя'\n",
        "A1 = ''.join(map(chr, sorted(list(map(ord, list(A0))))))\n",
        "\n",
        "def cyrilicsort_Zalizniak(text):\n",
        "  out = ''\n",
        "  for c in text[::-1]:\n",
        "    i = A0.find(c)\n",
        "    if i != -1:\n",
        "      out += A1[i]\n",
        "    else:\n",
        "      out += c\n",
        "  return out\n",
        "\n",
        "def wordization(string) -> list:\n",
        "  A = list('..,:;\\\\\\'\"/|?!()<>[]{}«»')\n",
        "  T = string\n",
        "  for a in A:\n",
        "    T = T.replace(a, ' ')\n",
        "  return list(filter(lambda x: not x in '-–',T.split()))\n",
        "\n",
        "def dict_creator(path, source):\n",
        "  S = list(set(wordization(source.lower())))\n",
        "  S.sort(key=cyrilicsort_Zalizniak)\n",
        "  if not (os.path.exists(path) and os.path.isdir(path)):\n",
        "    os.mkdir(path)\n",
        "  for c in 'абвгдеёжзийклмнопрстуфхцчшщъыьэюя':\n",
        "    with open(os.path.join(path, c.upper() + '.txt'), \"w\") as file:\n",
        "      toFile = '\\n'.join(filter(lambda x: x[-1:] == c, S))\n",
        "      file.write(toFile)\n",
        "\n",
        "\n",
        "\n",
        "file = open ('text_sonechka.txt', 'r')\n",
        "text = file.read()\n",
        "file.close()\n",
        "\n",
        "\n",
        "\n",
        "dict_creator('dictionary', text)\n",
        "\n"
      ],
      "metadata": {
        "id": "ydyHZIZZmej1"
      },
      "execution_count": null,
      "outputs": []
    },
    {
      "cell_type": "markdown",
      "source": [
        "Задача 11.\n",
        "Дан текст преимущественно русскоязычного художественного произведения, лежащий в текстовом файле (возьмите любой, какой захотите). Программа должна посчитать количество слов, которые написаны в латинице, и вывести самые частотные 10 из них."
      ],
      "metadata": {
        "id": "v73dXRYUme5f"
      }
    },
    {
      "cell_type": "code",
      "source": [
        "file = open('/content/txt1.txt')\n",
        "data = file.read().lower()\n",
        "words = data.split()\n",
        "words = [word.strip('.,!?;()[]-') for word in words]\n",
        "def match(text, alphabet = set('abcdefghijklmnopqrstuvwxyz')):\n",
        " return not alphabet.isdisjoint(text.lower())\n",
        "f = list(filter(lambda x: match(x),words))\n",
        "d = dict()\n",
        "for i in f:\n",
        "  if i in d.keys():\n",
        "    d[i] += 1\n",
        "  else:\n",
        "    d[i] = 1\n",
        "print(len(f))\n",
        "print(sorted(d, key=d.get, reverse=True)[:10])\n"
      ],
      "metadata": {
        "id": "heoIJTefmjJP",
        "colab": {
          "base_uri": "https://localhost:8080/"
        },
        "outputId": "08ffe48a-8a91-4278-980a-265571ce3caa"
      },
      "execution_count": null,
      "outputs": [
        {
          "output_type": "stream",
          "name": "stdout",
          "text": [
            "537\n",
            "['as', 'you', 'in', 'to', 'is', 'it', 'the', 'do', 'did', 'this']\n"
          ]
        }
      ]
    },
    {
      "cell_type": "markdown",
      "source": [
        "Задача 12.\n",
        "Дан текст, в котором выравнивание производилось вручную (таких текстов полно здесь, например), то есть, переносы на новую строку встречаются в середине предложения и при изменении шрифта выровнять текст автоматически невозможно. Напишите функцию, которая будет автоматически удалять лишние переносы на новую строку (считаем, что они лишние, если перед ними не идет точка или двоеточие).\n",
        "\n",
        "def anti_eol(text):"
      ],
      "metadata": {
        "id": "QqBbw1akml70"
      }
    },
    {
      "cell_type": "code",
      "source": [
        "\n",
        "def anti_eol(t):\n",
        "  cl = ''\n",
        "  s = ''\n",
        "  for c in t:\n",
        "   if c == '\\n' and not cl in '.:':\n",
        "    s += ' '\n",
        "   else:\n",
        "    s += c\n",
        "   cl = c\n",
        "  return s\n",
        "\n",
        "\n",
        "t='''После чего складываем числа по парам: первое со вторым, второе с третьим\n",
        "и так далее, чтобы получилась строчка на 1 элемент короче.\n",
        "Если результат сложения >= 10, вычитаем столько девяток, чтобы получилось однозначное число\n",
        "(9 годится, 10 - нет). Таким же образом обрабатываем вторую получившуюся строку и делаем так,\n",
        "пока не останется одно-единственное число. Если оно четное, ответ \"да\", если нечетное - ответ \"нет\".\n",
        "Таким образом, ответ на \"получу ли я зачет по программированию\" должен быть \"да\". Считаем, что знаков препинания в вопросе нет\n",
        "(или можно использовать свою функцию токенизации из задачи 9).'''\n",
        "\n",
        "print(anti_eol(t))\n",
        "\n",
        "\n",
        "\n"
      ],
      "metadata": {
        "id": "_TjNznxwOtA7",
        "colab": {
          "base_uri": "https://localhost:8080/"
        },
        "outputId": "fe9ca710-4eb6-42cc-df65-474194ddf542"
      },
      "execution_count": null,
      "outputs": [
        {
          "output_type": "stream",
          "name": "stdout",
          "text": [
            "После чего складываем числа по парам: первое со вторым, второе с третьим и так далее, чтобы получилась строчка на 1 элемент короче.\n",
            "Если результат сложения >= 10, вычитаем столько девяток, чтобы получилось однозначное число (9 годится, 10 - нет). Таким же образом обрабатываем вторую получившуюся строку и делаем так, пока не останется одно-единственное число. Если оно четное, ответ \"да\", если нечетное - ответ \"нет\".\n",
            "Таким образом, ответ на \"получу ли я зачет по программированию\" должен быть \"да\". Считаем, что знаков препинания в вопросе нет (или можно использовать свою функцию токенизации из задачи 9).\n"
          ]
        }
      ]
    },
    {
      "cell_type": "markdown",
      "source": [
        "Задача 13.\n",
        "Гадалка. Пользователь вводит общий вопрос на русском языке (на который можно ответить да/нет). Программа, конечно, может гадать рандомом, но интереснее хоть как-то привязать ответ к самому вопросу; давайте это сделаем при помощи количества букв в словах. Таким образом, в первую строчку записываем числа:\n",
        "\n",
        "<количество слов в вопросе> <длина 1 слова> <длина 2 слова> ... \n",
        "\n",
        "После чего складываем числа по парам: первое со вторым, второе с третьим и так далее, чтобы получилась строчка на 1 элемент короче. Если результат сложения >= 10, вычитаем столько девяток, чтобы получилось однозначное число (9 годится, 10 - нет). Таким же образом обрабатываем вторую получившуюся строку и делаем так, пока не останется одно-единственное число. Если оно четное, ответ \"да\", если нечетное - ответ \"нет\". Таким образом, ответ на \"получу ли я зачет по программированию\" должен быть \"да\". Считаем, что знаков препинания в вопросе нет (или можно использовать свою функцию токенизации из задачи 9).\n",
        "\n",
        "def soothsayer():\n",
        "    # your code here\n"
      ],
      "metadata": {
        "id": "zUnygj2Dmsho"
      }
    },
    {
      "cell_type": "code",
      "source": [
        "def wordization(string) -> list:\n",
        "  A = list('..,:;\\\\\\'\"/|?!()<>[]{}«»')\n",
        "  T = string\n",
        "  for a in A:\n",
        "    T = T.replace(a, ' ')\n",
        "  return list(filter(lambda x: not x in '-–',T.split()))\n",
        "\n",
        "def soothsayers_alg(List) -> bool:\n",
        "  if len(List) > 1:\n",
        "    A = []\n",
        "    for i in range(len(List) - 1):\n",
        "      a = List[i] + List[i+1]\n",
        "      if a > 9:\n",
        "        a %= 9\n",
        "      A.append(a)\n",
        "    return soothsayers_alg(A)\n",
        "  else:\n",
        "    return (List[0]%2) == 0\n",
        "\n",
        "def soothsayers(Text) -> bool:\n",
        "  L = [len(i) for i in wordization(Text)]\n",
        "  L.insert(0, len(L))\n",
        "  return soothsayers_alg(L)\n",
        "\n",
        "q = input('Вопрос:')\n",
        "if soothsayers(q):\n",
        "  print('Да')\n",
        "else:\n",
        "  print('Нет')"
      ],
      "metadata": {
        "id": "1Bku0bK7r9Pb",
        "colab": {
          "base_uri": "https://localhost:8080/"
        },
        "outputId": "d481d9b3-3ef1-457c-ceef-960fbb7368a2"
      },
      "execution_count": null,
      "outputs": [
        {
          "output_type": "stream",
          "name": "stdout",
          "text": [
            "Вопрос:Получу ли я зачет по программированию?\n",
            "Да\n"
          ]
        }
      ]
    },
    {
      "cell_type": "markdown",
      "source": [
        "\n",
        "Задача 14.\n",
        "Игра в столицы.\n",
        "\n",
        "Напишем игру, в которой пользователю предлагается угадывать столицу по названию страны. Нам для этого понадобится составить файл со списком стран, их столиц и населения (википедия в помощь); можно просто в текстовом файле записывать данные в формате:\n",
        "\n",
        "страна\\tстолица\\tнаселение\n",
        "\n",
        "Либо распарсить такой файл и перезаписать json или pickle. При запуске игры игроку предлагается выбор из следующих опций:\n",
        "\n",
        "Показать список стран и их столиц\n",
        "Вывести столицу страны по ее названию\n",
        "Настроить параметры: количество предлагаемых вариантов для выбора (от 2 до 8) и количество раундов.\n",
        "Собственно играть.\n",
        "Выход.\n",
        "При выборе 4 опции программа n раз (сколько у нас раундов) выводит название страны и m (сколько выбрано вариантов) вариантов ее столицы. Если игрок угадал правильно, ему должны начисляться баллы по формуле log(100 000 000 / население страны), функция log есть в модуле math. В конце игры, когда завершатся все раунды, нужно будет вывести итоговые баллы.\n",
        "\n",
        "from random import choice, sample, shuffle # почитайте про эти функции модуля random: они вам очень пригодятся\n",
        "from math import log\n",
        "\n",
        "def load():\n",
        "    # функция, которая будет проверять существование файла с данными и загружать его в игру\n",
        "    \n",
        "def showlist():\n",
        "    # функция, которая будет показывать список стран со столицами. Отформатируйте его красиво!\n",
        "    \n",
        "def play(n, m):\n",
        "    # сама игра\n",
        "    \n",
        "data = load() \n",
        "'''вы можете завести один словарь со словарями: \n",
        "{'Russia': {'capital': 'Moscow', 'population': '147182123'}}, => data['Russia']['capital'] вернет название столицы\n",
        "либо два словаря, либо словарь с кортежами, как вам будет удобно\n",
        "'''\n",
        "total_points = 0 # общее количество баллов игрока\n",
        "n = 4 # количество раундов по умолчанию\n",
        "m = 4 # количество предлагаемых вариантов по умолчанию\n",
        "while True:\n",
        "    # вывести описание доступных опций\n",
        "    c = input()\n",
        "    if c == '5':\n",
        "        break\n",
        "    # обработка остальных опций"
      ],
      "metadata": {
        "id": "nC38N9wdmzvZ"
      }
    },
    {
      "cell_type": "code",
      "source": [
        "import os\n",
        "import math\n",
        "from random import choice, sample, shuffle\n",
        "from google.colab import output\n",
        "clear = lambda: output.clear()\n",
        "\n",
        "FNAME = 'game.txt' \n",
        "data = dict()\n",
        "n = 4\n",
        "m = 4\n",
        "\n",
        "def load():\n",
        "  if os.path.exists(FNAME) and os.path.isfile(FNAME):\n",
        "    with open(FNAME, mode='r') as file:\n",
        "      D = {x: {'capital': y[0], 'population': int(y[1])} \n",
        "                   for x, *y in (z.split() for z in file.readlines())}\n",
        "    return D\n",
        "  else:\n",
        "    return dict()\n",
        "\n",
        "def showlist():\n",
        "  clear()\n",
        "  ms = max([len(x) for x in data.keys()])\n",
        "  if ms < 7:\n",
        "    ms = 6\n",
        "  print(f'СТРАНА{\" \"*(ms-6)} | СТОЛИЦА\\n{\"-\"*ms}-+---------')\n",
        "  for key in sorted(data.keys()):\n",
        "    print(f'{key}{\" \"*(ms-len(key))} | {data[key][\"capital\"]}')\n",
        "  input('\\nНажмите Enter')\n",
        "\n",
        "def fcapital():\n",
        "  clear()\n",
        "  print('''   Введите название страны, чтобы узнать столицу\n",
        "  или пустую строку, чтобы выйти...''')\n",
        "  D = {x.lower(): data[x]['capital'] for x in data.keys()}\n",
        "  while True:\n",
        "    country = input().lower()\n",
        "    if country == '':\n",
        "      break\n",
        "    elif country in D.keys():\n",
        "      print (f'Столица:{D[country]}')\n",
        "    else:\n",
        "      print ('Сожалеем, но такой страны мы не знаем!')\n",
        "\n",
        "def config():\n",
        "  global n, m\n",
        "  clear()\n",
        "  print(f'Текущее количество раундов: {n}')\n",
        "  while True:\n",
        "    try:\n",
        "      n0 = int(input('Введите количество раундов (не менее 1):'))\n",
        "    except ValueError:\n",
        "      n0 = 0\n",
        "    if n0 > 0:\n",
        "      n = n0\n",
        "      break\n",
        "    print ('Неправильный ввод!')\n",
        "  print(f'\\nТекущее количество вариантов: {m}')\n",
        "  while True:\n",
        "    try:\n",
        "      m0 = int(input('Введите количество вариантов (от 2 до 8):'))\n",
        "    except ValueError:\n",
        "      m0 = 0\n",
        "    if m0 > 1 and m0 < 9:\n",
        "      m = m0\n",
        "      break\n",
        "    print ('Неправильный ввод!')\n",
        "\n",
        "def game():\n",
        "  total_points = 0\n",
        "\n",
        "  for R in range(n):\n",
        "    clear()\n",
        "    print(f'Раунд {R + 1} из {n}')\n",
        "    L = sample(data.keys(), m)\n",
        "    C = choice(L)\n",
        "    shuffle(L)\n",
        "    print(f'Страна \\'{C}\\'. Столица?')\n",
        "    for i in range(m):\n",
        "      print(f'{i + 1} {data[L[i]][\"capital\"]}')\n",
        "    while True:\n",
        "      try:\n",
        "        var = int(input())\n",
        "      except:\n",
        "        var = 0\n",
        "      if var > 0 and var <= n:\n",
        "        if C == L[var-1]:\n",
        "          print('Ответ правильный!')\n",
        "          total_points += math.log(100000000/data[C]['population'])\n",
        "        else:\n",
        "          print('Ответ не верный!')\n",
        "        input('Нажмите Enter')\n",
        "        break;\n",
        "      print ('Неправильный ввод!')\n",
        "  clear()\n",
        "  input(f'\\nВаш результат:{total_points}\\nНажмите Enter')\n",
        "     \n",
        "data = load()\n",
        "while len(data) > 0:\n",
        "  clear()\n",
        "  print('''  1 Вывести список Стран и Столиц\n",
        "  2 Вевести столицу Страны по её названию\n",
        "  3 Настройки игры\n",
        "  4 Играть\n",
        "  5 Выход''')\n",
        "  sel = input()\n",
        "  if sel == '1':\n",
        "    showlist()\n",
        "  if sel == '2':\n",
        "    fcapital()\n",
        "  if sel == '3':\n",
        "    config()\n",
        "  if sel == '4':\n",
        "    game()\n",
        "  if sel == '5':\n",
        "    break\n",
        "\n",
        "clear()\n",
        "print('До свидания!')\n"
      ],
      "metadata": {
        "id": "2CbFu5-7m-GJ",
        "colab": {
          "base_uri": "https://localhost:8080/"
        },
        "outputId": "1e68f174-1dbb-4356-84f3-522e88cdfbfa"
      },
      "execution_count": 108,
      "outputs": [
        {
          "output_type": "stream",
          "name": "stdout",
          "text": [
            "До свидания!\n"
          ]
        }
      ]
    },
    {
      "cell_type": "markdown",
      "source": [
        "\n",
        "Задача 15.\n",
        "Дан текст (в текстовом файле). Со знаками пунктуации и проч. Сделайте частотный анализ словоформ: для каждой словоформы выведите, сколько раз она встретилась в тексте, и её IPM (посчитанный на этом тексте). Вывод должен отсортирован по убыванию частоты, и по алфавиту в случае одинаковых частот (подумайте, как это сделать с помощью lambda). Постарайтесь сделать это красиво.\n",
        "\n",
        "def analysis(text):\n",
        "    # your code here"
      ],
      "metadata": {
        "id": "PJmKf_hPm-dG"
      }
    },
    {
      "cell_type": "code",
      "source": [
        "def wordization(string) -> list:\n",
        "  A = list('..,:;\\\\\\'\"/|?!()<>[]{}«»')\n",
        "  T = string\n",
        "  for a in A:\n",
        "    T = T.replace(a, ' ')\n",
        "  return list(filter(lambda x: not x in '-–',T.split()))\n",
        "\n",
        "def analysis(text):\n",
        "  L = [x.lower() for x in wordization(text)]\n",
        "  lL = len(L)\n",
        "  D = {x: {'count': L.count(x), 'IPM': int(L.count(x) / lL*1000000)} \n",
        "       for x in sorted(set(L), key = lambda i: (lL - L.count(i), i))}\n",
        "  return D\n",
        "\n",
        "\n",
        "\n",
        "file = open('/content/text_sonechka.txt')\n",
        "text = file.read()\n",
        "file.close()\n",
        "A = analysis(text)\n",
        "file = open('analysis_result.txt','w')\n",
        "for i in A.keys():\n",
        "  file.write(f'Словоформа:\\'{i}\\' Частота:{A[i][\"count\"]} IPM:{A[i][\"IPM\"]}\\n')\n",
        "file.close()\n"
      ],
      "metadata": {
        "id": "5ufMgpd0nFgi"
      },
      "execution_count": 118,
      "outputs": []
    }
  ]
}