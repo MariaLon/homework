{
  "nbformat": 4,
  "nbformat_minor": 0,
  "metadata": {
    "colab": {
      "provenance": [],
      "authorship_tag": "ABX9TyMbTXKg09dKaJ8gsd/w4tgX",
      "include_colab_link": true
    },
    "kernelspec": {
      "name": "python3",
      "display_name": "Python 3"
    },
    "language_info": {
      "name": "python"
    }
  },
  "cells": [
    {
      "cell_type": "markdown",
      "metadata": {
        "id": "view-in-github",
        "colab_type": "text"
      },
      "source": [
        "<a href=\"https://colab.research.google.com/github/MariaLon/homework/blob/master/_l_hw01.ipynb\" target=\"_parent\"><img src=\"https://colab.research.google.com/assets/colab-badge.svg\" alt=\"Open In Colab\"/></a>"
      ]
    },
    {
      "cell_type": "markdown",
      "source": [
        "Задача 1"
      ],
      "metadata": {
        "id": "Dh-bIkGF6FCt"
      }
    },
    {
      "cell_type": "code",
      "execution_count": null,
      "metadata": {
        "colab": {
          "base_uri": "https://localhost:8080/"
        },
        "id": "03EQm6H5y3kd",
        "outputId": "41082171-9b9c-46d4-cadd-721ae62a0aef"
      },
      "outputs": [
        {
          "output_type": "stream",
          "name": "stdout",
          "text": [
            "1.23\n",
            "6\n"
          ]
        }
      ],
      "source": [
        "s=input()\n",
        "b=0\n",
        "for number in range(len(s)):\n",
        "   if s[number]!='.' : b+=int(s[number])\n",
        "print(b)"
      ]
    },
    {
      "cell_type": "markdown",
      "source": [
        "Задача 2"
      ],
      "metadata": {
        "id": "dIgxl9KaYEK8"
      }
    },
    {
      "cell_type": "code",
      "source": [
        "p=int(input())\n",
        "x=int(input())\n",
        "y=int(input())\n",
        "px=x/100*p\n",
        "py=y/100*p\n",
        "y+=py\n",
        "x+=px+y/100\n",
        "y=y%100\n",
        "print(f\"{int(x)}р {int(y)}коп\")"
      ],
      "metadata": {
        "colab": {
          "base_uri": "https://localhost:8080/"
        },
        "id": "7Iy7-QoQYG0C",
        "outputId": "45c36610-49f4-45bd-df7c-9b5ce6b73bae"
      },
      "execution_count": null,
      "outputs": [
        {
          "output_type": "stream",
          "name": "stdout",
          "text": [
            "100\n",
            "90\n",
            "90\n",
            "181р 80коп\n"
          ]
        }
      ]
    },
    {
      "cell_type": "code",
      "source": [],
      "metadata": {
        "id": "wygTWffdYC7L"
      },
      "execution_count": null,
      "outputs": []
    },
    {
      "cell_type": "markdown",
      "source": [
        "Задача 3"
      ],
      "metadata": {
        "id": "NSNvtvY7fOMg"
      }
    },
    {
      "cell_type": "code",
      "source": [
        "x=int(input())\n",
        "y=int(input())\n",
        "d=1\n",
        "while x<y:\n",
        "  x*=1.7\n",
        "  d+=1\n",
        "print(d)"
      ],
      "metadata": {
        "id": "MY_dA2Y7fRA7",
        "colab": {
          "base_uri": "https://localhost:8080/"
        },
        "outputId": "63f7e3ea-4195-4884-db80-832d8e7d4078"
      },
      "execution_count": null,
      "outputs": [
        {
          "output_type": "stream",
          "name": "stdout",
          "text": [
            "10\n",
            "30\n",
            "4\n"
          ]
        }
      ]
    },
    {
      "cell_type": "markdown",
      "source": [
        "Задача 4"
      ],
      "metadata": {
        "id": "ZKvhAKBl804a"
      }
    },
    {
      "cell_type": "code",
      "source": [
        "x=int(input())\n",
        "y=int(input())\n",
        "d=1\n",
        "fy=x\n",
        "while fy<y:\n",
        "  x*=1.7\n",
        "  fy+=x\n",
        "  d+=1\n",
        "print(d)"
      ],
      "metadata": {
        "colab": {
          "base_uri": "https://localhost:8080/"
        },
        "id": "QH6ChYQz83L3",
        "outputId": "b5335f12-7de6-44e2-aaeb-60fba75893c3"
      },
      "execution_count": null,
      "outputs": [
        {
          "output_type": "stream",
          "name": "stdout",
          "text": [
            "10\n",
            "100\n",
            "4\n"
          ]
        }
      ]
    },
    {
      "cell_type": "markdown",
      "source": [
        "Задача 5"
      ],
      "metadata": {
        "id": "Uaen7Y2v9-xo"
      }
    },
    {
      "cell_type": "code",
      "source": [
        "a=int(input())\n",
        "if a==0 :\n",
        "  print(0)\n",
        "else:\n",
        "  fib_prev, fib_curr= 0, 1\n",
        "  n=1\n",
        "  while n < a:\n",
        "    fib_prev, fib_curr = fib_curr, fib_prev + fib_curr\n",
        "    n += 1 \n",
        "  print(fib_curr)\n",
        "  "
      ],
      "metadata": {
        "id": "7LcWcSVF-Ccx",
        "colab": {
          "base_uri": "https://localhost:8080/"
        },
        "outputId": "cb1c648f-57f1-402c-91b0-32dc41a6b060"
      },
      "execution_count": null,
      "outputs": [
        {
          "output_type": "stream",
          "name": "stdout",
          "text": [
            "6\n",
            "8\n"
          ]
        }
      ]
    },
    {
      "cell_type": "markdown",
      "source": [
        "Задача 6"
      ],
      "metadata": {
        "id": "ohLMq8mX92W2"
      }
    },
    {
      "cell_type": "code",
      "source": [
        "sec=int(input(\"Напишите секунды \"))\n",
        "h=sec//3600\n",
        "m=(sec-(h*3600))//60\n",
        "s=sec-(h*3600)-(m*60)\n",
        "\n",
        "print(f\"{str(h).zfill(2)}:{str(m).zfill(2)}:{str(s).zfill(2)}\")"
      ],
      "metadata": {
        "colab": {
          "base_uri": "https://localhost:8080/"
        },
        "id": "tHeQC3LN97gf",
        "outputId": "84d52174-3500-4640-d101-1bdb25744331"
      },
      "execution_count": null,
      "outputs": [
        {
          "output_type": "stream",
          "name": "stdout",
          "text": [
            "Напишите секунды 56839\n",
            "15:47:19\n"
          ]
        }
      ]
    },
    {
      "cell_type": "markdown",
      "source": [],
      "metadata": {
        "id": "7NJWYkeW9lrA"
      }
    }
  ]
}