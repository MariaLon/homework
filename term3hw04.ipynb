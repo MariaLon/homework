{
  "nbformat": 4,
  "nbformat_minor": 0,
  "metadata": {
    "colab": {
      "provenance": [],
      "authorship_tag": "ABX9TyPiAnmyE6IL80XgXmPr7t7G",
      "include_colab_link": true
    },
    "kernelspec": {
      "name": "python3",
      "display_name": "Python 3"
    },
    "language_info": {
      "name": "python"
    },
    "widgets": {
      "application/vnd.jupyter.widget-state+json": {
        "e57a4fe16ed84050a4d734f2115c7421": {
          "model_module": "@jupyter-widgets/controls",
          "model_name": "VBoxModel",
          "model_module_version": "1.5.0",
          "state": {
            "_dom_classes": [
              "widget-interact"
            ],
            "_model_module": "@jupyter-widgets/controls",
            "_model_module_version": "1.5.0",
            "_model_name": "VBoxModel",
            "_view_count": null,
            "_view_module": "@jupyter-widgets/controls",
            "_view_module_version": "1.5.0",
            "_view_name": "VBoxView",
            "box_style": "",
            "children": [
              "IPY_MODEL_53a29bb84be44659a54074248addb7f6",
              "IPY_MODEL_e21ccad7e8a94153b16bce7b271fe171",
              "IPY_MODEL_bba580e134814d61b80be79727eecc0a"
            ],
            "layout": "IPY_MODEL_ddde2ec68bb1438580e9a676af5b8749"
          }
        },
        "53a29bb84be44659a54074248addb7f6": {
          "model_module": "@jupyter-widgets/controls",
          "model_name": "IntSliderModel",
          "model_module_version": "1.5.0",
          "state": {
            "_dom_classes": [],
            "_model_module": "@jupyter-widgets/controls",
            "_model_module_version": "1.5.0",
            "_model_name": "IntSliderModel",
            "_view_count": null,
            "_view_module": "@jupyter-widgets/controls",
            "_view_module_version": "1.5.0",
            "_view_name": "IntSliderView",
            "continuous_update": true,
            "description": "x",
            "description_tooltip": null,
            "disabled": false,
            "layout": "IPY_MODEL_411326bc015746a89d6cde3dd3d1fd76",
            "max": 100,
            "min": 1,
            "orientation": "horizontal",
            "readout": true,
            "readout_format": "d",
            "step": 1,
            "style": "IPY_MODEL_d7bc0274f30342e5b0a02de31e5045cb",
            "value": 4
          }
        },
        "e21ccad7e8a94153b16bce7b271fe171": {
          "model_module": "@jupyter-widgets/controls",
          "model_name": "DropdownModel",
          "model_module_version": "1.5.0",
          "state": {
            "_dom_classes": [],
            "_model_module": "@jupyter-widgets/controls",
            "_model_module_version": "1.5.0",
            "_model_name": "DropdownModel",
            "_options_labels": [
              "1",
              "2",
              "3",
              "4",
              "5",
              "6",
              "7",
              "8",
              "9",
              "10",
              "11",
              "12",
              "13",
              "14",
              "15",
              "16",
              "17",
              "18",
              "19",
              "20"
            ],
            "_view_count": null,
            "_view_module": "@jupyter-widgets/controls",
            "_view_module_version": "1.5.0",
            "_view_name": "DropdownView",
            "description": "n",
            "description_tooltip": null,
            "disabled": false,
            "index": 6,
            "layout": "IPY_MODEL_85a2cb2615ef4206a02edd314b1fa89b",
            "style": "IPY_MODEL_fa7e652506c845348daefcc676417343"
          }
        },
        "bba580e134814d61b80be79727eecc0a": {
          "model_module": "@jupyter-widgets/output",
          "model_name": "OutputModel",
          "model_module_version": "1.0.0",
          "state": {
            "_dom_classes": [],
            "_model_module": "@jupyter-widgets/output",
            "_model_module_version": "1.0.0",
            "_model_name": "OutputModel",
            "_view_count": null,
            "_view_module": "@jupyter-widgets/output",
            "_view_module_version": "1.0.0",
            "_view_name": "OutputView",
            "layout": "IPY_MODEL_48336114c7e04c02803f4267e21be545",
            "msg_id": "",
            "outputs": [
              {
                "output_type": "stream",
                "name": "stderr",
                "text": [
                  "<ipython-input-29-900496952526>:9: FutureWarning: \n",
                  "\n",
                  "The `ci` parameter is deprecated. Use `errorbar=None` for the same effect.\n",
                  "\n",
                  "  sns.barplot(x=[x for x in collection.keys()], y=[collection[x]\n"
                ]
              }
            ]
          }
        },
        "ddde2ec68bb1438580e9a676af5b8749": {
          "model_module": "@jupyter-widgets/base",
          "model_name": "LayoutModel",
          "model_module_version": "1.2.0",
          "state": {
            "_model_module": "@jupyter-widgets/base",
            "_model_module_version": "1.2.0",
            "_model_name": "LayoutModel",
            "_view_count": null,
            "_view_module": "@jupyter-widgets/base",
            "_view_module_version": "1.2.0",
            "_view_name": "LayoutView",
            "align_content": null,
            "align_items": null,
            "align_self": null,
            "border": null,
            "bottom": null,
            "display": null,
            "flex": null,
            "flex_flow": null,
            "grid_area": null,
            "grid_auto_columns": null,
            "grid_auto_flow": null,
            "grid_auto_rows": null,
            "grid_column": null,
            "grid_gap": null,
            "grid_row": null,
            "grid_template_areas": null,
            "grid_template_columns": null,
            "grid_template_rows": null,
            "height": null,
            "justify_content": null,
            "justify_items": null,
            "left": null,
            "margin": null,
            "max_height": null,
            "max_width": null,
            "min_height": null,
            "min_width": null,
            "object_fit": null,
            "object_position": null,
            "order": null,
            "overflow": null,
            "overflow_x": null,
            "overflow_y": null,
            "padding": null,
            "right": null,
            "top": null,
            "visibility": null,
            "width": null
          }
        },
        "411326bc015746a89d6cde3dd3d1fd76": {
          "model_module": "@jupyter-widgets/base",
          "model_name": "LayoutModel",
          "model_module_version": "1.2.0",
          "state": {
            "_model_module": "@jupyter-widgets/base",
            "_model_module_version": "1.2.0",
            "_model_name": "LayoutModel",
            "_view_count": null,
            "_view_module": "@jupyter-widgets/base",
            "_view_module_version": "1.2.0",
            "_view_name": "LayoutView",
            "align_content": null,
            "align_items": null,
            "align_self": null,
            "border": null,
            "bottom": null,
            "display": null,
            "flex": null,
            "flex_flow": null,
            "grid_area": null,
            "grid_auto_columns": null,
            "grid_auto_flow": null,
            "grid_auto_rows": null,
            "grid_column": null,
            "grid_gap": null,
            "grid_row": null,
            "grid_template_areas": null,
            "grid_template_columns": null,
            "grid_template_rows": null,
            "height": null,
            "justify_content": null,
            "justify_items": null,
            "left": null,
            "margin": null,
            "max_height": null,
            "max_width": null,
            "min_height": null,
            "min_width": null,
            "object_fit": null,
            "object_position": null,
            "order": null,
            "overflow": null,
            "overflow_x": null,
            "overflow_y": null,
            "padding": null,
            "right": null,
            "top": null,
            "visibility": null,
            "width": null
          }
        },
        "d7bc0274f30342e5b0a02de31e5045cb": {
          "model_module": "@jupyter-widgets/controls",
          "model_name": "SliderStyleModel",
          "model_module_version": "1.5.0",
          "state": {
            "_model_module": "@jupyter-widgets/controls",
            "_model_module_version": "1.5.0",
            "_model_name": "SliderStyleModel",
            "_view_count": null,
            "_view_module": "@jupyter-widgets/base",
            "_view_module_version": "1.2.0",
            "_view_name": "StyleView",
            "description_width": "",
            "handle_color": null
          }
        },
        "85a2cb2615ef4206a02edd314b1fa89b": {
          "model_module": "@jupyter-widgets/base",
          "model_name": "LayoutModel",
          "model_module_version": "1.2.0",
          "state": {
            "_model_module": "@jupyter-widgets/base",
            "_model_module_version": "1.2.0",
            "_model_name": "LayoutModel",
            "_view_count": null,
            "_view_module": "@jupyter-widgets/base",
            "_view_module_version": "1.2.0",
            "_view_name": "LayoutView",
            "align_content": null,
            "align_items": null,
            "align_self": null,
            "border": null,
            "bottom": null,
            "display": null,
            "flex": null,
            "flex_flow": null,
            "grid_area": null,
            "grid_auto_columns": null,
            "grid_auto_flow": null,
            "grid_auto_rows": null,
            "grid_column": null,
            "grid_gap": null,
            "grid_row": null,
            "grid_template_areas": null,
            "grid_template_columns": null,
            "grid_template_rows": null,
            "height": null,
            "justify_content": null,
            "justify_items": null,
            "left": null,
            "margin": null,
            "max_height": null,
            "max_width": null,
            "min_height": null,
            "min_width": null,
            "object_fit": null,
            "object_position": null,
            "order": null,
            "overflow": null,
            "overflow_x": null,
            "overflow_y": null,
            "padding": null,
            "right": null,
            "top": null,
            "visibility": null,
            "width": null
          }
        },
        "fa7e652506c845348daefcc676417343": {
          "model_module": "@jupyter-widgets/controls",
          "model_name": "DescriptionStyleModel",
          "model_module_version": "1.5.0",
          "state": {
            "_model_module": "@jupyter-widgets/controls",
            "_model_module_version": "1.5.0",
            "_model_name": "DescriptionStyleModel",
            "_view_count": null,
            "_view_module": "@jupyter-widgets/base",
            "_view_module_version": "1.2.0",
            "_view_name": "StyleView",
            "description_width": ""
          }
        },
        "48336114c7e04c02803f4267e21be545": {
          "model_module": "@jupyter-widgets/base",
          "model_name": "LayoutModel",
          "model_module_version": "1.2.0",
          "state": {
            "_model_module": "@jupyter-widgets/base",
            "_model_module_version": "1.2.0",
            "_model_name": "LayoutModel",
            "_view_count": null,
            "_view_module": "@jupyter-widgets/base",
            "_view_module_version": "1.2.0",
            "_view_name": "LayoutView",
            "align_content": null,
            "align_items": null,
            "align_self": null,
            "border": null,
            "bottom": null,
            "display": null,
            "flex": null,
            "flex_flow": null,
            "grid_area": null,
            "grid_auto_columns": null,
            "grid_auto_flow": null,
            "grid_auto_rows": null,
            "grid_column": null,
            "grid_gap": null,
            "grid_row": null,
            "grid_template_areas": null,
            "grid_template_columns": null,
            "grid_template_rows": null,
            "height": null,
            "justify_content": null,
            "justify_items": null,
            "left": null,
            "margin": null,
            "max_height": null,
            "max_width": null,
            "min_height": null,
            "min_width": null,
            "object_fit": null,
            "object_position": null,
            "order": null,
            "overflow": null,
            "overflow_x": null,
            "overflow_y": null,
            "padding": null,
            "right": null,
            "top": null,
            "visibility": null,
            "width": null
          }
        },
        "23d5e0ab127446e4bb5533bcb2582dc8": {
          "model_module": "@jupyter-widgets/controls",
          "model_name": "VBoxModel",
          "model_module_version": "1.5.0",
          "state": {
            "_dom_classes": [
              "widget-interact"
            ],
            "_model_module": "@jupyter-widgets/controls",
            "_model_module_version": "1.5.0",
            "_model_name": "VBoxModel",
            "_view_count": null,
            "_view_module": "@jupyter-widgets/controls",
            "_view_module_version": "1.5.0",
            "_view_name": "VBoxView",
            "box_style": "",
            "children": [
              "IPY_MODEL_2e2080280855440b9bc05b3040a87376",
              "IPY_MODEL_b82582de97fc443597007b5101f80ce2",
              "IPY_MODEL_5ba440a79a4f489897db0a4a80bd8773",
              "IPY_MODEL_2c5954b9fa1d4d8fa7bf5c4a2d0e870d"
            ],
            "layout": "IPY_MODEL_7037a3b8194045fb96deeb9d6bb9e161"
          }
        },
        "2e2080280855440b9bc05b3040a87376": {
          "model_module": "@jupyter-widgets/controls",
          "model_name": "IntSliderModel",
          "model_module_version": "1.5.0",
          "state": {
            "_dom_classes": [],
            "_model_module": "@jupyter-widgets/controls",
            "_model_module_version": "1.5.0",
            "_model_name": "IntSliderModel",
            "_view_count": null,
            "_view_module": "@jupyter-widgets/controls",
            "_view_module_version": "1.5.0",
            "_view_name": "IntSliderView",
            "continuous_update": true,
            "description": "PointsCount",
            "description_tooltip": null,
            "disabled": false,
            "layout": "IPY_MODEL_ccae8fbc135648aa81dd7757b303a7d3",
            "max": 100,
            "min": 10,
            "orientation": "horizontal",
            "readout": true,
            "readout_format": "d",
            "step": 1,
            "style": "IPY_MODEL_a7a52873d7604ab5b410054f7c80c827",
            "value": 62
          }
        },
        "b82582de97fc443597007b5101f80ce2": {
          "model_module": "@jupyter-widgets/controls",
          "model_name": "IntSliderModel",
          "model_module_version": "1.5.0",
          "state": {
            "_dom_classes": [],
            "_model_module": "@jupyter-widgets/controls",
            "_model_module_version": "1.5.0",
            "_model_name": "IntSliderModel",
            "_view_count": null,
            "_view_module": "@jupyter-widgets/controls",
            "_view_module_version": "1.5.0",
            "_view_name": "IntSliderView",
            "continuous_update": true,
            "description": "MAXx",
            "description_tooltip": null,
            "disabled": false,
            "layout": "IPY_MODEL_2ce1dd7416ea4ffea346bd6006d53210",
            "max": 100,
            "min": 1,
            "orientation": "horizontal",
            "readout": true,
            "readout_format": "d",
            "step": 1,
            "style": "IPY_MODEL_c9a8c2886217487baae7113f3754a2b4",
            "value": 41
          }
        },
        "5ba440a79a4f489897db0a4a80bd8773": {
          "model_module": "@jupyter-widgets/controls",
          "model_name": "IntSliderModel",
          "model_module_version": "1.5.0",
          "state": {
            "_dom_classes": [],
            "_model_module": "@jupyter-widgets/controls",
            "_model_module_version": "1.5.0",
            "_model_name": "IntSliderModel",
            "_view_count": null,
            "_view_module": "@jupyter-widgets/controls",
            "_view_module_version": "1.5.0",
            "_view_name": "IntSliderView",
            "continuous_update": true,
            "description": "MAXy",
            "description_tooltip": null,
            "disabled": false,
            "layout": "IPY_MODEL_d71e1806e48a401ba9b496a1b0ab9246",
            "max": 100,
            "min": 1,
            "orientation": "horizontal",
            "readout": true,
            "readout_format": "d",
            "step": 1,
            "style": "IPY_MODEL_2e09a222fed74d6781a037a990d1d8cb",
            "value": 41
          }
        },
        "2c5954b9fa1d4d8fa7bf5c4a2d0e870d": {
          "model_module": "@jupyter-widgets/output",
          "model_name": "OutputModel",
          "model_module_version": "1.0.0",
          "state": {
            "_dom_classes": [],
            "_model_module": "@jupyter-widgets/output",
            "_model_module_version": "1.0.0",
            "_model_name": "OutputModel",
            "_view_count": null,
            "_view_module": "@jupyter-widgets/output",
            "_view_module_version": "1.0.0",
            "_view_name": "OutputView",
            "layout": "IPY_MODEL_869e83687d6a45caa0a97e020cdc9e82",
            "msg_id": "",
            "outputs": [
              {
                "output_type": "display_data",
                "data": {
                  "text/plain": "<Figure size 640x480 with 1 Axes>",
                  "image/png": "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\n"
                },
                "metadata": {}
              }
            ]
          }
        },
        "7037a3b8194045fb96deeb9d6bb9e161": {
          "model_module": "@jupyter-widgets/base",
          "model_name": "LayoutModel",
          "model_module_version": "1.2.0",
          "state": {
            "_model_module": "@jupyter-widgets/base",
            "_model_module_version": "1.2.0",
            "_model_name": "LayoutModel",
            "_view_count": null,
            "_view_module": "@jupyter-widgets/base",
            "_view_module_version": "1.2.0",
            "_view_name": "LayoutView",
            "align_content": null,
            "align_items": null,
            "align_self": null,
            "border": null,
            "bottom": null,
            "display": null,
            "flex": null,
            "flex_flow": null,
            "grid_area": null,
            "grid_auto_columns": null,
            "grid_auto_flow": null,
            "grid_auto_rows": null,
            "grid_column": null,
            "grid_gap": null,
            "grid_row": null,
            "grid_template_areas": null,
            "grid_template_columns": null,
            "grid_template_rows": null,
            "height": null,
            "justify_content": null,
            "justify_items": null,
            "left": null,
            "margin": null,
            "max_height": null,
            "max_width": null,
            "min_height": null,
            "min_width": null,
            "object_fit": null,
            "object_position": null,
            "order": null,
            "overflow": null,
            "overflow_x": null,
            "overflow_y": null,
            "padding": null,
            "right": null,
            "top": null,
            "visibility": null,
            "width": null
          }
        },
        "ccae8fbc135648aa81dd7757b303a7d3": {
          "model_module": "@jupyter-widgets/base",
          "model_name": "LayoutModel",
          "model_module_version": "1.2.0",
          "state": {
            "_model_module": "@jupyter-widgets/base",
            "_model_module_version": "1.2.0",
            "_model_name": "LayoutModel",
            "_view_count": null,
            "_view_module": "@jupyter-widgets/base",
            "_view_module_version": "1.2.0",
            "_view_name": "LayoutView",
            "align_content": null,
            "align_items": null,
            "align_self": null,
            "border": null,
            "bottom": null,
            "display": null,
            "flex": null,
            "flex_flow": null,
            "grid_area": null,
            "grid_auto_columns": null,
            "grid_auto_flow": null,
            "grid_auto_rows": null,
            "grid_column": null,
            "grid_gap": null,
            "grid_row": null,
            "grid_template_areas": null,
            "grid_template_columns": null,
            "grid_template_rows": null,
            "height": null,
            "justify_content": null,
            "justify_items": null,
            "left": null,
            "margin": null,
            "max_height": null,
            "max_width": null,
            "min_height": null,
            "min_width": null,
            "object_fit": null,
            "object_position": null,
            "order": null,
            "overflow": null,
            "overflow_x": null,
            "overflow_y": null,
            "padding": null,
            "right": null,
            "top": null,
            "visibility": null,
            "width": null
          }
        },
        "a7a52873d7604ab5b410054f7c80c827": {
          "model_module": "@jupyter-widgets/controls",
          "model_name": "SliderStyleModel",
          "model_module_version": "1.5.0",
          "state": {
            "_model_module": "@jupyter-widgets/controls",
            "_model_module_version": "1.5.0",
            "_model_name": "SliderStyleModel",
            "_view_count": null,
            "_view_module": "@jupyter-widgets/base",
            "_view_module_version": "1.2.0",
            "_view_name": "StyleView",
            "description_width": "",
            "handle_color": null
          }
        },
        "2ce1dd7416ea4ffea346bd6006d53210": {
          "model_module": "@jupyter-widgets/base",
          "model_name": "LayoutModel",
          "model_module_version": "1.2.0",
          "state": {
            "_model_module": "@jupyter-widgets/base",
            "_model_module_version": "1.2.0",
            "_model_name": "LayoutModel",
            "_view_count": null,
            "_view_module": "@jupyter-widgets/base",
            "_view_module_version": "1.2.0",
            "_view_name": "LayoutView",
            "align_content": null,
            "align_items": null,
            "align_self": null,
            "border": null,
            "bottom": null,
            "display": null,
            "flex": null,
            "flex_flow": null,
            "grid_area": null,
            "grid_auto_columns": null,
            "grid_auto_flow": null,
            "grid_auto_rows": null,
            "grid_column": null,
            "grid_gap": null,
            "grid_row": null,
            "grid_template_areas": null,
            "grid_template_columns": null,
            "grid_template_rows": null,
            "height": null,
            "justify_content": null,
            "justify_items": null,
            "left": null,
            "margin": null,
            "max_height": null,
            "max_width": null,
            "min_height": null,
            "min_width": null,
            "object_fit": null,
            "object_position": null,
            "order": null,
            "overflow": null,
            "overflow_x": null,
            "overflow_y": null,
            "padding": null,
            "right": null,
            "top": null,
            "visibility": null,
            "width": null
          }
        },
        "c9a8c2886217487baae7113f3754a2b4": {
          "model_module": "@jupyter-widgets/controls",
          "model_name": "SliderStyleModel",
          "model_module_version": "1.5.0",
          "state": {
            "_model_module": "@jupyter-widgets/controls",
            "_model_module_version": "1.5.0",
            "_model_name": "SliderStyleModel",
            "_view_count": null,
            "_view_module": "@jupyter-widgets/base",
            "_view_module_version": "1.2.0",
            "_view_name": "StyleView",
            "description_width": "",
            "handle_color": null
          }
        },
        "d71e1806e48a401ba9b496a1b0ab9246": {
          "model_module": "@jupyter-widgets/base",
          "model_name": "LayoutModel",
          "model_module_version": "1.2.0",
          "state": {
            "_model_module": "@jupyter-widgets/base",
            "_model_module_version": "1.2.0",
            "_model_name": "LayoutModel",
            "_view_count": null,
            "_view_module": "@jupyter-widgets/base",
            "_view_module_version": "1.2.0",
            "_view_name": "LayoutView",
            "align_content": null,
            "align_items": null,
            "align_self": null,
            "border": null,
            "bottom": null,
            "display": null,
            "flex": null,
            "flex_flow": null,
            "grid_area": null,
            "grid_auto_columns": null,
            "grid_auto_flow": null,
            "grid_auto_rows": null,
            "grid_column": null,
            "grid_gap": null,
            "grid_row": null,
            "grid_template_areas": null,
            "grid_template_columns": null,
            "grid_template_rows": null,
            "height": null,
            "justify_content": null,
            "justify_items": null,
            "left": null,
            "margin": null,
            "max_height": null,
            "max_width": null,
            "min_height": null,
            "min_width": null,
            "object_fit": null,
            "object_position": null,
            "order": null,
            "overflow": null,
            "overflow_x": null,
            "overflow_y": null,
            "padding": null,
            "right": null,
            "top": null,
            "visibility": null,
            "width": null
          }
        },
        "2e09a222fed74d6781a037a990d1d8cb": {
          "model_module": "@jupyter-widgets/controls",
          "model_name": "SliderStyleModel",
          "model_module_version": "1.5.0",
          "state": {
            "_model_module": "@jupyter-widgets/controls",
            "_model_module_version": "1.5.0",
            "_model_name": "SliderStyleModel",
            "_view_count": null,
            "_view_module": "@jupyter-widgets/base",
            "_view_module_version": "1.2.0",
            "_view_name": "StyleView",
            "description_width": "",
            "handle_color": null
          }
        },
        "869e83687d6a45caa0a97e020cdc9e82": {
          "model_module": "@jupyter-widgets/base",
          "model_name": "LayoutModel",
          "model_module_version": "1.2.0",
          "state": {
            "_model_module": "@jupyter-widgets/base",
            "_model_module_version": "1.2.0",
            "_model_name": "LayoutModel",
            "_view_count": null,
            "_view_module": "@jupyter-widgets/base",
            "_view_module_version": "1.2.0",
            "_view_name": "LayoutView",
            "align_content": null,
            "align_items": null,
            "align_self": null,
            "border": null,
            "bottom": null,
            "display": null,
            "flex": null,
            "flex_flow": null,
            "grid_area": null,
            "grid_auto_columns": null,
            "grid_auto_flow": null,
            "grid_auto_rows": null,
            "grid_column": null,
            "grid_gap": null,
            "grid_row": null,
            "grid_template_areas": null,
            "grid_template_columns": null,
            "grid_template_rows": null,
            "height": null,
            "justify_content": null,
            "justify_items": null,
            "left": null,
            "margin": null,
            "max_height": null,
            "max_width": null,
            "min_height": null,
            "min_width": null,
            "object_fit": null,
            "object_position": null,
            "order": null,
            "overflow": null,
            "overflow_x": null,
            "overflow_y": null,
            "padding": null,
            "right": null,
            "top": null,
            "visibility": null,
            "width": null
          }
        },
        "2291be5c651f4a5993b150a1e02b570b": {
          "model_module": "@jupyter-widgets/controls",
          "model_name": "VBoxModel",
          "model_module_version": "1.5.0",
          "state": {
            "_dom_classes": [
              "widget-interact"
            ],
            "_model_module": "@jupyter-widgets/controls",
            "_model_module_version": "1.5.0",
            "_model_name": "VBoxModel",
            "_view_count": null,
            "_view_module": "@jupyter-widgets/controls",
            "_view_module_version": "1.5.0",
            "_view_name": "VBoxView",
            "box_style": "",
            "children": [
              "IPY_MODEL_d9264dca3b9f4274ad24d4be1d04e95c",
              "IPY_MODEL_4d7502bf188b449880dc9cb950e5fc1d"
            ],
            "layout": "IPY_MODEL_5cab63871e77410cba15aceb66191a6c"
          }
        },
        "d9264dca3b9f4274ad24d4be1d04e95c": {
          "model_module": "@jupyter-widgets/controls",
          "model_name": "IntSliderModel",
          "model_module_version": "1.5.0",
          "state": {
            "_dom_classes": [],
            "_model_module": "@jupyter-widgets/controls",
            "_model_module_version": "1.5.0",
            "_model_name": "IntSliderModel",
            "_view_count": null,
            "_view_module": "@jupyter-widgets/controls",
            "_view_module_version": "1.5.0",
            "_view_name": "IntSliderView",
            "continuous_update": true,
            "description": "count",
            "description_tooltip": null,
            "disabled": false,
            "layout": "IPY_MODEL_d52d64f89a3342909e7ce6ed37daec07",
            "max": 50,
            "min": 5,
            "orientation": "horizontal",
            "readout": true,
            "readout_format": "d",
            "step": 1,
            "style": "IPY_MODEL_df5c9486a7564aa990401facb0e9bdda",
            "value": 30
          }
        },
        "4d7502bf188b449880dc9cb950e5fc1d": {
          "model_module": "@jupyter-widgets/output",
          "model_name": "OutputModel",
          "model_module_version": "1.0.0",
          "state": {
            "_dom_classes": [],
            "_model_module": "@jupyter-widgets/output",
            "_model_module_version": "1.0.0",
            "_model_name": "OutputModel",
            "_view_count": null,
            "_view_module": "@jupyter-widgets/output",
            "_view_module_version": "1.0.0",
            "_view_name": "OutputView",
            "layout": "IPY_MODEL_0b3b5fcfbbdd47f1987f67dc83ced9c3",
            "msg_id": "",
            "outputs": [
              {
                "output_type": "display_data",
                "data": {
                  "text/plain": "<Figure size 640x480 with 1 Axes>",
                  "image/png": "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\n"
                },
                "metadata": {}
              }
            ]
          }
        },
        "5cab63871e77410cba15aceb66191a6c": {
          "model_module": "@jupyter-widgets/base",
          "model_name": "LayoutModel",
          "model_module_version": "1.2.0",
          "state": {
            "_model_module": "@jupyter-widgets/base",
            "_model_module_version": "1.2.0",
            "_model_name": "LayoutModel",
            "_view_count": null,
            "_view_module": "@jupyter-widgets/base",
            "_view_module_version": "1.2.0",
            "_view_name": "LayoutView",
            "align_content": null,
            "align_items": null,
            "align_self": null,
            "border": null,
            "bottom": null,
            "display": null,
            "flex": null,
            "flex_flow": null,
            "grid_area": null,
            "grid_auto_columns": null,
            "grid_auto_flow": null,
            "grid_auto_rows": null,
            "grid_column": null,
            "grid_gap": null,
            "grid_row": null,
            "grid_template_areas": null,
            "grid_template_columns": null,
            "grid_template_rows": null,
            "height": null,
            "justify_content": null,
            "justify_items": null,
            "left": null,
            "margin": null,
            "max_height": null,
            "max_width": null,
            "min_height": null,
            "min_width": null,
            "object_fit": null,
            "object_position": null,
            "order": null,
            "overflow": null,
            "overflow_x": null,
            "overflow_y": null,
            "padding": null,
            "right": null,
            "top": null,
            "visibility": null,
            "width": null
          }
        },
        "d52d64f89a3342909e7ce6ed37daec07": {
          "model_module": "@jupyter-widgets/base",
          "model_name": "LayoutModel",
          "model_module_version": "1.2.0",
          "state": {
            "_model_module": "@jupyter-widgets/base",
            "_model_module_version": "1.2.0",
            "_model_name": "LayoutModel",
            "_view_count": null,
            "_view_module": "@jupyter-widgets/base",
            "_view_module_version": "1.2.0",
            "_view_name": "LayoutView",
            "align_content": null,
            "align_items": null,
            "align_self": null,
            "border": null,
            "bottom": null,
            "display": null,
            "flex": null,
            "flex_flow": null,
            "grid_area": null,
            "grid_auto_columns": null,
            "grid_auto_flow": null,
            "grid_auto_rows": null,
            "grid_column": null,
            "grid_gap": null,
            "grid_row": null,
            "grid_template_areas": null,
            "grid_template_columns": null,
            "grid_template_rows": null,
            "height": null,
            "justify_content": null,
            "justify_items": null,
            "left": null,
            "margin": null,
            "max_height": null,
            "max_width": null,
            "min_height": null,
            "min_width": null,
            "object_fit": null,
            "object_position": null,
            "order": null,
            "overflow": null,
            "overflow_x": null,
            "overflow_y": null,
            "padding": null,
            "right": null,
            "top": null,
            "visibility": null,
            "width": null
          }
        },
        "df5c9486a7564aa990401facb0e9bdda": {
          "model_module": "@jupyter-widgets/controls",
          "model_name": "SliderStyleModel",
          "model_module_version": "1.5.0",
          "state": {
            "_model_module": "@jupyter-widgets/controls",
            "_model_module_version": "1.5.0",
            "_model_name": "SliderStyleModel",
            "_view_count": null,
            "_view_module": "@jupyter-widgets/base",
            "_view_module_version": "1.2.0",
            "_view_name": "StyleView",
            "description_width": "",
            "handle_color": null
          }
        },
        "0b3b5fcfbbdd47f1987f67dc83ced9c3": {
          "model_module": "@jupyter-widgets/base",
          "model_name": "LayoutModel",
          "model_module_version": "1.2.0",
          "state": {
            "_model_module": "@jupyter-widgets/base",
            "_model_module_version": "1.2.0",
            "_model_name": "LayoutModel",
            "_view_count": null,
            "_view_module": "@jupyter-widgets/base",
            "_view_module_version": "1.2.0",
            "_view_name": "LayoutView",
            "align_content": null,
            "align_items": null,
            "align_self": null,
            "border": null,
            "bottom": null,
            "display": null,
            "flex": null,
            "flex_flow": null,
            "grid_area": null,
            "grid_auto_columns": null,
            "grid_auto_flow": null,
            "grid_auto_rows": null,
            "grid_column": null,
            "grid_gap": null,
            "grid_row": null,
            "grid_template_areas": null,
            "grid_template_columns": null,
            "grid_template_rows": null,
            "height": null,
            "justify_content": null,
            "justify_items": null,
            "left": null,
            "margin": null,
            "max_height": null,
            "max_width": null,
            "min_height": null,
            "min_width": null,
            "object_fit": null,
            "object_position": null,
            "order": null,
            "overflow": null,
            "overflow_x": null,
            "overflow_y": null,
            "padding": null,
            "right": null,
            "top": null,
            "visibility": null,
            "width": null
          }
        },
        "a73d6a4f4dcd40b2a1af8115697dd378": {
          "model_module": "@jupyter-widgets/controls",
          "model_name": "VBoxModel",
          "model_module_version": "1.5.0",
          "state": {
            "_dom_classes": [
              "widget-interact"
            ],
            "_model_module": "@jupyter-widgets/controls",
            "_model_module_version": "1.5.0",
            "_model_name": "VBoxModel",
            "_view_count": null,
            "_view_module": "@jupyter-widgets/controls",
            "_view_module_version": "1.5.0",
            "_view_name": "VBoxView",
            "box_style": "",
            "children": [
              "IPY_MODEL_847e058687804928948fdf3684283e5f",
              "IPY_MODEL_4a9f0c3a3145435aa5b7a11cdf50a8c5"
            ],
            "layout": "IPY_MODEL_2f63224669354ae7823dc2c7da46d90e"
          }
        },
        "847e058687804928948fdf3684283e5f": {
          "model_module": "@jupyter-widgets/controls",
          "model_name": "DropdownModel",
          "model_module_version": "1.5.0",
          "state": {
            "_dom_classes": [],
            "_model_module": "@jupyter-widgets/controls",
            "_model_module_version": "1.5.0",
            "_model_name": "DropdownModel",
            "_options_labels": [
              "colorblind",
              "deep",
              "pastel6",
              "bright",
              "dark",
              "pastel",
              "muted6",
              "dark6",
              "deep6",
              "muted",
              "colorblind6",
              "bright6"
            ],
            "_view_count": null,
            "_view_module": "@jupyter-widgets/controls",
            "_view_module_version": "1.5.0",
            "_view_name": "DropdownView",
            "description": "palette",
            "description_tooltip": null,
            "disabled": false,
            "index": 11,
            "layout": "IPY_MODEL_6758144f8e8a414b9b3160a0b20636dc",
            "style": "IPY_MODEL_56a870bf7c57491dba07bfba7d6a48c2"
          }
        },
        "4a9f0c3a3145435aa5b7a11cdf50a8c5": {
          "model_module": "@jupyter-widgets/output",
          "model_name": "OutputModel",
          "model_module_version": "1.0.0",
          "state": {
            "_dom_classes": [],
            "_model_module": "@jupyter-widgets/output",
            "_model_module_version": "1.0.0",
            "_model_name": "OutputModel",
            "_view_count": null,
            "_view_module": "@jupyter-widgets/output",
            "_view_module_version": "1.0.0",
            "_view_name": "OutputView",
            "layout": "IPY_MODEL_460d5c6480904594a60738513b18f41f",
            "msg_id": "",
            "outputs": [
              {
                "output_type": "display_data",
                "data": {
                  "text/plain": "<Figure size 600x100 with 1 Axes>",
                  "image/png": "iVBORw0KGgoAAAANSUhEUgAAAeQAAABlCAYAAACcNZAwAAAAOXRFWHRTb2Z0d2FyZQBNYXRwbG90bGliIHZlcnNpb24zLjcuMSwgaHR0cHM6Ly9tYXRwbG90bGliLm9yZy/bCgiHAAAACXBIWXMAAA9hAAAPYQGoP6dpAAADN0lEQVR4nO3aP2sTcRzH8V9iIILNBboIIZm6CO7u0ufjU+jgI/BZ+Dwc3R079CC7SQWHmnMIRRBT70LDfa59vZYE7oYv3xDe3J9R0zRNAQB6Ne57AABAkAEggiADQABBBoAAggwAAQQZAAIIMgAEmLQ5abfblfV6XWazWRmNRqeeCQCejKZpyna7LYvFoozHh6+DWwV5vV6X1Wr1aMMBwHNT13VZLpcHj7cK8mw22395V5fRpHqUwZ6D1x8v+x5hkL5cfut7hMH5/OZr3yMM0odPb/seYXDm59/7HmF4bjelvF/9aekBrYJ8f5t6NKkEuYPxWav18pdZ8Vikq5cvHv6j82/Vq74nGKAzDTjW/x75eqkLAAIIMgAEEGQACCDIABBAkAEggCADQABBBoAAggwAAQQZAAIIMgAEEGQACCDIABBAkAEggCADQABBBoAAggwAAQQZAAIIMgAEEGQACCDIABBAkAEggCADQABBBoAAggwAAQQZAAIIMgAEEGQACCDIABBAkAEggCADQABBBoAAggwAAQQZAAIIMgAEEGQACCDIABBAkAEggCADQABBBoAAggwAAQQZAAIIMgAEEGQACCDIABBAkAEggCADQABBBoAAggwAAQQZAAIIMgAEEGQACCDIABBAkAEggCADQABBBoAAggwAAQQZAAIIMgAEEGQACCDIABBAkAEggCADQABBBoAAggwAAQQZAAIIMgAEEGQACCDIABBAkAEggCADQABBBoAAggwAAQQZAAJM2pzUNM3+825z0mGemt3tXd8jDNK2NH2PMDg/f237HmGQNj/6nmCApjrQ2e1+Z/ctPWTU/O+MUsr19XW5uLh4nMEA4Bmq67osl8uDx1tdIZ+fn5dSSrm5uSnz+fxxJnsGNptNWa1Wpa7rUlVV3+MMgp0dx966s7Pj2Ft3TdOU7XZbFovFg+e1CvJ4vH/UPJ/P/QBHqKrK3jqys+PYW3d2dhx766bNxayXugAggCADQIBWQZ5Op+Xq6qpMp9NTz/Ok2Ft3dnYce+vOzo5jb6fT6i1rAOC03LIGgACCDAABBBkAAggyAAQQZAAIIMgAEECQASCAIANAgN+TvHhvf6tc2gAAAABJRU5ErkJggg==\n"
                },
                "metadata": {}
              }
            ]
          }
        },
        "2f63224669354ae7823dc2c7da46d90e": {
          "model_module": "@jupyter-widgets/base",
          "model_name": "LayoutModel",
          "model_module_version": "1.2.0",
          "state": {
            "_model_module": "@jupyter-widgets/base",
            "_model_module_version": "1.2.0",
            "_model_name": "LayoutModel",
            "_view_count": null,
            "_view_module": "@jupyter-widgets/base",
            "_view_module_version": "1.2.0",
            "_view_name": "LayoutView",
            "align_content": null,
            "align_items": null,
            "align_self": null,
            "border": null,
            "bottom": null,
            "display": null,
            "flex": null,
            "flex_flow": null,
            "grid_area": null,
            "grid_auto_columns": null,
            "grid_auto_flow": null,
            "grid_auto_rows": null,
            "grid_column": null,
            "grid_gap": null,
            "grid_row": null,
            "grid_template_areas": null,
            "grid_template_columns": null,
            "grid_template_rows": null,
            "height": null,
            "justify_content": null,
            "justify_items": null,
            "left": null,
            "margin": null,
            "max_height": null,
            "max_width": null,
            "min_height": null,
            "min_width": null,
            "object_fit": null,
            "object_position": null,
            "order": null,
            "overflow": null,
            "overflow_x": null,
            "overflow_y": null,
            "padding": null,
            "right": null,
            "top": null,
            "visibility": null,
            "width": null
          }
        },
        "6758144f8e8a414b9b3160a0b20636dc": {
          "model_module": "@jupyter-widgets/base",
          "model_name": "LayoutModel",
          "model_module_version": "1.2.0",
          "state": {
            "_model_module": "@jupyter-widgets/base",
            "_model_module_version": "1.2.0",
            "_model_name": "LayoutModel",
            "_view_count": null,
            "_view_module": "@jupyter-widgets/base",
            "_view_module_version": "1.2.0",
            "_view_name": "LayoutView",
            "align_content": null,
            "align_items": null,
            "align_self": null,
            "border": null,
            "bottom": null,
            "display": null,
            "flex": null,
            "flex_flow": null,
            "grid_area": null,
            "grid_auto_columns": null,
            "grid_auto_flow": null,
            "grid_auto_rows": null,
            "grid_column": null,
            "grid_gap": null,
            "grid_row": null,
            "grid_template_areas": null,
            "grid_template_columns": null,
            "grid_template_rows": null,
            "height": null,
            "justify_content": null,
            "justify_items": null,
            "left": null,
            "margin": null,
            "max_height": null,
            "max_width": null,
            "min_height": null,
            "min_width": null,
            "object_fit": null,
            "object_position": null,
            "order": null,
            "overflow": null,
            "overflow_x": null,
            "overflow_y": null,
            "padding": null,
            "right": null,
            "top": null,
            "visibility": null,
            "width": null
          }
        },
        "56a870bf7c57491dba07bfba7d6a48c2": {
          "model_module": "@jupyter-widgets/controls",
          "model_name": "DescriptionStyleModel",
          "model_module_version": "1.5.0",
          "state": {
            "_model_module": "@jupyter-widgets/controls",
            "_model_module_version": "1.5.0",
            "_model_name": "DescriptionStyleModel",
            "_view_count": null,
            "_view_module": "@jupyter-widgets/base",
            "_view_module_version": "1.2.0",
            "_view_name": "StyleView",
            "description_width": ""
          }
        },
        "460d5c6480904594a60738513b18f41f": {
          "model_module": "@jupyter-widgets/base",
          "model_name": "LayoutModel",
          "model_module_version": "1.2.0",
          "state": {
            "_model_module": "@jupyter-widgets/base",
            "_model_module_version": "1.2.0",
            "_model_name": "LayoutModel",
            "_view_count": null,
            "_view_module": "@jupyter-widgets/base",
            "_view_module_version": "1.2.0",
            "_view_name": "LayoutView",
            "align_content": null,
            "align_items": null,
            "align_self": null,
            "border": null,
            "bottom": null,
            "display": null,
            "flex": null,
            "flex_flow": null,
            "grid_area": null,
            "grid_auto_columns": null,
            "grid_auto_flow": null,
            "grid_auto_rows": null,
            "grid_column": null,
            "grid_gap": null,
            "grid_row": null,
            "grid_template_areas": null,
            "grid_template_columns": null,
            "grid_template_rows": null,
            "height": null,
            "justify_content": null,
            "justify_items": null,
            "left": null,
            "margin": null,
            "max_height": null,
            "max_width": null,
            "min_height": null,
            "min_width": null,
            "object_fit": null,
            "object_position": null,
            "order": null,
            "overflow": null,
            "overflow_x": null,
            "overflow_y": null,
            "padding": null,
            "right": null,
            "top": null,
            "visibility": null,
            "width": null
          }
        }
      }
    }
  },
  "cells": [
    {
      "cell_type": "markdown",
      "metadata": {
        "id": "view-in-github",
        "colab_type": "text"
      },
      "source": [
        "<a href=\"https://colab.research.google.com/github/MariaLon/homework/blob/main/term3hw04.ipynb\" target=\"_parent\"><img src=\"https://colab.research.google.com/assets/colab-badge.svg\" alt=\"Open In Colab\"/></a>"
      ]
    },
    {
      "cell_type": "markdown",
      "source": [
        "Задача 1.\n",
        "Постройте график для функции y=x²\n",
        ". Настойчиво предлагаю поиграться с его визуальными настройками."
      ],
      "metadata": {
        "id": "Z1QF7JHlYD4i"
      }
    },
    {
      "cell_type": "code",
      "source": [
        "#!pip install matplotlib\n",
        "import matplotlib.pyplot as plt\n",
        "import numpy as np\n",
        "X= np.arange(-5,5.5,0.5)\n",
        "plt.plot(X,X**2,'k')\n",
        "plt.scatter(X,X**2, s=30, color='orange')\n",
        "plt.title(\"y=x²\")\n",
        "plt.ylabel('Y axis')\n",
        "plt.xlabel('X axis')\n",
        "plt.show()"
      ],
      "metadata": {
        "colab": {
          "base_uri": "https://localhost:8080/",
          "height": 472
        },
        "id": "YkzbeNqlCM_1",
        "outputId": "d3a3a087-57c3-499d-80c4-7c177cf01bc5"
      },
      "execution_count": null,
      "outputs": [
        {
          "output_type": "display_data",
          "data": {
            "text/plain": [
              "<Figure size 640x480 with 1 Axes>"
            ],
            "image/png": "[encoded data removed]"
          },
          "metadata": {}
        }
      ]
    },
    {
      "cell_type": "markdown",
      "source": [
        "Задача 2.\n",
        "Сгенерируйте два массива случайных чисел и постройте для них график scatter."
      ],
      "metadata": {
        "id": "yAI_h8k8YGHh"
      }
    },
    {
      "cell_type": "code",
      "source": [
        "#!pip install ipywidgets\n",
        "\n",
        "from random import randrange\n",
        "import matplotlib.pyplot as plt\n",
        "import numpy as np\n",
        "from ipywidgets import interact, IntSlider\n",
        "\n",
        "\n",
        "@interact(\n",
        "         PointsCount=IntSlider(min=10, max=100, step=1, value=50),\n",
        "         MAXx=IntSlider(min=1, max=100, step=1, value=10),\n",
        "         MAXy=IntSlider(min=1, max=100, step=1, value=10))\n",
        "def Graphic(PointsCount, MAXx, MAXy):\n",
        "  X = [randrange(0, MAXx+1) for i in range(PointsCount)]\n",
        "  Y = [randrange(0, MAXy+1) for i in range(PointsCount)]\n",
        "  plt.title(\"Randomize Points\")\n",
        "  plt.ylabel('Y axis')\n",
        "  plt.xlabel('X axis')\n",
        "  plt.scatter(X, Y, s=30, color='orange')\n",
        "  plt.show()"
      ],
      "metadata": {
        "id": "nB-5VXQOYMRs",
        "colab": {
          "base_uri": "https://localhost:8080/",
          "height": 568,
          "referenced_widgets": [
            "23d5e0ab127446e4bb5533bcb2582dc8",
            "2e2080280855440b9bc05b3040a87376",
            "b82582de97fc443597007b5101f80ce2",
            "5ba440a79a4f489897db0a4a80bd8773",
            "2c5954b9fa1d4d8fa7bf5c4a2d0e870d",
            "7037a3b8194045fb96deeb9d6bb9e161",
            "ccae8fbc135648aa81dd7757b303a7d3",
            "a7a52873d7604ab5b410054f7c80c827",
            "2ce1dd7416ea4ffea346bd6006d53210",
            "c9a8c2886217487baae7113f3754a2b4",
            "d71e1806e48a401ba9b496a1b0ab9246",
            "2e09a222fed74d6781a037a990d1d8cb",
            "869e83687d6a45caa0a97e020cdc9e82"
          ]
        },
        "outputId": "7face7e8-a7d2-4704-badc-297196ad787b"
      },
      "execution_count": 68,
      "outputs": [
        {
          "output_type": "display_data",
          "data": {
            "text/plain": [
              "interactive(children=(IntSlider(value=50, description='PointsCount', min=10), IntSlider(value=10, description=…"
            ],
            "application/vnd.jupyter.widget-view+json": {
              "version_major": 2,
              "version_minor": 0,
              "model_id": "23d5e0ab127446e4bb5533bcb2582dc8"
            }
          },
          "metadata": {}
        }
      ]
    },
    {
      "cell_type": "markdown",
      "source": [
        "Задача 3.\n",
        "Напишите функцию, которая строит график для n самых частотных слов в тексте. Сделайте интерактивный график, где можно выбирать количество n слов."
      ],
      "metadata": {
        "id": "4appIusxYMsT"
      }
    },
    {
      "cell_type": "code",
      "source": [
        "import matplotlib.pyplot as plt\n",
        "from ipywidgets import interact, IntSlider, fixed\n",
        "\n",
        "def wordization(string) -> list:\n",
        "  A = list('-—..,:;\\\\\\'\"/|?!()<>[]{}«»')\n",
        "  T = string\n",
        "  for a in A:\n",
        "    T = T.replace(a, ' ')\n",
        "  return list(filter(lambda x: not x in '-–',T.split()))\n",
        "\n",
        "def analysis(text):\n",
        "  L = [x.lower() for x in wordization(text)]\n",
        "  lL = len(L)\n",
        "  D = {x: {'count': L.count(x), 'IPM': int(L.count(x) / lL*1000000)}\n",
        "       for x in L}\n",
        "  return D\n",
        "\n",
        "def Graphic(text, count):\n",
        "  A = analysis(text)\n",
        "  X = [i for i, j in sorted(A.items(), key=lambda x: x[1]['IPM'], reverse=True)] [:count]\n",
        "  Y = [A[i]['IPM'] for i in X]\n",
        "  fig = plt.figure()\n",
        "  ax = fig.add_subplot(111)\n",
        "  ax.barh(X, Y)\n",
        "  plt.show()\n",
        "\n",
        "\n",
        "file = open('/content/бунин.txt')\n",
        "Text = file.read()\n",
        "file.close()\n",
        "\n",
        "\n",
        "interact(Graphic, text = fixed(Text), count = IntSlider(min=5, max=50, step=1, value=10))\n"
      ],
      "metadata": {
        "id": "pjgUdTpmYP2m",
        "colab": {
          "base_uri": "https://localhost:8080/",
          "height": 479,
          "referenced_widgets": [
            "2291be5c651f4a5993b150a1e02b570b",
            "d9264dca3b9f4274ad24d4be1d04e95c",
            "4d7502bf188b449880dc9cb950e5fc1d",
            "5cab63871e77410cba15aceb66191a6c",
            "d52d64f89a3342909e7ce6ed37daec07",
            "df5c9486a7564aa990401facb0e9bdda",
            "0b3b5fcfbbdd47f1987f67dc83ced9c3"
          ]
        },
        "outputId": "b039292c-e052-4992-a4ee-71e6bbda98d9"
      },
      "execution_count": 60,
      "outputs": [
        {
          "output_type": "display_data",
          "data": {
            "text/plain": [
              "interactive(children=(IntSlider(value=10, description='count', max=50, min=5), Output()), _dom_classes=('widge…"
            ],
            "application/vnd.jupyter.widget-view+json": {
              "version_major": 2,
              "version_minor": 0,
              "model_id": "2291be5c651f4a5993b150a1e02b570b"
            }
          },
          "metadata": {}
        },
        {
          "output_type": "execute_result",
          "data": {
            "text/plain": [
              "<function __main__.Graphic(text, count)>"
            ]
          },
          "metadata": {},
          "execution_count": 60
        }
      ]
    },
    {
      "cell_type": "markdown",
      "source": [
        "Задача 4.\n",
        "Напишите функцию для просмотра палитр seaborn, оберните ее в interact, чтобы можно было в выпадающем списке выбирать название палитры."
      ],
      "metadata": {
        "id": "axqdJ17EYQJ4"
      }
    },
    {
      "cell_type": "code",
      "source": [
        "from matplotlib import pyplot as plt\n",
        "import seaborn as sb\n",
        "from ipywidgets import interact, IntSlider\n",
        "\n",
        "@interact(palette = set(sns.palettes.SEABORN_PALETTES))\n",
        "def SeabornPalette(palette):\n",
        "  sb.palplot(sb.color_palette(palette))\n",
        "  plt.show()\n"
      ],
      "metadata": {
        "id": "XEkJ476YYWpY",
        "colab": {
          "base_uri": "https://localhost:8080/",
          "height": 150,
          "referenced_widgets": [
            "a73d6a4f4dcd40b2a1af8115697dd378",
            "847e058687804928948fdf3684283e5f",
            "4a9f0c3a3145435aa5b7a11cdf50a8c5",
            "2f63224669354ae7823dc2c7da46d90e",
            "6758144f8e8a414b9b3160a0b20636dc",
            "56a870bf7c57491dba07bfba7d6a48c2",
            "460d5c6480904594a60738513b18f41f"
          ]
        },
        "outputId": "615a3135-85ca-40fa-9b99-5cfefc23a391"
      },
      "execution_count": 67,
      "outputs": [
        {
          "output_type": "display_data",
          "data": {
            "text/plain": [
              "interactive(children=(Dropdown(description='palette', options=('colorblind', 'deep', 'pastel6', 'bright', 'dar…"
            ],
            "application/vnd.jupyter.widget-view+json": {
              "version_major": 2,
              "version_minor": 0,
              "model_id": "a73d6a4f4dcd40b2a1af8115697dd378"
            }
          },
          "metadata": {}
        }
      ]
    },
    {
      "cell_type": "markdown",
      "source": [
        "Задачи с семинара\n",
        "\n",
        "Задача 3. Напишите функцию, которая будет строить график-гистограмму с помощью seaborn. Функция принимает два числа: x и n и генерирует n случайных значений от 0 до x. Таким образом, на оси X у нас числа от 1 до n, а на оси Y - сгенерированные значения. Выберите понравившуюся цветовую гамму."
      ],
      "metadata": {
        "id": "EF9BxrWmYfkk"
      }
    },
    {
      "cell_type": "code",
      "source": [
        "#!pip install seaborn\n",
        "import seaborn as sns\n",
        "from random import randrange\n",
        "\n",
        "def GG(x, n):\n",
        "  collection = {(i+1):randrange(0, x+1) for i in range(n)}\n",
        "  Mpalette = sns.color_palette(\"Blues\")\n",
        "#  sns.palplot(Mpalette)\n",
        "  sns.barplot(x=[x for x in collection.keys()], y=[collection[x] for x in collection.keys()], palette=Mpalette, ci=None)\n",
        "\n",
        "GG(150,20)"
      ],
      "metadata": {
        "colab": {
          "base_uri": "https://localhost:8080/",
          "height": 517
        },
        "id": "UYztKdXFY1v4",
        "outputId": "43522a1a-7aa7-452c-e1ee-b85502edb189"
      },
      "execution_count": null,
      "outputs": [
        {
          "output_type": "stream",
          "name": "stderr",
          "text": [
            "<ipython-input-2-b3b0f7264905>:9: FutureWarning: \n",
            "\n",
            "The `ci` parameter is deprecated. Use `errorbar=None` for the same effect.\n",
            "\n",
            "  sns.barplot(x=[x for x in collection.keys()], y=[collection[x] for x in collection.keys()], palette=Mpalette, ci=None)\n"
          ]
        },
        {
          "output_type": "display_data",
          "data": {
            "text/plain": [
              "<Figure size 640x480 with 1 Axes>"
            ],
            "image/png": "[encoded data removed]"
          },
          "metadata": {}
        }
      ]
    },
    {
      "cell_type": "markdown",
      "source": [
        "Задача 4. Сделайте график из задачи 3 интерактивным.\n",
        "\n"
      ],
      "metadata": {
        "id": "hhAOCG1wY7dX"
      }
    },
    {
      "cell_type": "code",
      "source": [
        "#!pip install ipywidgets\n",
        "import seaborn as sns\n",
        "from random import randrange\n",
        "\n",
        "\n",
        "def GG(x, n):\n",
        "  collection = {(i+1):randrange(0, x+1) for i in range(n)}\n",
        "  Mpalette = sns.color_palette(\"Blues\")\n",
        "  sns.barplot(x=[x for x in collection.keys()], y=[collection[x]\n",
        "  for x in collection.keys()], palette=Mpalette, ci=None)\n",
        "\n",
        "from ipywidgets import interact, IntSlider\n",
        "\n",
        "interact(GG, x=IntSlider(min=1, max=100, step=1, value=10), n=range(1,21))\n"
      ],
      "metadata": {
        "colab": {
          "base_uri": "https://localhost:8080/",
          "height": 1000,
          "referenced_widgets": [
            "e57a4fe16ed84050a4d734f2115c7421",
            "53a29bb84be44659a54074248addb7f6",
            "e21ccad7e8a94153b16bce7b271fe171",
            "bba580e134814d61b80be79727eecc0a",
            "ddde2ec68bb1438580e9a676af5b8749",
            "411326bc015746a89d6cde3dd3d1fd76",
            "d7bc0274f30342e5b0a02de31e5045cb",
            "85a2cb2615ef4206a02edd314b1fa89b",
            "fa7e652506c845348daefcc676417343",
            "48336114c7e04c02803f4267e21be545"
          ]
        },
        "id": "hJsiQ52esx1l",
        "outputId": "f047fb21-935f-43de-9b87-c10409da52f4"
      },
      "execution_count": null,
      "outputs": [
        {
          "output_type": "display_data",
          "data": {
            "text/plain": [
              "interactive(children=(IntSlider(value=10, description='x', min=1), Dropdown(description='n', options=(1, 2, 3,…"
            ],
            "application/vnd.jupyter.widget-view+json": {
              "version_major": 2,
              "version_minor": 0,
              "model_id": "e57a4fe16ed84050a4d734f2115c7421"
            }
          },
          "metadata": {}
        },
        {
          "output_type": "execute_result",
          "data": {
            "text/plain": [
              "<function __main__.GG(x, n)>"
            ]
          },
          "metadata": {},
          "execution_count": 29
        },
        {
          "output_type": "display_data",
          "data": {
            "text/plain": [
              "<Figure size 640x480 with 1 Axes>"
            ],
            "image/png": "[encoded data removed]"
          },
          "metadata": {}
        },
        {
          "output_type": "display_data",
          "data": {
            "text/plain": [
              "<Figure size 640x480 with 1 Axes>"
            ],
            "image/png": "[encoded data removed]"
          },
          "metadata": {}
        },
        {
          "output_type": "display_data",
          "data": {
            "text/plain": [
              "<Figure size 640x480 with 1 Axes>"
            ],
            "image/png": "[encoded data removed]"
          },
          "metadata": {}
        },
        {
          "output_type": "display_data",
          "data": {
            "text/plain": [
              "<Figure size 640x480 with 1 Axes>"
            ],
            "image/png": "[encoded data removed]"
          },
          "metadata": {}
        },
        {
          "output_type": "display_data",
          "data": {
            "text/plain": [
              "<Figure size 640x480 with 1 Axes>"
            ],
            "image/png": "[encoded data removed]"
          },
          "metadata": {}
        },
        {
          "output_type": "display_data",
          "data": {
            "text/plain": [
              "<Figure size 640x480 with 1 Axes>"
            ],
            "image/png": "[encoded data removed]"
          },
          "metadata": {}
        },
        {
          "output_type": "display_data",
          "data": {
            "text/plain": [
              "<Figure size 640x480 with 1 Axes>"
            ],
            "image/png": "[encoded data removed]"
          },
          "metadata": {}
        },
        {
          "output_type": "display_data",
          "data": {
            "text/plain": [
              "<Figure size 640x480 with 1 Axes>"
            ],
            "image/png": "[encoded data removed]"
          },
          "metadata": {}
        },
        {
          "output_type": "display_data",
          "data": {
            "text/plain": [
              "<Figure size 640x480 with 1 Axes>"
            ],
            "image/png": "[encoded data removed]"
          },
          "metadata": {}
        },
        {
          "output_type": "display_data",
          "data": {
            "text/plain": [
              "<Figure size 640x480 with 1 Axes>"
            ],
            "image/png": "[encoded data removed]"
          },
          "metadata": {}
        },
        {
          "output_type": "display_data",
          "data": {
            "text/plain": [
              "<Figure size 640x480 with 1 Axes>"
            ],
            "image/png": "[encoded data removed]"
          },
          "metadata": {}
        },
        {
          "output_type": "display_data",
          "data": {
            "text/plain": [
              "<Figure size 640x480 with 1 Axes>"
            ],
            "image/png": "[encoded data removed]"
          },
          "metadata": {}
        },
        {
          "output_type": "display_data",
          "data": {
            "text/plain": [
              "<Figure size 640x480 with 1 Axes>"
            ],
            "image/png": "[encoded data removed]"
          },
          "metadata": {}
        }
      ]
    },
    {
      "cell_type": "markdown",
      "source": [],
      "metadata": {
        "id": "lmM9hMuVEnWf"
      }
    }
  ]
}