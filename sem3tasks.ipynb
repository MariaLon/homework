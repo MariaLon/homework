{
  "nbformat": 4,
  "nbformat_minor": 0,
  "metadata": {
    "colab": {
      "provenance": [],
      "authorship_tag": "ABX9TyMOQzQASZpJi52SigGXf0x9",
      "include_colab_link": true
    },
    "kernelspec": {
      "name": "python3",
      "display_name": "Python 3"
    },
    "language_info": {
      "name": "python"
    }
  },
  "cells": [
    {
      "cell_type": "markdown",
      "metadata": {
        "id": "view-in-github",
        "colab_type": "text"
      },
      "source": [
        "<a href=\"https://colab.research.google.com/github/MariaLon/homework/blob/seminar3/sem3tasks.ipynb\" target=\"_parent\"><img src=\"https://colab.research.google.com/assets/colab-badge.svg\" alt=\"Open In Colab\"/></a>"
      ]
    },
    {
      "cell_type": "markdown",
      "source": [
        "Задача 1.\n",
        "Найдите в тексте все телефонные номера. Номера могут быть в формате 0(000)00-00-00 или 0 000 00 00 00."
      ],
      "metadata": {
        "id": "atDEeFIDYN9v"
      }
    },
    {
      "cell_type": "code",
      "source": [
        "import re\n",
        "txt = 'Задача 1. Найдите в тексте все телефонные номера. Номера могут быть в формате 0(000)00-00-00 или 0 000 00 00 00.'\n",
        "result = [o.group() for o in re.finditer(r'\\b\\d+(\\(| )\\d+(\\)| )(\\d+(-| ))*\\d+\\b', txt)]\n",
        "print(result)"
      ],
      "metadata": {
        "colab": {
          "base_uri": "https://localhost:8080/"
        },
        "id": "kAyZnV2gYwgC",
        "outputId": "e2f1d97b-afc8-4704-899c-f72d5012d50b"
      },
      "execution_count": null,
      "outputs": [
        {
          "output_type": "stream",
          "name": "stdout",
          "text": [
            "['0(000)00-00-00', '0 000 00 00 00']\n"
          ]
        }
      ]
    },
    {
      "cell_type": "markdown",
      "source": [
        "Задача 2.\n",
        "Программа ждет, что пользователь введет адрес электронной почты. Предполагается, что адрес может содержать только латинские буквы, цифры и нижнее подчеркивание, обязательно содержит @ и имя домена через точку. Других точек в адресе нет. Программа должна проверять, что пользователь ввел именно такой адрес, и предупреждать, если что-то неладно. Используйте fullmatch."
      ],
      "metadata": {
        "id": "pX0ds90DYw6y"
      }
    },
    {
      "cell_type": "code",
      "source": [
        "import re\n",
        "txt='aliona@vasi_a.su'\n",
        "result = re.fullmatch(r'(?i)[0-9a-z_]+@[0-9a-z_]+\\.[0-9a-z_]+', txt)\n",
        "print(result.group())"
      ],
      "metadata": {
        "colab": {
          "base_uri": "https://localhost:8080/"
        },
        "id": "PwfRfi7qY07y",
        "outputId": "90570b83-b0d9-43e9-bc3e-0b25b337dc66"
      },
      "execution_count": null,
      "outputs": [
        {
          "output_type": "stream",
          "name": "stdout",
          "text": [
            "aliona@vasi_a.su\n"
          ]
        }
      ]
    },
    {
      "cell_type": "markdown",
      "source": [
        "Задача 3.\n",
        "Цензура: в тексте встречается слово война и разные его вариации в падежах (и регистр тоже везде разный). Замените это слово по всему тексту на многоточие."
      ],
      "metadata": {
        "id": "zJ3SsyB5Y2aW"
      }
    },
    {
      "cell_type": "code",
      "source": [
        "import re\n",
        "text = 'Цензура: в тексте встречается слово война и разные его вариации в падежах (и регистр тоже везде разный).  Идет война народная. Стихи о войне. Замените это слово по всему тексту на многоточие.'\n",
        "result = re.sub(r'(?i)\\bвойн[а-яё]*\\b','...',text)\n",
        "print(result)"
      ],
      "metadata": {
        "id": "eLOl-JnWY6Fu",
        "colab": {
          "base_uri": "https://localhost:8080/"
        },
        "outputId": "22ab2cca-e919-4096-fcb8-880ece0f868a"
      },
      "execution_count": null,
      "outputs": [
        {
          "output_type": "stream",
          "name": "stdout",
          "text": [
            "Цензура: в тексте встречается слово ... и разные его вариации в падежах (и регистр тоже везде разный).  Идет ... народная. Стихи о .... Замените это слово по всему тексту на многоточие.\n"
          ]
        }
      ]
    },
    {
      "cell_type": "markdown",
      "source": [
        "Задача 4.\n",
        "В тексте встречаются нецелые числа (можно через запятую, можно через точку, а можете учесть оба варианта). Нужно все числа в тексте округлить до двух знаков после запятой(точки), причем не просто отрезать хвост: 2.467 должно превращаться в 2.47."
      ],
      "metadata": {
        "id": "enAYp21YY6eG"
      }
    },
    {
      "cell_type": "code",
      "source": [
        "import re\n",
        "text = 'молыиылвщмтт 2.890  оракншш  4,6789 ешлпау5ри 9,345 ншллрвмн 8 полпеви 6965467'\n",
        "pat = re.compile(r'(?<=\\d[\\.,])\\d{3,}\\b')\n",
        "while True:\n",
        "  a = pat.search(text)\n",
        "  if a is None:\n",
        "    break\n",
        "  else:\n",
        "    text = pat.sub(str( int( round( float('.' + a.group()), 2) * 100)), text, 1)\n",
        "\n",
        "print(text)\n"
      ],
      "metadata": {
        "id": "AF_Sn3NrY9yS",
        "colab": {
          "base_uri": "https://localhost:8080/"
        },
        "outputId": "6f8acc9d-1a3d-49e4-d9a1-5e832220e215"
      },
      "execution_count": null,
      "outputs": [
        {
          "output_type": "stream",
          "name": "stdout",
          "text": [
            "молыиылвщмтт 2.10  оракншш  4,68 ешлпау5ри 9,34 ншллрвмн 8 полпеви 6965467\n"
          ]
        }
      ]
    },
    {
      "cell_type": "markdown",
      "source": [
        "Задача 5.\n",
        "Найти ценники в формате \"10000 руб. 00 коп.\", при этом:\n",
        "\n",
        "\"руб.\" и \"коп.\" не обязательно сокращены;\n",
        "кол-во копеек не может быть трёхзначным;\n",
        "кол-во рублей может быть нулевым, но не может быть некорректно записанным числом типа \"0123 рубля\")"
      ],
      "metadata": {
        "id": "LEZHdrNKY-IM"
      }
    },
    {
      "cell_type": "code",
      "source": [
        " import re\n",
        " text = '0 10000 руб. 00 коп.'\n",
        " pat = re.compile(r'(?i)\\b(?:(0)|[1-9])(?(1)|\\d*) ?руб\\. ?\\d{1,2} ?коп\\.')\n",
        " price = [o.group() for o in pat.finditer(text)]\n",
        " print(price)"
      ],
      "metadata": {
        "id": "vp86fSYY5jl1",
        "colab": {
          "base_uri": "https://localhost:8080/"
        },
        "outputId": "1c1fc9d9-435d-4651-b2a4-ad4aa9a6631d"
      },
      "execution_count": null,
      "outputs": [
        {
          "output_type": "stream",
          "name": "stdout",
          "text": [
            "['10000 руб. 00 коп.']\n"
          ]
        }
      ]
    },
    {
      "cell_type": "markdown",
      "source": [
        "Задача 6.\n",
        "Некоторые любят выделять особо важные места в тексте с помощью нижнего подчёркивания, например: \"...здесь _очень важно_ отметить...\" (дело в том, что нижние подчеркивания в некоторых редакторах автоматически превращаются в курсив).\n",
        "\n",
        "Ищем такие выделения, но не длиннее 5 слов."
      ],
      "metadata": {
        "id": "IYZz5QAkZBkx"
      }
    },
    {
      "cell_type": "code",
      "source": [
        "import re\n",
        "text = '_здесь очень важно отметить_'\n",
        "pat = re.compile(r'_([а-яёА-ЯЁ]+[^а-яёА-ЯЁ1-9]+){,4}[а-яёА-ЯЁ]+_')\n",
        "italics = [o.group() for o in pat.finditer(text)]\n",
        "print(italics)"
      ],
      "metadata": {
        "id": "YlHp_ZKbZEjb",
        "colab": {
          "base_uri": "https://localhost:8080/"
        },
        "outputId": "1645ca72-479f-4b1b-edce-2112219159d2"
      },
      "execution_count": null,
      "outputs": [
        {
          "output_type": "stream",
          "name": "stdout",
          "text": [
            "['_здесь очень важно отметить_']\n"
          ]
        }
      ]
    },
    {
      "cell_type": "markdown",
      "source": [
        "Задача 7.\n",
        "Найти в тексте все куски, которые взяты в круглые скобки. Считаем, что вложенных скобок нет."
      ],
      "metadata": {
        "id": "jPUWgR8wZE4M"
      }
    },
    {
      "cell_type": "code",
      "source": [
        "import re\n",
        "text = 'Поверьте (совесть в том порукой), супружество нам будет мукой '\n",
        "pat = re.compile( r'\\([^()]+\\)')\n",
        "pieces = pat.findall( text)\n",
        "print(pieces)"
      ],
      "metadata": {
        "id": "lxbirpkFZHqQ",
        "colab": {
          "base_uri": "https://localhost:8080/"
        },
        "outputId": "8648dde1-9723-47ba-d526-d68b7b3a390b"
      },
      "execution_count": null,
      "outputs": [
        {
          "output_type": "stream",
          "name": "stdout",
          "text": [
            "['(совесть в том порукой)']\n"
          ]
        }
      ]
    },
    {
      "cell_type": "markdown",
      "source": [
        "Задача 8.\n",
        "В текстовом файле находятся пути к другим файлам. Каждый путь устроен таким образом, что у него обязательно есть расширение через точку, название собственно файла и как минимум папка, в которой он находится, например:\n",
        "\n",
        "myfolder/myfile.txt\n",
        "C:\\Python\\files\\script.py\n",
        "...\n",
        "\n",
        "Обратите внимание, что слеш может быть в любую сторону (в Windows он обратный, в Unix-системах прямой). Напишите такое регулярное выражение, которое будет в поиске re.findall возвращать кортежи вида ('все, что слева от имени файла', 'имя файла', 'расширение'). Для примеров:\n",
        "\n",
        "('myfolder', 'myfile', 'txt')\n",
        "('C:\\Python\\files', 'script', 'py')"
      ],
      "metadata": {
        "id": "WqfzBNVaZIHL"
      }
    },
    {
      "cell_type": "code",
      "source": [
        "import re\n",
        "pat = re.compile(r'(?m)\\b((?:\\w:\\\\)?(?:\\w+[\\\\/])+)(\\w+)\\.(\\w+)\\b')\n",
        "with open('pathes.txt') as f:\n",
        "  result = pat.findall(f.read())\n",
        "  print(result)"
      ],
      "metadata": {
        "id": "C1bSbe_5ZMSu",
        "colab": {
          "base_uri": "https://localhost:8080/"
        },
        "outputId": "af90d91c-0075-4ea6-d16c-1218613d5382"
      },
      "execution_count": null,
      "outputs": [
        {
          "output_type": "stream",
          "name": "stdout",
          "text": [
            "[('myfolder/', 'myfile', 'txt'), ('C:\\\\Python\\\\files\\\\', 'script', 'py')]\n"
          ]
        }
      ]
    }
  ]
}