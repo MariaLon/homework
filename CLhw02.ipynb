{
  "nbformat": 4,
  "nbformat_minor": 0,
  "metadata": {
    "colab": {
      "provenance": [],
      "authorship_tag": "ABX9TyNgyQ4ML0hxWxfzKDae1bN5",
      "include_colab_link": true
    },
    "kernelspec": {
      "name": "python3",
      "display_name": "Python 3"
    },
    "language_info": {
      "name": "python"
    }
  },
  "cells": [
    {
      "cell_type": "markdown",
      "metadata": {
        "id": "view-in-github",
        "colab_type": "text"
      },
      "source": [
        "<a href=\"https://colab.research.google.com/github/MariaLon/homework/blob/clhw02/CLhw02.ipynb\" target=\"_parent\"><img src=\"https://colab.research.google.com/assets/colab-badge.svg\" alt=\"Open In Colab\"/></a>"
      ]
    },
    {
      "cell_type": "code",
      "execution_count": null,
      "metadata": {
        "id": "d0RoJTOT0Wlf"
      },
      "outputs": [],
      "source": []
    },
    {
      "cell_type": "markdown",
      "source": [
        "Задача 1.\n",
        "Пользователь вводит с клавиатуры какие-то числа (необходимо считывать их в цикле), пока не введет ноль. Нужно посчитать стандартное отклонение по формуле из википедии. Списками пользоваться нельзя.\n",
        "\n",
        "Подсказка: нужно преобразовать формулу."
      ],
      "metadata": {
        "id": "WuPUMG2N0bQZ"
      }
    },
    {
      "cell_type": "code",
      "source": [
        "n = 0\n",
        "xk = 0\n",
        "xs = 0\n",
        "while True:\n",
        "  a = int(input())\n",
        "  if a == 0:\n",
        "    break\n",
        "  else:\n",
        "    n += 1\n",
        "    xk += a ** 2\n",
        "    xs += a\n",
        "if n > 0:\n",
        "  print( (((n * xk) - (xs ** 2)) ** 0.5) / n )"
      ],
      "metadata": {
        "colab": {
          "base_uri": "https://localhost:8080/"
        },
        "id": "n35vab2ZYk-H",
        "outputId": "5ac1654f-c567-47e2-92c2-f72d7d7b7281"
      },
      "execution_count": null,
      "outputs": [
        {
          "output_type": "stream",
          "name": "stdout",
          "text": [
            "1\n",
            "2\n",
            "1\n",
            "2\n",
            "1\n",
            "2\n",
            "0\n",
            "0.5\n"
          ]
        }
      ]
    },
    {
      "cell_type": "markdown",
      "source": [
        "Задача 2.\n",
        "Пользователь вводит какие-то целые числа в бесконечном цикле, пока не введет ноль; программа должна выводить введенное число и согласовать с ним слово \"кролик\", например,\n",
        "\n",
        "1 кролик\n",
        "2 кролика\n",
        "11 кроликов\n",
        "123 кролика"
      ],
      "metadata": {
        "id": "6VjRPCqC0iCM"
      }
    },
    {
      "cell_type": "code",
      "source": [
        "s = ''\n",
        "while True:\n",
        "  a = input()\n",
        "  if a == \"0\":\n",
        "    break\n",
        "  elif a.isdigit():\n",
        "    if a.rfind('11') == (len(a)-1) or a.rfind(''):\n",
        "      s = 'ов'\n",
        "    elif a.r "
      ],
      "metadata": {
        "id": "RZ8DAiZ50lfe"
      },
      "execution_count": null,
      "outputs": []
    },
    {
      "cell_type": "markdown",
      "source": [
        "Задача 3.\n",
        "Пользователь вводит целые (не обязательно положительные) числа. Программа должна вывести самое большое введенное число."
      ],
      "metadata": {
        "id": "MgiF3j0c0l6N"
      }
    },
    {
      "cell_type": "code",
      "source": [
        "a = []\n",
        "while True:\n",
        "  a.append(int(input()))\n",
        "  print(max(a))\n"
      ],
      "metadata": {
        "id": "B4PC9dhz0pWf",
        "colab": {
          "base_uri": "https://localhost:8080/",
          "height": 524
        },
        "outputId": "ceb74b37-dc3a-44e8-96dd-5a200ef13174"
      },
      "execution_count": null,
      "outputs": [
        {
          "output_type": "stream",
          "name": "stdout",
          "text": [
            "2\n",
            "2\n",
            "7\n",
            "7\n",
            "-3\n",
            "7\n",
            "-3\n",
            "7\n"
          ]
        },
        {
          "output_type": "error",
          "ename": "KeyboardInterrupt",
          "evalue": "ignored",
          "traceback": [
            "\u001b[0;31m---------------------------------------------------------------------------\u001b[0m",
            "\u001b[0;31mKeyboardInterrupt\u001b[0m                         Traceback (most recent call last)",
            "\u001b[0;32m<ipython-input-4-1bee4734e463>\u001b[0m in \u001b[0;36m<module>\u001b[0;34m\u001b[0m\n\u001b[1;32m      1\u001b[0m \u001b[0ma\u001b[0m \u001b[0;34m=\u001b[0m \u001b[0;34m[\u001b[0m\u001b[0;34m]\u001b[0m\u001b[0;34m\u001b[0m\u001b[0;34m\u001b[0m\u001b[0m\n\u001b[1;32m      2\u001b[0m \u001b[0;32mwhile\u001b[0m \u001b[0;32mTrue\u001b[0m\u001b[0;34m:\u001b[0m\u001b[0;34m\u001b[0m\u001b[0;34m\u001b[0m\u001b[0m\n\u001b[0;32m----> 3\u001b[0;31m   \u001b[0ma\u001b[0m\u001b[0;34m.\u001b[0m\u001b[0mappend\u001b[0m\u001b[0;34m(\u001b[0m\u001b[0mint\u001b[0m\u001b[0;34m(\u001b[0m\u001b[0minput\u001b[0m\u001b[0;34m(\u001b[0m\u001b[0;34m)\u001b[0m\u001b[0;34m)\u001b[0m\u001b[0;34m)\u001b[0m\u001b[0;34m\u001b[0m\u001b[0;34m\u001b[0m\u001b[0m\n\u001b[0m\u001b[1;32m      4\u001b[0m   \u001b[0mprint\u001b[0m\u001b[0;34m(\u001b[0m\u001b[0mmax\u001b[0m\u001b[0;34m(\u001b[0m\u001b[0ma\u001b[0m\u001b[0;34m)\u001b[0m\u001b[0;34m)\u001b[0m\u001b[0;34m\u001b[0m\u001b[0;34m\u001b[0m\u001b[0m\n",
            "\u001b[0;32m/usr/local/lib/python3.7/dist-packages/ipykernel/kernelbase.py\u001b[0m in \u001b[0;36mraw_input\u001b[0;34m(self, prompt)\u001b[0m\n\u001b[1;32m    861\u001b[0m             \u001b[0mself\u001b[0m\u001b[0;34m.\u001b[0m\u001b[0m_parent_ident\u001b[0m\u001b[0;34m,\u001b[0m\u001b[0;34m\u001b[0m\u001b[0;34m\u001b[0m\u001b[0m\n\u001b[1;32m    862\u001b[0m             \u001b[0mself\u001b[0m\u001b[0;34m.\u001b[0m\u001b[0m_parent_header\u001b[0m\u001b[0;34m,\u001b[0m\u001b[0;34m\u001b[0m\u001b[0;34m\u001b[0m\u001b[0m\n\u001b[0;32m--> 863\u001b[0;31m             \u001b[0mpassword\u001b[0m\u001b[0;34m=\u001b[0m\u001b[0;32mFalse\u001b[0m\u001b[0;34m,\u001b[0m\u001b[0;34m\u001b[0m\u001b[0;34m\u001b[0m\u001b[0m\n\u001b[0m\u001b[1;32m    864\u001b[0m         )\n\u001b[1;32m    865\u001b[0m \u001b[0;34m\u001b[0m\u001b[0m\n",
            "\u001b[0;32m/usr/local/lib/python3.7/dist-packages/ipykernel/kernelbase.py\u001b[0m in \u001b[0;36m_input_request\u001b[0;34m(self, prompt, ident, parent, password)\u001b[0m\n\u001b[1;32m    902\u001b[0m             \u001b[0;32mexcept\u001b[0m \u001b[0mKeyboardInterrupt\u001b[0m\u001b[0;34m:\u001b[0m\u001b[0;34m\u001b[0m\u001b[0;34m\u001b[0m\u001b[0m\n\u001b[1;32m    903\u001b[0m                 \u001b[0;31m# re-raise KeyboardInterrupt, to truncate traceback\u001b[0m\u001b[0;34m\u001b[0m\u001b[0;34m\u001b[0m\u001b[0;34m\u001b[0m\u001b[0m\n\u001b[0;32m--> 904\u001b[0;31m                 \u001b[0;32mraise\u001b[0m \u001b[0mKeyboardInterrupt\u001b[0m\u001b[0;34m(\u001b[0m\u001b[0;34m\"Interrupted by user\"\u001b[0m\u001b[0;34m)\u001b[0m \u001b[0;32mfrom\u001b[0m \u001b[0;32mNone\u001b[0m\u001b[0;34m\u001b[0m\u001b[0;34m\u001b[0m\u001b[0m\n\u001b[0m\u001b[1;32m    905\u001b[0m             \u001b[0;32mexcept\u001b[0m \u001b[0mException\u001b[0m \u001b[0;32mas\u001b[0m \u001b[0me\u001b[0m\u001b[0;34m:\u001b[0m\u001b[0;34m\u001b[0m\u001b[0;34m\u001b[0m\u001b[0m\n\u001b[1;32m    906\u001b[0m                 \u001b[0mself\u001b[0m\u001b[0;34m.\u001b[0m\u001b[0mlog\u001b[0m\u001b[0;34m.\u001b[0m\u001b[0mwarning\u001b[0m\u001b[0;34m(\u001b[0m\u001b[0;34m\"Invalid Message:\"\u001b[0m\u001b[0;34m,\u001b[0m \u001b[0mexc_info\u001b[0m\u001b[0;34m=\u001b[0m\u001b[0;32mTrue\u001b[0m\u001b[0;34m)\u001b[0m\u001b[0;34m\u001b[0m\u001b[0;34m\u001b[0m\u001b[0m\n",
            "\u001b[0;31mKeyboardInterrupt\u001b[0m: Interrupted by user"
          ]
        }
      ]
    },
    {
      "cell_type": "markdown",
      "source": [
        "Задача 4.\n",
        "Пользователь вводит с клавиатуры в бесконечном цикле разные вещи. Если он ввел целое число, нужно его возвести в квадрат; если он ввел слово, нужно вывести это слово в верхнем регистре; если он ввел любое количество пробельных символов, цикл завершается."
      ],
      "metadata": {
        "id": "T9s1003S0p2U"
      }
    },
    {
      "cell_type": "code",
      "source": [
        "s = ''\n",
        "while True:\n",
        "  s = input()\n",
        "  if s.find(' ')>-1:\n",
        "    break\n",
        "  if s.isdigit():\n",
        "    print(int(s) ** 2)\n",
        "  else:\n",
        "    print(s.upper())\n"
      ],
      "metadata": {
        "id": "cRh9bS7a0tUe",
        "colab": {
          "base_uri": "https://localhost:8080/"
        },
        "outputId": "a10df902-3993-477b-f213-bfed0cacae35"
      },
      "execution_count": null,
      "outputs": [
        {
          "name": "stdout",
          "output_type": "stream",
          "text": [
            "vmvmn\n",
            "VMVMN\n",
            "354764\n",
            "125857495696\n",
            "2\n",
            "4\n",
            "6\n",
            "36\n",
            "u,fykh,\n",
            "U,FYKH,\n",
            "cnhvhj76786mbnmb\n",
            "CNHVHJ76786MBNMB\n",
            " \n"
          ]
        }
      ]
    },
    {
      "cell_type": "markdown",
      "source": [
        "Задача 5.\n",
        "Программа загадывает число от 1 до 1023. Игрок пытается угадать это число, и у него есть 10 попыток. Если игрок вводит загаданное число, программа поздравляет его и заканчивает работу. Иначе программа должна напечатать, введённое число больше или меньше загаданного. Если все 10 попыток неудачны - программа должна написать, что попытки кончились, вывести загаданное число, и предложить сыграть в игру заново (при этом число должно быть загадано другое). Если пользователь вводит число меньше, чем 1, или больше, чем 1023, программа должна об этом сообщить - но не засчитывать попытку (т.е., это не считается неудачной попыткой).\n",
        "\n",
        "Ответьте на вопрос: готовы ли вы ручаться, что угадаете загаданное число за эти 10 попыток?\n",
        "\n",
        "Чтобы загадать рандомное число, нужно использовать функцию randint() из внешнего модуля random."
      ],
      "metadata": {
        "id": "9-BN7PjC0tz4"
      }
    },
    {
      "cell_type": "code",
      "source": [
        "from random import randrange\n",
        "win = False\n",
        "while not win:\n",
        "  chans = 1\n",
        "  digit = randrange(1022) + 1\n",
        "  while chans < 11:\n",
        "    a = int(input())\n",
        "    if a < 1 or a > 1023:\n",
        "      print ('Ваше число за пределами 1:1023')\n",
        "    elif a == digit:\n",
        "      win = True\n",
        "    else:\n",
        "      if a > digit:\n",
        "        print(f'{chans}. больше загаданного')\n",
        "      else:\n",
        "        print(f'{chans}. меньше загаданного')\n",
        "      chans += 1\n",
        "  if win:\n",
        "    print('Поздравляем!')\n",
        "  else:\n",
        "    print('Попробуй ещё!')\n",
        "    "
      ],
      "metadata": {
        "id": "kj4UnxG_0xaH",
        "colab": {
          "base_uri": "https://localhost:8080/",
          "height": 853
        },
        "outputId": "025e739d-adaa-48d7-87e5-1ae26a068966"
      },
      "execution_count": null,
      "outputs": [
        {
          "output_type": "stream",
          "name": "stdout",
          "text": [
            "1025\n",
            "Ваше число за пределами 1:1023\n",
            "185\n",
            "1. меньше загаданного\n",
            "285\n",
            "2. меньше загаданного\n",
            "1014\n",
            "3. больше загаданного\n",
            "-4\n",
            "Ваше число за пределами 1:1023\n",
            "543\n",
            "4. меньше загаданного\n",
            "765\n",
            "5. меньше загаданного\n",
            "700\n",
            "6. меньше загаданного\n",
            "890\n",
            "7. меньше загаданного\n",
            "1023\n",
            "8. больше загаданного\n",
            "1021\n",
            "9. больше загаданного\n",
            "1020\n",
            "10. больше загаданного\n",
            "Попробуй ещё!\n"
          ]
        },
        {
          "output_type": "error",
          "ename": "KeyboardInterrupt",
          "evalue": "ignored",
          "traceback": [
            "\u001b[0;31m---------------------------------------------------------------------------\u001b[0m",
            "\u001b[0;31mKeyboardInterrupt\u001b[0m                         Traceback (most recent call last)",
            "\u001b[0;32m<ipython-input-20-6486a2ba19dd>\u001b[0m in \u001b[0;36m<module>\u001b[0;34m\u001b[0m\n\u001b[1;32m      5\u001b[0m   \u001b[0mdigit\u001b[0m \u001b[0;34m=\u001b[0m \u001b[0mrandrange\u001b[0m\u001b[0;34m(\u001b[0m\u001b[0;36m1022\u001b[0m\u001b[0;34m)\u001b[0m \u001b[0;34m+\u001b[0m \u001b[0;36m1\u001b[0m\u001b[0;34m\u001b[0m\u001b[0;34m\u001b[0m\u001b[0m\n\u001b[1;32m      6\u001b[0m   \u001b[0;32mwhile\u001b[0m \u001b[0mchans\u001b[0m \u001b[0;34m<\u001b[0m \u001b[0;36m11\u001b[0m\u001b[0;34m:\u001b[0m\u001b[0;34m\u001b[0m\u001b[0;34m\u001b[0m\u001b[0m\n\u001b[0;32m----> 7\u001b[0;31m     \u001b[0ma\u001b[0m \u001b[0;34m=\u001b[0m \u001b[0mint\u001b[0m\u001b[0;34m(\u001b[0m\u001b[0minput\u001b[0m\u001b[0;34m(\u001b[0m\u001b[0;34m)\u001b[0m\u001b[0;34m)\u001b[0m\u001b[0;34m\u001b[0m\u001b[0;34m\u001b[0m\u001b[0m\n\u001b[0m\u001b[1;32m      8\u001b[0m     \u001b[0;32mif\u001b[0m \u001b[0ma\u001b[0m \u001b[0;34m<\u001b[0m \u001b[0;36m1\u001b[0m \u001b[0;32mor\u001b[0m \u001b[0ma\u001b[0m \u001b[0;34m>\u001b[0m \u001b[0;36m1023\u001b[0m\u001b[0;34m:\u001b[0m\u001b[0;34m\u001b[0m\u001b[0;34m\u001b[0m\u001b[0m\n\u001b[1;32m      9\u001b[0m       \u001b[0mprint\u001b[0m \u001b[0;34m(\u001b[0m\u001b[0;34m'Ваше число за пределами 1:1023'\u001b[0m\u001b[0;34m)\u001b[0m\u001b[0;34m\u001b[0m\u001b[0;34m\u001b[0m\u001b[0m\n",
            "\u001b[0;32m/usr/local/lib/python3.7/dist-packages/ipykernel/kernelbase.py\u001b[0m in \u001b[0;36mraw_input\u001b[0;34m(self, prompt)\u001b[0m\n\u001b[1;32m    861\u001b[0m             \u001b[0mself\u001b[0m\u001b[0;34m.\u001b[0m\u001b[0m_parent_ident\u001b[0m\u001b[0;34m,\u001b[0m\u001b[0;34m\u001b[0m\u001b[0;34m\u001b[0m\u001b[0m\n\u001b[1;32m    862\u001b[0m             \u001b[0mself\u001b[0m\u001b[0;34m.\u001b[0m\u001b[0m_parent_header\u001b[0m\u001b[0;34m,\u001b[0m\u001b[0;34m\u001b[0m\u001b[0;34m\u001b[0m\u001b[0m\n\u001b[0;32m--> 863\u001b[0;31m             \u001b[0mpassword\u001b[0m\u001b[0;34m=\u001b[0m\u001b[0;32mFalse\u001b[0m\u001b[0;34m,\u001b[0m\u001b[0;34m\u001b[0m\u001b[0;34m\u001b[0m\u001b[0m\n\u001b[0m\u001b[1;32m    864\u001b[0m         )\n\u001b[1;32m    865\u001b[0m \u001b[0;34m\u001b[0m\u001b[0m\n",
            "\u001b[0;32m/usr/local/lib/python3.7/dist-packages/ipykernel/kernelbase.py\u001b[0m in \u001b[0;36m_input_request\u001b[0;34m(self, prompt, ident, parent, password)\u001b[0m\n\u001b[1;32m    902\u001b[0m             \u001b[0;32mexcept\u001b[0m \u001b[0mKeyboardInterrupt\u001b[0m\u001b[0;34m:\u001b[0m\u001b[0;34m\u001b[0m\u001b[0;34m\u001b[0m\u001b[0m\n\u001b[1;32m    903\u001b[0m                 \u001b[0;31m# re-raise KeyboardInterrupt, to truncate traceback\u001b[0m\u001b[0;34m\u001b[0m\u001b[0;34m\u001b[0m\u001b[0;34m\u001b[0m\u001b[0m\n\u001b[0;32m--> 904\u001b[0;31m                 \u001b[0;32mraise\u001b[0m \u001b[0mKeyboardInterrupt\u001b[0m\u001b[0;34m(\u001b[0m\u001b[0;34m\"Interrupted by user\"\u001b[0m\u001b[0;34m)\u001b[0m \u001b[0;32mfrom\u001b[0m \u001b[0;32mNone\u001b[0m\u001b[0;34m\u001b[0m\u001b[0;34m\u001b[0m\u001b[0m\n\u001b[0m\u001b[1;32m    905\u001b[0m             \u001b[0;32mexcept\u001b[0m \u001b[0mException\u001b[0m \u001b[0;32mas\u001b[0m \u001b[0me\u001b[0m\u001b[0;34m:\u001b[0m\u001b[0;34m\u001b[0m\u001b[0;34m\u001b[0m\u001b[0m\n\u001b[1;32m    906\u001b[0m                 \u001b[0mself\u001b[0m\u001b[0;34m.\u001b[0m\u001b[0mlog\u001b[0m\u001b[0;34m.\u001b[0m\u001b[0mwarning\u001b[0m\u001b[0;34m(\u001b[0m\u001b[0;34m\"Invalid Message:\"\u001b[0m\u001b[0;34m,\u001b[0m \u001b[0mexc_info\u001b[0m\u001b[0;34m=\u001b[0m\u001b[0;32mTrue\u001b[0m\u001b[0;34m)\u001b[0m\u001b[0;34m\u001b[0m\u001b[0;34m\u001b[0m\u001b[0m\n",
            "\u001b[0;31mKeyboardInterrupt\u001b[0m: Interrupted by user"
          ]
        }
      ]
    },
    {
      "cell_type": "markdown",
      "source": [
        "Задача 6.\n",
        "Правильные скобки. На вход подается строка, которая содержит только и исключительно скобки трех видов: круглые, квадратные и фигурные. Например, '{[([({})])]}'. Ваша задача - написать программу, которая бы проверяла правильность последовательности скобок и возвращала True или False. Примеры правильных и неправильных строк:\n",
        "\n",
        "'[(])' = False\n",
        "')[](' = False\n",
        "'{[()]}' = True"
      ],
      "metadata": {
        "id": "MP0bC4ot0yEU"
      }
    },
    {
      "cell_type": "code",
      "source": [
        "def brackets(s):\n",
        "  while '()' in s or '{}' in s:\n",
        "    s = s.replace('()','')\n",
        "    s = s.replace('[]','')\n",
        "    s = s.replace('{}','')\n",
        "  return not s\n",
        "  print(brackets('([]((()){}))'))"
      ],
      "metadata": {
        "id": "bihKNQss01l1"
      },
      "execution_count": null,
      "outputs": []
    },
    {
      "cell_type": "code",
      "source": [
        "def brackets(text):\n",
        "  k=\"\"\n",
        "  for s in text:\n",
        "    if s in \"([{\":\n",
        "      k  +=  ')' if s == '(' else ']' if s == '[' else '}'\n",
        "    elif s in \"}])\":\n",
        "      if len(k) > 0:\n",
        "        if s == k[-1]:\n",
        "          k = k[0:len(k)-1]\n",
        "        else:\n",
        "          break\n",
        "      else:\n",
        "        k += s\n",
        "        break\n",
        "  return not k\n",
        "print (brackets(\"{we (check) [only] the brackets}\"))"
      ],
      "metadata": {
        "colab": {
          "base_uri": "https://localhost:8080/"
        },
        "id": "AvYs9ANqUT_o",
        "outputId": "7b0a408a-7a1d-49a5-c49e-fc8f5b3642b9"
      },
      "execution_count": null,
      "outputs": [
        {
          "output_type": "stream",
          "name": "stdout",
          "text": [
            "True\n"
          ]
        }
      ]
    },
    {
      "cell_type": "markdown",
      "source": [
        "Задача 7.\n",
        "Занудная: выведите с помощью цикла порядковые номера всех букв русского алфавита (ё можно отдельно), заглавных и строчных. Посмотрите, есть ли между ними что-нибудь.\n",
        "\n",
        "А для латинских?"
      ],
      "metadata": {
        "id": "Rk0rDrFe02O9"
      }
    },
    {
      "cell_type": "code",
      "source": [
        "for s in ['Ё'] + list(map(chr, range(ord('А'), ord('Я')+1))) + list(map(chr, range(ord('а'), ord('я')+1))) + ['ё']:\n",
        "  print(f\"{s} {ord(s)}\")\n",
        "\n",
        "for s in list(map(chr, range(ord('A'), ord('Z')+1))) + list(map(chr, range(ord('a'), ord('z')+1))):\n",
        "  print(f\"{s} {ord(s)}\")\n",
        "\n",
        "  \n"
      ],
      "metadata": {
        "id": "2WuJrwh805Hd",
        "colab": {
          "base_uri": "https://localhost:8080/"
        },
        "outputId": "b9d70f9a-da3f-4124-f311-644ce5550652"
      },
      "execution_count": null,
      "outputs": [
        {
          "output_type": "stream",
          "name": "stdout",
          "text": [
            "Ё 1025\n",
            "А 1040\n",
            "Б 1041\n",
            "В 1042\n",
            "Г 1043\n",
            "Д 1044\n",
            "Е 1045\n",
            "Ж 1046\n",
            "З 1047\n",
            "И 1048\n",
            "Й 1049\n",
            "К 1050\n",
            "Л 1051\n",
            "М 1052\n",
            "Н 1053\n",
            "О 1054\n",
            "П 1055\n",
            "Р 1056\n",
            "С 1057\n",
            "Т 1058\n",
            "У 1059\n",
            "Ф 1060\n",
            "Х 1061\n",
            "Ц 1062\n",
            "Ч 1063\n",
            "Ш 1064\n",
            "Щ 1065\n",
            "Ъ 1066\n",
            "Ы 1067\n",
            "Ь 1068\n",
            "Э 1069\n",
            "Ю 1070\n",
            "Я 1071\n",
            "а 1072\n",
            "б 1073\n",
            "в 1074\n",
            "г 1075\n",
            "д 1076\n",
            "е 1077\n",
            "ж 1078\n",
            "з 1079\n",
            "и 1080\n",
            "й 1081\n",
            "к 1082\n",
            "л 1083\n",
            "м 1084\n",
            "н 1085\n",
            "о 1086\n",
            "п 1087\n",
            "р 1088\n",
            "с 1089\n",
            "т 1090\n",
            "у 1091\n",
            "ф 1092\n",
            "х 1093\n",
            "ц 1094\n",
            "ч 1095\n",
            "ш 1096\n",
            "щ 1097\n",
            "ъ 1098\n",
            "ы 1099\n",
            "ь 1100\n",
            "э 1101\n",
            "ю 1102\n",
            "я 1103\n",
            "ё 1105\n",
            "A 65\n",
            "B 66\n",
            "C 67\n",
            "D 68\n",
            "E 69\n",
            "F 70\n",
            "G 71\n",
            "H 72\n",
            "I 73\n",
            "J 74\n",
            "K 75\n",
            "L 76\n",
            "M 77\n",
            "N 78\n",
            "O 79\n",
            "P 80\n",
            "Q 81\n",
            "R 82\n",
            "S 83\n",
            "T 84\n",
            "U 85\n",
            "V 86\n",
            "W 87\n",
            "X 88\n",
            "Y 89\n",
            "Z 90\n",
            "a 97\n",
            "b 98\n",
            "c 99\n",
            "d 100\n",
            "e 101\n",
            "f 102\n",
            "g 103\n",
            "h 104\n",
            "i 105\n",
            "j 106\n",
            "k 107\n",
            "l 108\n",
            "m 109\n",
            "n 110\n",
            "o 111\n",
            "p 112\n",
            "q 113\n",
            "r 114\n",
            "s 115\n",
            "t 116\n",
            "u 117\n",
            "v 118\n",
            "w 119\n",
            "x 120\n",
            "y 121\n",
            "z 122\n"
          ]
        }
      ]
    },
    {
      "cell_type": "markdown",
      "source": [
        "Задача 8.\n",
        "Шифр Цезаря: самый простой способ зашифровать текст - это сопоставить буквы алфавита со сдвигом, то есть, например, со сдвигом 2 - заменить все а на в, б на г, в на е и так далее. Подробнее есть в Википедии, конечно же, а еще можно поиграться с ним здесь. Напишите программу, которая будет принимать строчку, зашифрованную таким шифром (с неизвестным сдвигом), и пытаться расшифровать ее."
      ],
      "metadata": {
        "id": "PHzPZ4QT05fL"
      }
    },
    {
      "cell_type": "code",
      "source": [
        "def ccode(text,step):\n",
        "  out = ''\n",
        "  dicte = 'абвгдеёжзийклмнопрстуфхцчшщьыъэюя'\n",
        "  for s in text:\n",
        "    c = s.lower()\n",
        "    a = dicte.find(c)\n",
        "    if a != -1:\n",
        "      b = a + step\n",
        "      while b >= len(dicte):\n",
        "        b -= len(dicte)\n",
        "      while b < 0:\n",
        "        b += len(dicte)\n",
        "      if s == c:\n",
        "        out += dicte[b]\n",
        "      else:\n",
        "        out += dicte[b].upper()\n",
        "    else:\n",
        "      out += s   \n",
        "  return out\n",
        "\n",
        "\n",
        "print(ccode('Привет!', 2))\n",
        "print(ccode('Сткджф!', -2))"
      ],
      "metadata": {
        "id": "FXZFuidt08tz",
        "colab": {
          "base_uri": "https://localhost:8080/"
        },
        "outputId": "5f4b5242-9f0e-493f-e47f-bfd6dd744fdf"
      },
      "execution_count": null,
      "outputs": [
        {
          "output_type": "stream",
          "name": "stdout",
          "text": [
            "Сткджф!\n",
            "Привет!\n"
          ]
        }
      ]
    },
    {
      "cell_type": "markdown",
      "source": [
        "Задание 9.\n",
        "Напишите функцию-генератор, которая будет возвращать новые функции, возводящие в степень N. Т.е., функция-генератор принимает в качестве аргумента число N, а возвращает функцию, которая будет принимать число и возвращать его же в степени N."
      ],
      "metadata": {
        "id": "ET6swAb0xZax"
      }
    },
    {
      "cell_type": "code",
      "source": [
        "def fungen(N):\n",
        "  return lambda x: x ** N\n",
        "\n",
        "a = int(input())\n",
        "f = fungen(a)\n",
        "print(f(2))"
      ],
      "metadata": {
        "colab": {
          "base_uri": "https://localhost:8080/"
        },
        "id": "Cqm175bd9JSd",
        "outputId": "085a8400-bbf5-46f3-b5aa-8dacbd0e107c"
      },
      "execution_count": null,
      "outputs": [
        {
          "output_type": "stream",
          "name": "stdout",
          "text": [
            "4\n",
            "16\n"
          ]
        }
      ]
    }
  ]
}