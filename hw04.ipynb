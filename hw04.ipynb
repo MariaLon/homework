{
  "nbformat": 4,
  "nbformat_minor": 0,
  "metadata": {
    "colab": {
      "provenance": [],
      "authorship_tag": "ABX9TyMQ2BI0TBHnEVlEVT8QPfoL",
      "include_colab_link": true
    },
    "kernelspec": {
      "name": "python3",
      "display_name": "Python 3"
    },
    "language_info": {
      "name": "python"
    }
  },
  "cells": [
    {
      "cell_type": "markdown",
      "metadata": {
        "id": "view-in-github",
        "colab_type": "text"
      },
      "source": [
        "<a href=\"https://colab.research.google.com/github/MariaLon/homework/blob/hw04-sem2/hw04.ipynb\" target=\"_parent\"><img src=\"https://colab.research.google.com/assets/colab-badge.svg\" alt=\"Open In Colab\"/></a>"
      ]
    },
    {
      "cell_type": "markdown",
      "source": [
        "Задача 1.\n",
        "Посчитайте, как часто в выбранном вами тексте прилагательное стоит сразу перед существительным, а как часто - наоборот. Достаточно вывести количество вхождений (столько-то раз встретилось прил + сущ, столько-то раз - сущ + прил). Подумайте, насколько можно доверять этим цифрам.\n",
        "\n",
        "Доверять цифрам нельзя, так как не учитываются знаки препинания."
      ],
      "metadata": {
        "id": "wr3qORKk3N1m"
      }
    },
    {
      "cell_type": "code",
      "source": [
        "import rnnmorph\n",
        "from rnnmorph.predictor import RNNMorphPredictor\n",
        "predictor = RNNMorphPredictor(language ='ru')\n",
        "f = open('text.txt',encoding='utf-8')\n",
        "text = f.read()\n",
        "import re\n",
        "def tokenize(text):\n",
        "  p = re.compile(r'(?m)\\w+')\n",
        "  return [o.group() for o in p.finditer(text) if o.group() != None]\n",
        "\n",
        "POS = ' '.join([o.pos for o in predictor.predict(tokenize(text))])\n",
        "#print(POS)\n",
        "p1 = re.compile(r'NOUN ADJ')\n",
        "p2 = re.compile(r'ADJ NOUN')\n",
        "print(f'NOUN + ADJ :{len(p1.findall(POS))}')\n",
        "print(f'ADJ + NOUN :{len(p2.findall(POS))}')\n"
      ],
      "metadata": {
        "id": "iiCvI6rY3Pxc",
        "colab": {
          "base_uri": "https://localhost:8080/"
        },
        "outputId": "f13829b9-d4b5-4011-8b54-8ceb3e1a08db"
      },
      "execution_count": 8,
      "outputs": [
        {
          "output_type": "stream",
          "name": "stderr",
          "text": [
            "WARNING:tensorflow:6 out of the last 6 calls to <function Model.make_predict_function.<locals>.predict_function at 0x7fcf34def5e0> triggered tf.function retracing. Tracing is expensive and the excessive number of tracings could be due to (1) creating @tf.function repeatedly in a loop, (2) passing tensors with different shapes, (3) passing Python objects instead of tensors. For (1), please define your @tf.function outside of the loop. For (2), @tf.function has reduce_retracing=True option that can avoid unnecessary retracing. For (3), please refer to https://www.tensorflow.org/guide/function#controlling_retracing and https://www.tensorflow.org/api_docs/python/tf/function for  more details.\n"
          ]
        },
        {
          "output_type": "stream",
          "name": "stdout",
          "text": [
            "1/1 [==============================] - 19s 19s/step\n",
            "NOUN + ADJ :390\n",
            "ADJ + NOUN :1008\n"
          ]
        }
      ]
    },
    {
      "cell_type": "markdown",
      "source": [
        "Задача 2 (3 балла).\n",
        "Некоторые предлоги в русском языке могут управлять разными падежами (например, \"я еду в Лондон\" vs \"я живу в Лондоне\"). Давайте проанализируем эти предлоги и их падежи. Необходимо:\n",
        "\n",
        "составить список таких предлогов (РГ-80 вам в помощь)\n",
        "взять достаточно большой текст (можно большое художественное произведение)\n",
        "сделать морфоразбор этого текста (лучше не pymorphy)\n",
        "Посчитать, как часто и какие падежи встречаются у слова, идущего после предлога.\n",
        "Примечания: во-первых, имейте в виду, что иногда после предлога могут идти самые неожиданные вещи: \"я что, должен ехать на, черт побери, северный полюс?\". Во-вторых, неплохо бы учитывать отсутствие пунктуации (конечно, в норме, как нам кажется, предлог обязательно требует зависимое, но! \"да иди ты на!\") Эти штуки можно отсеять, если просто учитывать только заранее определенные падежи, а не считать все, какие встретились (так и None можно огрести).\n",
        "\n",
        "Если будете использовать RNNMoprph, возможно, понадобится регулярное выражение и немного терпения."
      ],
      "metadata": {
        "id": "0j_zIO3E3QGM"
      }
    },
    {
      "cell_type": "code",
      "source": [
        "from nltk.tokenize import RegexpTokenizer\n",
        "import rnnmorph\n",
        "from rnnmorph.predictor import RNNMorphPredictor\n",
        "import re\n",
        "\n",
        "f = open('text.txt',encoding='utf-8')\n",
        "text = f.read()\n",
        "tokenizer = RegexpTokenizer(r'\\w+|\\$[\\d\\.]+|\\S+')\n",
        "tokens = tokenizer.tokenize(text)\n",
        "predictor = RNNMorphPredictor(language ='ru')\n",
        "M = predictor.predict(tokens)\n",
        "D = dict()\n",
        "p1 = re.compile(r'<[^>]+pos=ADP[^>]+><[^>]+Case=[^>]+>')\n",
        "Res = [o.group() for o in p1.finditer(''.join([str(o) for o in M]))]\n",
        "for r in Res:\n",
        "  p2 = re.compile(r'((?<=\\<normal_form=)[^;]+(?=.+<)|(?<=Case=)\\w+\\b)')\n",
        "  pair = [o.group() for o in p2.finditer(r)]\n",
        "  if pair[0] in D:\n",
        "    if pair[1] in D[pair[0]]:\n",
        "      D[pair[0]][pair[1]] += 1\n",
        "    else:\n",
        "      D[pair[0]][pair[1]] = 1\n",
        "  else:\n",
        "    D[pair[0]] = dict([(pair[1] , 1)])\n",
        "\n",
        "for d in D:\n",
        "  print(f'\\n{d}')\n",
        "  for c in D[d]:\n",
        "    print(f'\\t{c}={D[d][c]}')\n",
        "\n",
        "\n"
      ],
      "metadata": {
        "id": "s3FRnU-n3WC8",
        "colab": {
          "base_uri": "https://localhost:8080/"
        },
        "outputId": "3f849907-c978-436c-9a2b-c7ee151483b2"
      },
      "execution_count": 7,
      "outputs": [
        {
          "output_type": "stream",
          "name": "stderr",
          "text": [
            "WARNING:tensorflow:5 out of the last 5 calls to <function Model.make_predict_function.<locals>.predict_function at 0x7fcf352ea160> triggered tf.function retracing. Tracing is expensive and the excessive number of tracings could be due to (1) creating @tf.function repeatedly in a loop, (2) passing tensors with different shapes, (3) passing Python objects instead of tensors. For (1), please define your @tf.function outside of the loop. For (2), @tf.function has reduce_retracing=True option that can avoid unnecessary retracing. For (3), please refer to https://www.tensorflow.org/guide/function#controlling_retracing and https://www.tensorflow.org/api_docs/python/tf/function for  more details.\n"
          ]
        },
        {
          "output_type": "stream",
          "name": "stdout",
          "text": [
            "1/1 [==============================] - 24s 24s/step\n",
            "\n",
            "с\n",
            "\tGen=58\n",
            "\tIns=154\n",
            "\n",
            "в\n",
            "\tAcc=261\n",
            "\tLoc=384\n",
            "\tNom=2\n",
            "\n",
            "со\n",
            "\tIns=29\n",
            "\tGen=8\n",
            "\n",
            "на\n",
            "\tAcc=166\n",
            "\tLoc=169\n",
            "\n",
            "у\n",
            "\tGen=87\n",
            "\n",
            "назад\n",
            "\tAcc=1\n",
            "\tNom=1\n",
            "\n",
            "вокруг\n",
            "\tGen=4\n",
            "\n",
            "после\n",
            "\tGen=20\n",
            "\n",
            "по\n",
            "\tDat=86\n",
            "\tAcc=2\n",
            "\n",
            "без\n",
            "\tGen=16\n",
            "\n",
            "кроме\n",
            "\tGen=12\n",
            "\n",
            "из\n",
            "\tGen=98\n",
            "\n",
            "за\n",
            "\tIns=34\n",
            "\tAcc=38\n",
            "\n",
            "про\n",
            "\tAcc=14\n",
            "\n",
            "-за\n",
            "\tGen=12\n",
            "\n",
            "к\n",
            "\tDat=139\n",
            "\n",
            "ради\n",
            "\tGen=1\n",
            "\n",
            "до\n",
            "\tGen=38\n",
            "\n",
            "об\n",
            "\tLoc=11\n",
            "\n",
            "от\n",
            "\tGen=82\n",
            "\n",
            "возле\n",
            "\tGen=3\n",
            "\n",
            "о\n",
            "\tLoc=69\n",
            "\tAcc=1\n",
            "\n",
            "сквозь\n",
            "\tAcc=6\n",
            "\n",
            "для\n",
            "\tGen=8\n",
            "\n",
            "близ\n",
            "\tGen=2\n",
            "\n",
            "над\n",
            "\tIns=14\n",
            "\n",
            "под\n",
            "\tIns=33\n",
            "\tAcc=14\n",
            "\n",
            "между\n",
            "\tIns=16\n",
            "\n",
            "перед\n",
            "\tIns=17\n",
            "\n",
            "-под\n",
            "\tGen=3\n",
            "\tAcc=1\n",
            "\n",
            "через\n",
            "\tAcc=28\n",
            "\n",
            "мимо\n",
            "\tGen=3\n",
            "\tNom=1\n",
            "\n",
            "пред\n",
            "\tIns=1\n",
            "\n",
            "при\n",
            "\tLoc=11\n",
            "\n",
            "около\n",
            "\tGen=13\n",
            "\n",
            "вроде\n",
            "\tGen=4\n",
            "\n",
            "сзади\n",
            "\tGen=1\n",
            "\n",
            "впереди\n",
            "\tGen=2\n",
            "\n",
            "вследствие\n",
            "\tGen=2\n",
            "\n",
            "против\n",
            "\tGen=1\n",
            "\n",
            "вне\n",
            "\tGen=1\n",
            "\n",
            "среди\n",
            "\tGen=5\n",
            "\n",
            "поверх\n",
            "\tGen=2\n",
            "\n",
            "внутрь\n",
            "\tGen=1\n",
            "\n",
            "северо\n",
            "\tDat=1\n",
            "\n",
            "внизу\n",
            "\tGen=1\n",
            "\n",
            "насчёт\n",
            "\tGen=1\n",
            "\n",
            "вопреки\n",
            "\tDat=1\n",
            "\n",
            "меж\n",
            "\tIns=1\n",
            "\tGen=1\n",
            "\n",
            "навстречу\n",
            "\tDat=1\n",
            "\n",
            "прежде\n",
            "\tGen=1\n",
            "\n",
            "вместо\n",
            "\tGen=1\n"
          ]
        }
      ]
    },
    {
      "cell_type": "code",
      "source": [],
      "metadata": {
        "id": "OMgiGBmS6fdD"
      },
      "execution_count": null,
      "outputs": []
    }
  ]
}