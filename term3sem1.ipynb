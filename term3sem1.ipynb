{
  "nbformat": 4,
  "nbformat_minor": 0,
  "metadata": {
    "colab": {
      "provenance": [],
      "authorship_tag": "ABX9TyMIp7DVOBJGgO4TqJPiOCsS",
      "include_colab_link": true
    },
    "kernelspec": {
      "name": "python3",
      "display_name": "Python 3"
    },
    "language_info": {
      "name": "python"
    }
  },
  "cells": [
    {
      "cell_type": "markdown",
      "metadata": {
        "id": "view-in-github",
        "colab_type": "text"
      },
      "source": [
        "<a href=\"https://colab.research.google.com/github/MariaLon/homework/blob/main/term3sem1.ipynb\" target=\"_parent\"><img src=\"https://colab.research.google.com/assets/colab-badge.svg\" alt=\"Open In Colab\"/></a>"
      ]
    },
    {
      "cell_type": "markdown",
      "source": [
        "\n",
        "Задача 1.\n",
        "Маша с математического факультета МГУ сильно заскучала, идя по улице. Она решила придумать себе такое развлечение:\n",
        "\n",
        "Если она видит машину, она проводит арифметические операции с ее номером. Так, если ее номер делится на 3, она возводит результат во 2-ю степень. Если ее номер не делится на 3, она целочисленно делит его на 5.\n",
        "\n",
        "Если она видит магазин, она читает его название наоборот.\n",
        "\n",
        "Если Маша видит группу человек, она умножает количество людей на 8 и возвращает остаток от деления на 6.\n",
        "\n",
        "С помощью input() пользователь вводит либо целое трехзначное число (номер машины), либо строку (название магазина, не короче четырех букв), либо однозначное или двузначное целое число (количество людей)."
      ],
      "metadata": {
        "id": "CvRAQk2QDKkq"
      }
    },
    {
      "cell_type": "code",
      "source": [],
      "metadata": {
        "id": "t4a97Qs71jsc"
      },
      "execution_count": null,
      "outputs": []
    },
    {
      "cell_type": "code",
      "source": [
        "x = input()\n",
        "if x.isnumeric():\n",
        "  if len(x) == 3:\n",
        "    if (int(x) % 3) > 0:\n",
        "      print (int(int(x) / 5))\n",
        "    else:\n",
        "      print (int(x) * int(x))\n",
        "  elif len(x) < 3:\n",
        "    print (int(x) * 8 % 6)\n",
        "else:\n",
        "  if len(x)>3:\n",
        "    print (x[::-1])\n",
        "\n"
      ],
      "metadata": {
        "id": "_rrG_jGqDQp8",
        "colab": {
          "base_uri": "https://localhost:8080/"
        },
        "outputId": "86867080-33b2-49ac-cef9-efc70f058131"
      },
      "execution_count": null,
      "outputs": [
        {
          "output_type": "stream",
          "name": "stdout",
          "text": [
            "dfgh\n",
            "hgfd\n"
          ]
        }
      ]
    },
    {
      "cell_type": "markdown",
      "source": [
        "Задача 2.\n",
        "Оля работает секретарем. Грядет большое собрание, и представители фирм звонят ей один за другим, сообщая, сколько работников от них придут.\n",
        "\n",
        "В цикле с помощью input() пользователь вводит число работников от каждой фирмы. Как только Оле звонит фирма, отказавшаяся от участия (она посылает 0 своих работников), звонки наконец заканчиваются.\n",
        "\n",
        "Помогите Оле посчитать, сколько столов понадобится в большом зале, чтобы уместить всех участников: за один стол могут сесть восемь человек."
      ],
      "metadata": {
        "id": "Tv1VKiLJDVG1"
      }
    },
    {
      "cell_type": "code",
      "source": [
        "g = 0\n",
        "i = 1\n",
        "while True:\n",
        "  x = input (f\"Компания {i}:\")\n",
        "  if x == \"0\":\n",
        "    break\n",
        "  elif x.isdigit():\n",
        "    g += int(x)\n",
        "    i += 1\n",
        "\n",
        "s = int(g / 8)\n",
        "if (g % 8) > 0:\n",
        "  s += 1\n",
        "print (\"Потребуется \", s)\n",
        "\n"
      ],
      "metadata": {
        "id": "Tm6WQ8_XDeKz",
        "colab": {
          "base_uri": "https://localhost:8080/"
        },
        "outputId": "370131b9-b971-4567-ec97-45f527fe6a1c"
      },
      "execution_count": null,
      "outputs": [
        {
          "output_type": "stream",
          "name": "stdout",
          "text": [
            "Компания 1:8\n",
            "Компания 2:\n",
            "Компания 2:9\n",
            "Компания 3:12\n",
            "Компания 4:4543\n",
            "Компания 5:2\n",
            "Компания 6:0\n",
            "Потребуется  572\n"
          ]
        }
      ]
    },
    {
      "cell_type": "markdown",
      "source": [
        "Задача 3.\n",
        "Напишите мини-игру про рыбалку с помощью функции.\n",
        "\n",
        "Пользователем вводится число попыток закинуть удочку. Столько раз с помощью функции random выбирается рыба из списка. В зависимости от того, какая это рыба, игроку нужно будет нажать на Enter такое количество раз:\n",
        "\n",
        "Бычок - 2\n",
        "\n",
        "Пескарь - 3\n",
        "\n",
        "Плотва - 4\n",
        "\n",
        "Карп - 5\n",
        "\n",
        "Сом - 6\n",
        "\n",
        "Налим - 7\n",
        "\n",
        "Щука - 8\n",
        "\n",
        "Подсказка: нажатие на Enter - это пустая строка при вводе."
      ],
      "metadata": {
        "id": "A2bkZmUhDeoE"
      }
    },
    {
      "cell_type": "code",
      "source": [
        "from random import randint\n",
        "f = [\"\", \"\",\n",
        "     \"Бычок\", \"Пескарь\", \"Плотва\", \"Карп\", \"Сом\", \"Налим\", \"Щука\"]\n",
        "\n",
        "def Fishing(T):\n",
        "  F = randint(2,8)\n",
        "  if T == F:\n",
        "    return f[F] + \" поймана\"\n",
        "  else:\n",
        "    return f[F] + \" сорвалась.\"\n",
        "\n",
        "c = int(input(\"Число забросов:\"))\n",
        "\n",
        "for i in range(c):\n",
        "  print (f\"Заброс {i}:\")\n",
        "  r = 0\n",
        "  while True:\n",
        "    if input() == \"\":\n",
        "      r += 1\n",
        "    else:\n",
        "      break\n",
        "  print (Fishing(r))\n",
        "\n",
        "\n",
        "\n",
        "\n",
        "\n",
        "\n",
        "\n"
      ],
      "metadata": {
        "id": "MvYKfj4rDi8a",
        "colab": {
          "base_uri": "https://localhost:8080/",
          "height": 1000
        },
        "outputId": "aa6532d4-e1b9-44bf-8e02-8361d9e0a2dd"
      },
      "execution_count": null,
      "outputs": [
        {
          "output_type": "stream",
          "name": "stdout",
          "text": [
            "Число забросов:100\n",
            "Заброс 0:\n",
            "\n",
            " \n",
            "Налим сорвалась.\n",
            "Заброс 1:\n",
            "\n",
            "  \n",
            "Сом сорвалась.\n",
            "Заброс 2:\n",
            "\n",
            " \n",
            "Сом сорвалась.\n",
            "Заброс 3:\n",
            "\n",
            " \n",
            "Налим сорвалась.\n",
            "Заброс 4:\n",
            "\n",
            " \n",
            "Налим сорвалась.\n",
            "Заброс 5:\n",
            " \n",
            "Сом сорвалась.\n",
            "Заброс 6:\n",
            " \n",
            "Сом сорвалась.\n",
            "Заброс 7:\n",
            " \n",
            "Налим сорвалась.\n",
            "Заброс 8:\n",
            "\n",
            " \n",
            "Пескарь сорвалась.\n",
            "Заброс 9:\n",
            "\n",
            " \n",
            "Налим сорвалась.\n",
            "Заброс 10:\n",
            "\n",
            " \n",
            "Щука сорвалась.\n",
            "Заброс 11:\n",
            "\n",
            " \n",
            "Плотва сорвалась.\n",
            "Заброс 12:\n",
            "\n",
            " \n",
            "Плотва сорвалась.\n",
            "Заброс 13:\n",
            "\n",
            " \n",
            "Бычок сорвалась.\n",
            "Заброс 14:\n",
            "\n",
            " \n",
            "Бычок сорвалась.\n",
            "Заброс 15:\n",
            "\n",
            "\n",
            " \n",
            "Сом сорвалась.\n",
            "Заброс 16:\n",
            "\n",
            " \n",
            "Карп сорвалась.\n",
            "Заброс 17:\n",
            "\n",
            "\n",
            " \n",
            "Бычок поймана\n",
            "Заброс 18:\n",
            "0\n",
            "Плотва сорвалась.\n",
            "Заброс 19:\n",
            "break\n",
            "Карп сорвалась.\n",
            "Заброс 20:\n"
          ]
        },
        {
          "output_type": "error",
          "ename": "KeyboardInterrupt",
          "evalue": "ignored",
          "traceback": [
            "\u001b[0;31m---------------------------------------------------------------------------\u001b[0m",
            "\u001b[0;31mKeyboardInterrupt\u001b[0m                         Traceback (most recent call last)",
            "\u001b[0;32m<ipython-input-28-5bf0b05cab79>\u001b[0m in \u001b[0;36m<cell line: 13>\u001b[0;34m()\u001b[0m\n\u001b[1;32m     15\u001b[0m   \u001b[0mr\u001b[0m \u001b[0;34m=\u001b[0m \u001b[0;36m0\u001b[0m\u001b[0;34m\u001b[0m\u001b[0;34m\u001b[0m\u001b[0m\n\u001b[1;32m     16\u001b[0m   \u001b[0;32mwhile\u001b[0m \u001b[0;32mTrue\u001b[0m\u001b[0;34m:\u001b[0m\u001b[0;34m\u001b[0m\u001b[0;34m\u001b[0m\u001b[0m\n\u001b[0;32m---> 17\u001b[0;31m     \u001b[0;32mif\u001b[0m \u001b[0minput\u001b[0m\u001b[0;34m(\u001b[0m\u001b[0;34m)\u001b[0m \u001b[0;34m==\u001b[0m \u001b[0;34m\"\"\u001b[0m\u001b[0;34m:\u001b[0m\u001b[0;34m\u001b[0m\u001b[0;34m\u001b[0m\u001b[0m\n\u001b[0m\u001b[1;32m     18\u001b[0m       \u001b[0mr\u001b[0m \u001b[0;34m+=\u001b[0m \u001b[0;36m1\u001b[0m\u001b[0;34m\u001b[0m\u001b[0;34m\u001b[0m\u001b[0m\n\u001b[1;32m     19\u001b[0m     \u001b[0;32melse\u001b[0m\u001b[0;34m:\u001b[0m\u001b[0;34m\u001b[0m\u001b[0;34m\u001b[0m\u001b[0m\n",
            "\u001b[0;32m/usr/local/lib/python3.10/dist-packages/ipykernel/kernelbase.py\u001b[0m in \u001b[0;36mraw_input\u001b[0;34m(self, prompt)\u001b[0m\n\u001b[1;32m    849\u001b[0m                 \u001b[0;34m\"raw_input was called, but this frontend does not support input requests.\"\u001b[0m\u001b[0;34m\u001b[0m\u001b[0;34m\u001b[0m\u001b[0m\n\u001b[1;32m    850\u001b[0m             )\n\u001b[0;32m--> 851\u001b[0;31m         return self._input_request(str(prompt),\n\u001b[0m\u001b[1;32m    852\u001b[0m             \u001b[0mself\u001b[0m\u001b[0;34m.\u001b[0m\u001b[0m_parent_ident\u001b[0m\u001b[0;34m,\u001b[0m\u001b[0;34m\u001b[0m\u001b[0;34m\u001b[0m\u001b[0m\n\u001b[1;32m    853\u001b[0m             \u001b[0mself\u001b[0m\u001b[0;34m.\u001b[0m\u001b[0m_parent_header\u001b[0m\u001b[0;34m,\u001b[0m\u001b[0;34m\u001b[0m\u001b[0;34m\u001b[0m\u001b[0m\n",
            "\u001b[0;32m/usr/local/lib/python3.10/dist-packages/ipykernel/kernelbase.py\u001b[0m in \u001b[0;36m_input_request\u001b[0;34m(self, prompt, ident, parent, password)\u001b[0m\n\u001b[1;32m    893\u001b[0m             \u001b[0;32mexcept\u001b[0m \u001b[0mKeyboardInterrupt\u001b[0m\u001b[0;34m:\u001b[0m\u001b[0;34m\u001b[0m\u001b[0;34m\u001b[0m\u001b[0m\n\u001b[1;32m    894\u001b[0m                 \u001b[0;31m# re-raise KeyboardInterrupt, to truncate traceback\u001b[0m\u001b[0;34m\u001b[0m\u001b[0;34m\u001b[0m\u001b[0m\n\u001b[0;32m--> 895\u001b[0;31m                 \u001b[0;32mraise\u001b[0m \u001b[0mKeyboardInterrupt\u001b[0m\u001b[0;34m(\u001b[0m\u001b[0;34m\"Interrupted by user\"\u001b[0m\u001b[0;34m)\u001b[0m \u001b[0;32mfrom\u001b[0m \u001b[0;32mNone\u001b[0m\u001b[0;34m\u001b[0m\u001b[0;34m\u001b[0m\u001b[0m\n\u001b[0m\u001b[1;32m    896\u001b[0m             \u001b[0;32mexcept\u001b[0m \u001b[0mException\u001b[0m \u001b[0;32mas\u001b[0m \u001b[0me\u001b[0m\u001b[0;34m:\u001b[0m\u001b[0;34m\u001b[0m\u001b[0;34m\u001b[0m\u001b[0m\n\u001b[1;32m    897\u001b[0m                 \u001b[0mself\u001b[0m\u001b[0;34m.\u001b[0m\u001b[0mlog\u001b[0m\u001b[0;34m.\u001b[0m\u001b[0mwarning\u001b[0m\u001b[0;34m(\u001b[0m\u001b[0;34m\"Invalid Message:\"\u001b[0m\u001b[0;34m,\u001b[0m \u001b[0mexc_info\u001b[0m\u001b[0;34m=\u001b[0m\u001b[0;32mTrue\u001b[0m\u001b[0;34m)\u001b[0m\u001b[0;34m\u001b[0m\u001b[0;34m\u001b[0m\u001b[0m\n",
            "\u001b[0;31mKeyboardInterrupt\u001b[0m: Interrupted by user"
          ]
        }
      ]
    },
    {
      "cell_type": "markdown",
      "source": [
        "Задача 4.\n",
        "Дашу позвали сразу на несколько тематических вечеринок. Заглянув в свой гардероб, она нашла одежду из приведенного ниже множества. Скажите, на какие из вечеринок сможет пойти Даша, учитывая их дресс-код. Множества дресс-кодов также приведены ниже, но следует помнить, что они могут изменяться.\n",
        "\n",
        "Условия\n",
        "\n",
        "Вечеринка представителей элиты: требуются все элементы одежды.\n",
        "\n",
        "Вечеринка в стиле ретро: если у Даши нет трех или больше элементов одежды для этой вечеринки, то она туда не попадет.\n",
        "\n",
        "Вечеринка панков: если у Даши есть хотя бы два элемента одежды для этой вечеринки, то ее там ждут.\n",
        "\n",
        "Также выведите множество с оставшейся одеждой, чтобы Даша знала, что может надеть до вечеринок.\n",
        "\n",
        "dasha = {\"платье\", \"туфли\", \"колготки\", \"серьги\", \"ожерелье\", \"джинсы\", \"футболка\", \"кеды\", \"толстовка\", \"перчатки\", \"шорты\", \"майка\"}\n",
        "elite = {\"платье\", \"туфли\", \"колготки\", \"серьги\", \"ожерелье\"}\n",
        "retro = {\"юбка\", \"рубашка\", \"туфли\", \"ободок\", \"серьги\"}\n",
        "punk = {\"джинсы\", \"футболка\", \"кеды\", \"толстовка\", \"перчатки\"}\n",
        "\n",
        "# your code here"
      ],
      "metadata": {
        "id": "Vd6oNA9wDjWD"
      }
    },
    {
      "cell_type": "code",
      "source": [
        "dasha = set([\"платье\", \"туфли\", \"колготки\", \"серьги\", \"ожерелье\", \"джинсы\", \"футболка\", \"кеды\", \"толстовка\", \"перчатки\", \"шорты\", \"майка\"])\n",
        "togo = set()\n",
        "elite = set([\"платье\", \"туфли\", \"колготки\", \"серьги\", \"ожерелье\"])\n",
        "punk = set([\"джинсы\", \"футболка\", \"кеды\", \"толстовка\", \"перчатки\"])\n",
        "retro = set([\"юбка\", \"рубашка\", \"туфли\", \"ободок\", \"серьги\"])\n",
        "toelite = dasha.intersection(elite)\n",
        "if len (elite.difference( toelite)) == 0:\n",
        "  print (\"You can go toelite\")\n",
        "  togo = togo.union(elite)\n",
        "toretro = dasha.intersection(retro)\n",
        "if len(toretro) > 3:\n",
        "  print (\"You can go toretro\")\n",
        "  togo = togo.union(retro)\n",
        "topunk = dasha.intersection(punk)\n",
        "if len (topunk) > 1:\n",
        "  print (\"You can go topunk\")\n",
        "  togo = togo.union(punk)\n",
        "print (f\"left:{dasha.difference(togo)}\")\n",
        "\n"
      ],
      "metadata": {
        "id": "1jV-If1IDoG0",
        "colab": {
          "base_uri": "https://localhost:8080/"
        },
        "outputId": "fdc444bc-8d14-4dad-d2d8-84ab5cce1081"
      },
      "execution_count": null,
      "outputs": [
        {
          "output_type": "stream",
          "name": "stdout",
          "text": [
            "You can go toelite\n",
            "You can go topunk\n",
            "left:{'майка', 'шорты'}\n"
          ]
        }
      ]
    },
    {
      "cell_type": "markdown",
      "source": [
        "Задача 5.\n",
        "Вася - перфекционист. Когда жена посылает его в магазин, он раскладывает продукты по пакетам в зависимости от их типов. На вход подается словарь (dict), который представляет собой список продуктов с их признаками, который ему написала жена. Известно следующее: мясо и рыба записываются в килограммах, овощи и фрукты - в штуках, а к сладостям обычно приписаны их особенности, чтобы Вася не перепутал.\n",
        "\n",
        "Помогите Васе распределить продукты (только названия) по трем пакетам (пакет с мясом и рыбой, пакет с овощами и фруктами, пакет со сладостями). Для этого используйте словарь, в ключах которого будут пакеты, а в значениях - списки продуктов для них.\n",
        "\n",
        "Напоминание: словарь, который подается на вход, может быть самым разным.\n",
        "\n",
        "dct_1 = {\"Куриное филе\": 1.3, \"Хлопья кукурузные\": \"без сахара\", \"Батончик шоколадный\": \"с арахисом\", \"Огурцы\": 4, \"Филе рыбы\": 0.6, \"Лук репчатый\": 5,\n",
        "         \"Рулет сладкий\": \"с маком\", \"Бананы\": 6, \"Ребрышки свиные\": 1.5}\n",
        "\n",
        "# your code here"
      ],
      "metadata": {
        "id": "ceGYgITQDpBb"
      }
    },
    {
      "cell_type": "code",
      "source": [
        "\n",
        "bag1 = []\n",
        "bag2 = []\n",
        "bag3 = []\n",
        "dct_1 = {\"Куриное филе\": 1.3, \"Хлопья кукурузные\": \"без сахара\", \"Батончик шоколадный\": \"с арахисом\", \"Огурцы\": 4, \"Филе рыбы\": 0.6, \"Лук репчатый\": 5, \"Рулет сладкий\": \"с маком\", \"Бананы\": 6, \"Ребрышки свиные\": 1.5}\n",
        "for product,value in dct_1.items():\n",
        "  if isinstance(value,str):\n",
        "    bag3.append(product)\n",
        "  elif isinstance(value,int):\n",
        "    bag2.append(product)\n",
        "  else:\n",
        "    bag1.append(product)\n",
        "\n",
        "print (bag1)\n",
        "print (bag2)\n",
        "print (bag3)\n"
      ],
      "metadata": {
        "id": "IkaFhsJqDvPr",
        "colab": {
          "base_uri": "https://localhost:8080/"
        },
        "outputId": "5f58374c-be58-4d88-cd5a-855e4cc7891f"
      },
      "execution_count": null,
      "outputs": [
        {
          "output_type": "stream",
          "name": "stdout",
          "text": [
            "['Куриное филе', 'Филе рыбы', 'Ребрышки свиные']\n",
            "['Огурцы', 'Лук репчатый', 'Бананы']\n",
            "['Хлопья кукурузные', 'Батончик шоколадный', 'Рулет сладкий']\n"
          ]
        }
      ]
    },
    {
      "cell_type": "markdown",
      "source": [
        "Задача 6.\n",
        "Катя уже давно играет в игру Кеншин Пимпакт, но никак не может получить своего любимого персонажа Гайден. У нее накопилось количество кристаллов, достаточное для призыва 10 персонажей или оружия (они перемешаны).\n",
        "\n",
        "Персонажи и оружие могут принадлежать разным категориям: от трех (такое себе) звезд до пяти (лучше не бывает) звезд. Оружие для этого призыва может быть только трёхзвёздочным, а персонажи — четырех- или пятизвёздочными.\n",
        "\n",
        "С помощью функции модуля random выберите из списка, приведенного ниже, 9 вариантов и добавьте к ним Гайден (5 звезд). Перемешайте персонажей и оружие и сообщайте о состоянии Кати во время призыва:\n",
        "\n",
        "Как только она получает Гайден, она падает в обморок от счастья (получение персонажей заканчивается). Если ей попадаются два или больше четырёхзвёздочных персонажей до Гайден, Катя расстраивается (они у нее уже есть). Если ей попадаются три или больше элементов оружия, Катя злится (оружие ей не нужно). Если девять объектов подряд не оказались Гайден, Катя плачет (но ненадолго, ведь Гайден оказывается последней!).\n",
        "\n",
        "Важно: Каждый вывод о состоянии Кати должен повторяться только один раз.\n",
        "\n",
        "pool = [\"Меч из синего железа 3\", \"Странная кисть 3\", \"Рогатина 3\", \"Лук вороны 3\", \"Межреберный нож 3\", \"Предвестник заката 3\", \"Теплое лезвие 3\",\n",
        " \"Парный рубин 3\", \"Лазурный шар 3\", \"Руководство по волшебству 3\", \"Каллен 4\", \"Шиона 4\", \"Камелия 4\",\n",
        " \"Целлюлоза 4\", \"Хан Шин 4\"]"
      ],
      "metadata": {
        "id": "WQ3J9ykWDvqA"
      }
    },
    {
      "cell_type": "code",
      "source": [
        "import random\n",
        "arms = 0\n",
        "character = 0\n",
        "summon = 0\n",
        "pool = [\"Меч из синего железа 3\", \"Странная кисть 3\", \"Рогатина 3\", \"Лук вороны 3\", \"Межреберный нож 3\", \"Предвестник заката 3\", \"Теплое лезвие 3\", \"Парный рубин 3\", \"Лазурный шар 3\", \"Руководство по волшебству 3\", \"Каллен 4\", \"Шиона 4\", \"Камелия 4\", \"Целлюлоза 4\", \"Хан Шин 4\"]\n",
        "summonsorder = list(random.sample(pool, 9))\n",
        "summonsorder.append('Hyden 5')\n",
        "random.shuffle(summonsorder)\n",
        "for s in summonsorder:\n",
        "  if summon == 9:\n",
        "   print('Катя плачет')\n",
        "  summon += 1\n",
        "  print(f'Призвана: {s}')\n",
        "  if s == 'Hyden 5':\n",
        "    break;\n",
        "  if s[-1] == \"4\":\n",
        "    character += 1\n",
        "    if character > 1:\n",
        "     print('Катя плачет - персонажи уже есть')\n",
        "  else:\n",
        "    arms += 1\n",
        "    if arms > 2:\n",
        "      print ('Катя злится - оружие не нужно')\n",
        "\n",
        "\n",
        "\n",
        "\n",
        "\n",
        "print('Катя в обмороке от счастья!')"
      ],
      "metadata": {
        "id": "RC_V3VMUD1A8",
        "colab": {
          "base_uri": "https://localhost:8080/"
        },
        "outputId": "1f2a4438-376a-4fdb-e444-a013ba2ee15a"
      },
      "execution_count": null,
      "outputs": [
        {
          "output_type": "stream",
          "name": "stdout",
          "text": [
            "Призвана: Лазурный шар 3\n",
            "Призвана: Целлюлоза 4\n",
            "Призвана: Парный рубин 3\n",
            "Призвана: Камелия 4\n",
            "Катя плачет - персонажи уже есть\n",
            "Призвана: Меч из синего железа 3\n",
            "Катя злится - оружие не нужно\n",
            "Призвана: Каллен 4\n",
            "Катя плачет - персонажи уже есть\n",
            "Призвана: Рогатина 3\n",
            "Катя злится - оружие не нужно\n",
            "Призвана: Hyden 5\n",
            "Катя в обмороке от счастья!\n"
          ]
        }
      ]
    },
    {
      "cell_type": "markdown",
      "source": [
        "Задача 7.\n",
        "Вова - нейрохудожник. У Вовы не всегда бывают идеи, что он может нарисовать с помощью нейросетей, и обычно об этом он спрашивает ChatGPT. Но сегодня интернет перестал работать, а придумать идеи было необходимо, так как скоро выставка авангардного нейросетевого искусства.\n",
        "\n",
        "Напишите Вове функцию, которая будет составлять из четырех списков идеи для авангардных картин (можете добавить свои списки или элементы для готовых списков).\n",
        "\n",
        "colors = [\"blue\", \"red\", \"green\", \"yellow\", \"black\", \"white\", \"pink\", \"purple\"]\n",
        "objects = [\"flowers\", \"tree\", \"cat\", \"dog\", \"elf\", \"demon\", \"orc\", \"sun\", \"clouds\"]\n",
        "action = [\"sleeping\", \"awakening\", \"laughing\", \"dancing\", \"swimming\", \"grinning\", \"smiling\", \"yelling\"]\n",
        "background = [\"in the sky\", \"in the sea\", \"between the mountains\", \"in the room\", \"in the forest\", \"in the city\", \"in the river"
      ],
      "metadata": {
        "id": "H_fl26d8D2Ak"
      }
    },
    {
      "cell_type": "code",
      "source": [
        "from random import choice\n",
        "colors = [\"blue\", \"red\", \"green\", \"yellow\", \"black\", \"white\", \"pink\", \"purple\"]\n",
        "objects = [\"flowers\", \"tree\", \"cat\", \"dog\", \"elf\", \"demon\", \"orc\", \"sun\", \"clouds\"]\n",
        "action = [\"sleeping\", \"awakening\", \"laughing\", \"dancing\", \"swimming\", \"grinning\", \"smiling\", \"yelling\"]\n",
        "background = [\"in the sky\", \"in the sea\", \"between the mountains\", \"in the room\", \"in the forest\", \"in the city\", \"in the river\"]\n",
        "def idea():\n",
        "  return f\"{choice(colors)} {choice(objects)} {choice(action)} {choice(background)}\"\n",
        "\n",
        "print (idea())\n"
      ],
      "metadata": {
        "id": "9nGhOcYiD6Ws",
        "colab": {
          "base_uri": "https://localhost:8080/"
        },
        "outputId": "7b6f3967-9c07-4702-ef55-cb796f8d6cfb"
      },
      "execution_count": null,
      "outputs": [
        {
          "output_type": "stream",
          "name": "stdout",
          "text": [
            "blue demon smiling in the sea\n"
          ]
        }
      ]
    },
    {
      "cell_type": "markdown",
      "source": [
        "Задача 8.\n",
        "Вове было скучно, и он решил поболтать с бесплатным чатботом Сакурой.\n",
        "\n",
        "Напишите класс Sakura, репрезентующий девушку-чатбота. В первом input задается имя юзера, по которому Сакура будет обращаться к своему собеседнику.\n",
        "\n",
        "Как она общается (что задает юзер -> ее ответ):\n",
        "\n",
        "\"Привет\" в любых возможных контекстах -> \"Привет, user.\"\n",
        "\n",
        "\"Как дела?\" -> \"Все хорошо. А твои, user?\"\n",
        "\n",
        "\"Я люблю тебя\" в любых возможных контекстах -> \"Я люблю тебя, user.\"\n",
        "\n",
        "\"Посчитай x + y\" -> \"Хорошо. Ответ: решение\"\n",
        "\n",
        "\"Скажи \"фраза\"\" -> \"фраза\"\n",
        "\n",
        "\"Выбери число: [список чисел]\" -> Любое число из списка\n",
        "\n",
        "\"Неизвестная Сакуре команда\" -> \"Я тебя не понимаю.\"\n",
        "\n",
        "\"Пока\" -> \"Пока, user.\" [ввод прерывается]\n",
        "\n",
        "Следует обойтись без eval."
      ],
      "metadata": {
        "id": "mpcFKglFD6t9"
      }
    },
    {
      "cell_type": "code",
      "source": [
        "import re\n",
        "import random\n",
        "\n",
        "class Sakura:\n",
        "   def __init__(self, UserName):\n",
        "    self.User = UserName.title()\n",
        "   def IsBye(self, Quest):\n",
        "    if re.match(r'\\b[Пп]ока\\b', Quest) is not None:\n",
        "      print(f\"Sakura: Пока, {self.User}!\")\n",
        "      return True\n",
        "    else:\n",
        "      return False\n",
        "   def IsHello(self, Quest):\n",
        "    if re.match(r'\\b[Пп]ривет\\b', Quest) is not None:\n",
        "      print(f\"Sakura: Привет, {self.User}!\")\n",
        "      return True\n",
        "    else:\n",
        "      return False\n",
        "   def Iswhatsup(self,Quest):\n",
        "    if re.match(r'\\b[Кк]ак дела\\b',Quest) is not None:\n",
        "      print(f\"Sakura:Все хорошо. А твои, {self.User}?\")\n",
        "      return True\n",
        "    else:\n",
        "      return False\n",
        "   def IsLove(self,Quest):\n",
        "    if len (re.findall(r'\\b[Яя] люблю тебя\\b',Quest)) > 0:\n",
        "      print(f'Sakura:Я люблю тебя, {self.User}')\n",
        "      return True\n",
        "    else:\n",
        "      return False\n",
        "   def IsScore(self,Quest):\n",
        "    if re.match(r'\\b[Пп]осчитай \\d+ \\+ \\d+',Quest) is not None:\n",
        "      dig = re.findall(r'\\b\\d+\\b', Quest)\n",
        "      print(f'Sakura:Хорошо. Ответ:{int(dig[0]) + int(dig[1])}')\n",
        "      return True\n",
        "    else:\n",
        "      return False\n",
        "   def IsPhrase(self,Quest):\n",
        "    if re.match(r'\\b[Сс]кажи\\b',Quest) is not None:\n",
        "      out = re.sub(r'\\b[Сс]кажи\\b','',Quest,1)\n",
        "      print(f'Sakura:{out}')\n",
        "      return True\n",
        "    else:\n",
        "      return False\n",
        "   def IsNumber(self,Quest):\n",
        "    if re.match(r'\\b[Вв]ыбери число[:]? (\\d+([,]?|[;]?|[ ]?)+)+',Quest) is not None:\n",
        "      out = random.choice( re.findall(r'\\b\\d+\\b',Quest))\n",
        "      print(f'Sakura:{out}')\n",
        "      return True\n",
        "    else:\n",
        "      return False\n",
        "\n",
        "\n",
        "   def chat(self):\n",
        "    while True:\n",
        "      qu = input(f\"{self.User}: \")\n",
        "      if self.IsBye(qu):\n",
        "        break;\n",
        "      else:\n",
        "        F = [self.IsHello, self.Iswhatsup, self.IsLove, self.IsScore,self.IsPhrase,self.IsNumber]\n",
        "        out = False\n",
        "        for f in F:\n",
        "          out = f(qu)\n",
        "          if out:\n",
        "            break;\n",
        "        if out == False:\n",
        "          print(f\"Sakura: Я не понимаю!\")\n",
        "\n",
        "\n",
        "\n",
        "c = Sakura(input('введите имя:'))\n",
        "c.chat()\n",
        "\n",
        "\n"
      ],
      "metadata": {
        "id": "dZSraMeDD_vk",
        "colab": {
          "base_uri": "https://localhost:8080/"
        },
        "outputId": "0b2c4fb0-19f0-4ef1-ad92-6d3c8a8348b7"
      },
      "execution_count": null,
      "outputs": [
        {
          "output_type": "stream",
          "name": "stdout",
          "text": [
            "введите имя:вася\n",
            "Вася: как дела?\n",
            "Sakura:Все хорошо. А твои, Вася?\n",
            "Вася: я люблю тебя\n",
            "Sakura:Я люблю тебя, Вася\n",
            "Вася: посчитай 2+3\n",
            "Sakura: Я не понимаю!\n",
            "Вася: посчитай 2 + 3\n",
            "Sakura:Хорошо. Ответ:5\n",
            "Вася: скажи рыба\n",
            "Sakura: рыба\n",
            "Вася: выбери число 7 8 9 12\n",
            "Sakura:9\n",
            "Вася: пока\n",
            "Sakura: Пока, Вася!\n"
          ]
        }
      ]
    },
    {
      "cell_type": "markdown",
      "source": [
        "Задача 9.\n",
        "Николай выбирает аниме из списка на Шикимори, чтобы посмотреть после работы. Он твердо знает:\n",
        "\n",
        "что любой тайтл, в названии которого содержатся не меньше двух восклицательных знаков подряд, точно хороший;\n",
        "что любой тайтл, в названии которого есть слово \"Baka\", стоит посмотреть;\n",
        "но любой тайтл, в названии которого больше шести слов, он точно смотреть не будет.\n",
        "Если Николай посмотрит больше пяти тайтлов за вечер, он умрет от перенапряжения и переродится в другом мире в виде троллейбусной остановки. Напишите программу, которая принимает список названий аниме, и определит, какова будет у Николая судьба.\n",
        "\n",
        "lst_4 = ['Baka no Baka ni Baka to Baka!! Bakayaro',\n",
        "         \"Silk of Baka\",\n",
        "         \"Jojo's Bizarre Adventure\",\n",
        "         \"Sister!!!!!!!\",\n",
        "         \"He and his sobaka\",\n",
        "         \"Not so fast!\",\n",
        "         \"Higurashi no Naku Koro Ni Kai\",\n",
        "         \"Hopeless Simps!! Attack\",\n",
        "         \"I was a looser but became even worse in a fantasy world: useless profession of a plumber\",\n",
        "         \"Baka Monogatari\",\n",
        "         \"!Mahou Shoujo Nicola Tesla!\"]"
      ],
      "metadata": {
        "id": "j8YnvfK8EASS"
      }
    },
    {
      "cell_type": "code",
      "source": [
        "lst_4 = ['Baka no Baka ni Baka to Baka!! Bakayaro', \"Silk of Baka\", \"Jojo's Bizarre Adventure\", \"Sister!!!!!!!\", \"He and his sobaka\", \"Not so fast!\", \"Higurashi no Naku Koro Ni Kai\", \"Hopeless Simps!! Attack\", \"I was a looser but became even worse in a fantasy world: useless profession of a plumber\", \"Baka Monogatari\", \"!Mahou Shoujo Nicola Tesla!\"]\n",
        "import re\n",
        "pattern = re.compile (\"\\\\b[Bb]aka\\\\b|(!!)\")\n",
        "def myfunc(title):\n",
        " if len (re.split(r'[,\\s]\\s*', title))>6:\n",
        "  return False\n",
        " elif len(pattern.findall(title))>0:\n",
        "  return True\n",
        " else:\n",
        "  return False\n",
        "if len(list(filter(myfunc, lst_4)))>5:\n",
        "  print(' Nicolai is Dead')\n",
        "else:\n",
        "  print('Nicolai is Happy')\n"
      ],
      "metadata": {
        "id": "NZo2ndI5ESB8",
        "colab": {
          "base_uri": "https://localhost:8080/"
        },
        "outputId": "797ef9a5-a940-4c10-bcc4-695f41e99ab7"
      },
      "execution_count": null,
      "outputs": [
        {
          "output_type": "stream",
          "name": "stdout",
          "text": [
            "Nicolai is Happy\n"
          ]
        }
      ]
    },
    {
      "cell_type": "markdown",
      "source": [
        "Задача 10.\n",
        "Дан список с элементами разных типов (потенциально любых). Напишите программу, которая возвращает словарь, в котором ключами являются типы данных (их названия в виде строк), а значениями - количества элементов такого типа в исходном списке.\n",
        "\n",
        "lst_1 = ['good', 4, ('foo', 'bar'), 'sooooq', 6.4, -1, {}, lambda x: x + 1, 16, 24]\n"
      ],
      "metadata": {
        "id": "JBf-GN7GESWc"
      }
    },
    {
      "cell_type": "code",
      "source": [
        "import re\n",
        "\n",
        "lst_1 = ['good', 4, ('foo', 'bar'), 'sooooq', 6.4, -1, {}, lambda x: x + 1, 16, 24]\n",
        "d = dict()\n",
        "for i in lst_1:\n",
        "  key = re.findall(r\"(?<=['])[^']+(?=['])\",str(type(i)))[0]\n",
        "  if d.get(key) is None:\n",
        "    d[key] = 1\n",
        "  else:\n",
        "    d[key] += 1\n",
        "\n",
        "print(d)\n",
        "\n"
      ],
      "metadata": {
        "id": "UHMAuQjWEWER",
        "colab": {
          "base_uri": "https://localhost:8080/"
        },
        "outputId": "8e6b39d1-a518-4bd8-9bbb-1f3fb466da8e"
      },
      "execution_count": 16,
      "outputs": [
        {
          "output_type": "stream",
          "name": "stdout",
          "text": [
            "{'str': 2, 'int': 4, 'tuple': 1, 'float': 1, 'dict': 1, 'function': 1}\n"
          ]
        }
      ]
    },
    {
      "cell_type": "markdown",
      "source": [
        "Задача 11.\n",
        "Даны два списка чисел, с повторами элементов внутри них. Составьте общий список из этих двух списков. Каждый элемент должен присутствовать наименьшее ненулевое число раз, исходя из его присутствия в исходных списках. Т.е. если число \"5\" присутствует в первом списке 3 раза, а во втором списке - 5 раз, значит, в конечном списке оно должно присутствовать 3 раза.\n",
        "\n",
        "lst_2_1 = [1, 2, 2, 2, 3, 5, 5, 5, 5, 5, 6, 6, 6]\n",
        "lst_2_2 = [1, 1, 1, 2, 4, 4, 5, 5, 6, 6, 6, 6, 6, 6, 7]\n"
      ],
      "metadata": {
        "id": "rqWba2IbEWaP"
      }
    },
    {
      "cell_type": "code",
      "source": [
        "lst_2_1 = [1, 2, 2, 2, 3, 5, 5, 5, 5, 5, 6, 6, 6]\n",
        "lst_2_2 = [1, 1, 1, 2, 4, 4, 5, 5, 6, 6, 6, 6, 6, 6, 7]\n",
        "\n",
        "def list2dict(lst):\n",
        "  d = dict()\n",
        "  for key in lst:\n",
        "   if d.get(key) is None:\n",
        "     d[key] = 1\n",
        "   else:\n",
        "     d[key] += 1\n",
        "  return d\n",
        "\n",
        "def target(lst1, lst2):\n",
        "  d1 = list2dict(lst1)\n",
        "  d2 = list2dict(lst2)\n",
        "  d = {**d1, **d2}\n",
        "  l = list()\n",
        "  for key in d.keys():\n",
        "    if d1.get(key) is None:\n",
        "      d[key] = d2[key]\n",
        "    elif d2.get(key) is None:\n",
        "      d[key] = d1[key]\n",
        "    else:\n",
        "      d[key] = min(d1[key], d2[key])\n",
        "    for i in range(d[key]):\n",
        "      l.append(key)\n",
        "  return l\n",
        "\n",
        "print(target(lst_2_1, lst_2_2))\n"
      ],
      "metadata": {
        "id": "0XuNxNxIEaLw",
        "colab": {
          "base_uri": "https://localhost:8080/"
        },
        "outputId": "3104563f-447a-4870-cee0-d42ef2d0c3b6"
      },
      "execution_count": 24,
      "outputs": [
        {
          "output_type": "stream",
          "name": "stdout",
          "text": [
            "[1, 2, 3, 5, 5, 6, 6, 6, 4, 4, 7]\n"
          ]
        }
      ]
    },
    {
      "cell_type": "code",
      "source": [
        "lst_2_1 = [1, 2, 2, 2, 3, 5, 5, 5, 5, 5, 6, 6, 6]\n",
        "lst_2_2 = [1, 1, 1, 2, 4, 4, 5, 5, 6, 6, 6, 6, 6, 6, 7]\n",
        "\n",
        "def target(lst1, lst2):\n",
        "  l = list()\n",
        "  for i in list(set(lst1 + lst2)):\n",
        "    if lst1.count(i) == 0:\n",
        "      a = lst2.count(i)\n",
        "    elif lst2.count(i) == 0:\n",
        "      a = lst1.count(i)\n",
        "    else:\n",
        "      a = min(lst1.count(i), lst2.count(i))\n",
        "    for j in range(a):\n",
        "      l.append(i)\n",
        "  return l\n",
        "\n",
        "print(target(lst_2_1, lst_2_2))\n"
      ],
      "metadata": {
        "colab": {
          "base_uri": "https://localhost:8080/"
        },
        "id": "xY5gSQ2i1flC",
        "outputId": "010dc6c3-5e29-49ea-b338-282c19f232cc"
      },
      "execution_count": 27,
      "outputs": [
        {
          "output_type": "stream",
          "name": "stdout",
          "text": [
            "[1, 2, 3, 4, 4, 5, 5, 6, 6, 6, 7]\n"
          ]
        }
      ]
    },
    {
      "cell_type": "markdown",
      "source": [
        "Задача 12.\n",
        "Дан неупорядоченный список чисел. Предполагая, что его элементы - значения масс, найдите индекс списка, наиболее близкий к координате его центра масс.\n",
        "\n",
        "(Гуглить про центр масс не воспрещается)\n",
        "\n",
        "lst_3 = [10, 20, 5, 50, 150, 10, 25, 100, 70, 30]"
      ],
      "metadata": {
        "id": "ERzn0HS3EakX"
      }
    },
    {
      "cell_type": "code",
      "source": [
        "lst_3 = [10, 20, 5, 50, 150, 10, 25, 100, 70, 30]\n",
        "\n",
        "def balance(lst,index):\n",
        "  sm1 = 0\n",
        "  sm2 = 0\n",
        "  for i in range(0,index):\n",
        "    sm1 += lst[i]\n",
        "  for i in range(index, len(lst)-1):\n",
        "    sm2 += lst[i]\n",
        "  return abs(sm2 - sm1)\n",
        "\n",
        "d = dict()\n",
        "for index in range(len(lst_3)):\n",
        "  d[index] = balance(lst_3, index)\n",
        "\n",
        "\n",
        "print(min(d.items(),key=lambda item: item[1])[0])"
      ],
      "metadata": {
        "id": "l6HUHjVyEeju",
        "colab": {
          "base_uri": "https://localhost:8080/"
        },
        "outputId": "a6c713be-17b5-4e13-877c-458663d35b98"
      },
      "execution_count": 41,
      "outputs": [
        {
          "output_type": "stream",
          "name": "stdout",
          "text": [
            "5\n"
          ]
        }
      ]
    }
  ]
}